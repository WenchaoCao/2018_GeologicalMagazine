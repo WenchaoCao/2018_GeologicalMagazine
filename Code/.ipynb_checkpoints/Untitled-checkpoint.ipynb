{
 "cells": [
  {
   "cell_type": "code",
   "execution_count": 1,
   "metadata": {
    "collapsed": true
   },
   "outputs": [],
   "source": [
    "%matplotlib inline\n",
    "from mpl_toolkits.basemap import Basemap\n",
    "import numpy as np\n",
    "from mpl_toolkits.axes_grid1 import make_axes_locatable\n",
    "import matplotlib.pyplot as plt\n",
    "import pandas as pd    \n",
    "from matplotlib import colors\n",
    "from matplotlib import legend\n",
    "import pygplates\n",
    "from matplotlib.patches import Polygon"
   ]
  },
  {
   "cell_type": "code",
   "execution_count": 2,
   "metadata": {
    "collapsed": true
   },
   "outputs": [],
   "source": [
    "# Import the lithologic data\n",
    "#point_feature_filename_coals = '/Users/wenchaocao/Research/41_Paleobiology_Paleotectonics/1_csv2shapefile/PresentDay_LithData_Matthews2016_410-0Ma/CEG/PresentDay_LithData_Matthews2016_CEG_410-0Ma_Integrated/PresentDay_LithData_Matthews2016_CEG_410-0Ma_ToAgeCorrected.shp'\n",
    "\n",
    "# deleted invalid data using EndAge\n",
    "#point_feature_filename_coals = '/Users/wenchaocao/Research/41_Paleobiology_Paleotectonics/1_csv2shapefile/PresentDay_LithData_Matthews2016_410-0Ma/CEG/PresentDay_LithData_Matthews2016_CEG_410-0Ma_ToAgeCorrected_CookCut_InvalidDataDeleted_UsingEndAge.shp'\n",
    "\n",
    "# deleted invalid data using MedianAge\n",
    "#point_feature_filename_coals = '/Users/wenchaocao/Research/41_Paleobiology_Paleotectonics/1_csv2shapefile/PresentDay_LithData_Matthews2016_410-0Ma/CEG/PresentDay_LithData_Matthews2016_CEG_410-0Ma_ToAgeCorrected_AddStartAgeEngAge_CookCut_DeleteDataUsingMedianAge_FromAgeToAgeChangedBack.shp'\n",
    "\n",
    "# PresentDay_LithData_Matthews2016_CEG_410-0Ma_ToAgeCorrected_CookCut_DeleteDataUsingStartAge\n",
    "point_feature_filename_coals = '/Users/wenchaocao/Research/41_Paleobiology_Paleotectonics/1_csv2shapefile/PresentDay_LithData_Matthews2016_410-0Ma/CEG/PresentDay_LithData_Matthews2016_CEG_410-0Ma_ToAgeCorrected_CookCut_DeleteDataUsingStartAge.shp'\n",
    "\n",
    "input_feature_collection_coals = pygplates.FeatureCollection(point_feature_filename_coals)\n",
    "\n",
    "#Rotation:Global_EB_410-0Ma_GK07_Matthews_etal_PMAG_fixed_crossovers.rot\n",
    "input_rotation_filename_Matthews2016PMAG_fixed = ['/Users/wenchaocao/Research/41_Paleobiology_Paleotectonics/Rotations/Global_EB_410-0Ma_GK07_Matthews_etal_PMAG_fixed_crossovers.rot']\n",
    "\n",
    "# empty rotation\n",
    "#input_rotation_filename_Matthews2016PMAG_fixed = ['/Users/wenchaocao/Desktop/New_Rotation.rot']\n",
    "\n",
    "rotation_model = pygplates.RotationModel(input_rotation_filename_Matthews2016PMAG_fixed)\n",
    "\n",
    "\n",
    "# contient polygons\n",
    "continental_polygons = pygplates.FeatureCollection('/Users/wenchaocao/Research/41_Paleobiology_Paleotectonics/Rotations/ContPolys/PresentDay_ContinentalPolygons_Matthews++.shp')\n",
    "\n",
    "\n",
    "# test: continental polysons\n",
    "#continental_polygons = pygplates.FeatureCollection('/Users/wenchaocao/Research/41_Paleobiology_Paleotectonics/1_csv2shapefile/PresentDay_LithData_Matthews2016_410-0Ma/CEG/PresentDay_ContinentalPolygons_Matthews++.shp')\n"
   ]
  },
  {
   "cell_type": "code",
   "execution_count": 3,
   "metadata": {
    "collapsed": false
   },
   "outputs": [
    {
     "name": "stdout",
     "output_type": "stream",
     "text": [
      "406.0\n",
      "390.5\n",
      "385.5\n",
      "371.0\n",
      "345.0\n",
      "327.0\n",
      "315.0\n",
      "303.0\n",
      "294.5\n",
      "271.0\n",
      "249.5\n",
      "242.0\n",
      "219.0\n",
      "182.5\n",
      "154.5\n",
      "129.0\n",
      "101.4\n",
      "77.9\n",
      "61.0\n",
      "51.9\n",
      "40.85\n",
      "28.45\n",
      "14.15\n",
      "0.0\n"
     ]
    }
   ],
   "source": [
    "age_range_list = [(419,393),   # Early Devonian\n",
    "           (393,388),   # Middle Devonian (Eifelian)\n",
    "           (388,383),   # Middle Devonian (Givetian)\n",
    "           (383,359),   # Late Devonian\n",
    "           (359,331),   # Early Carboniferous (Tournaisian-Visean)\n",
    "           (331,323),   # Early Carboniferous (Serpukhovian)\n",
    "           (323,307),   # Late Carboniferous (Bashkirian-Moscovian)\n",
    "           (307,299),   # Late Carboniferous (Kasimovian-Gzhelian)\n",
    "           (299,290),   # Early Permian (Asselian-Sakmarian)\n",
    "           (290,252),   # Middle-Late Permian (Artinskian-Lopingian)\n",
    "           (252,247),   # Early Triassic\n",
    "           (247,237),   # Middle Triassic\n",
    "           (237,201),   # Late Triassic\n",
    "           (201,164),   # Early and Middle Jurassic\n",
    "           (164,145),   # Late Jurassic\n",
    "           (145,113),   # Early Cretaceous (Berriasian-Aptian)\n",
    "           (113,89.8),   # Late Cretaceous (Albian-Turonian)\n",
    "           (89.8,66.0),   # Late Cretaceous (Coniacian-Maastrichtian)\n",
    "           (66.0,56.0),   # Paleocene\n",
    "           (56.0,47.8),  # Early Eocene (Ypresian?)\n",
    "           (47.8,33.9),  # Middle and Late Eocene\n",
    "           (33.9,23.0),  # Oligocene\n",
    "           (23.0,5.3),    # Miocene\n",
    "           (0.01,-0.01)]\n",
    "#print age_range_list[5:]\n",
    "\n",
    "i = 0\n",
    "for i in np.arange(0,24,1):\n",
    "    Age = np.mean(age_range_list[i])\n",
    "    print Age"
   ]
  },
  {
   "cell_type": "code",
   "execution_count": 4,
   "metadata": {
    "collapsed": true
   },
   "outputs": [],
   "source": [
    "def get_paleolithology(point_features,rotation_model):\n",
    "    pX = []\n",
    "    pY = []\n",
    "    pAge = []\n",
    "    LithCode=[]\n",
    "    reconstructed_points = []\n",
    "    for point in input_feature_collection_coals:\n",
    "        lithcode = point.get_shapefile_attribute('LithCode')\n",
    "        #if lithcode == 'C' and point.get_reconstruction_plate_id()!=0:\n",
    "        #if lithcode == 'E' and point.get_reconstruction_plate_id()!=0:\n",
    "        #if lithcode== 'T' or lithcode=='D' or lithcode=='G' and point.get_reconstruction_plate_id()!=0:\n",
    "        BirthTime = np.median(point.get_valid_time())\n",
    "        if BirthTime<410:\n",
    "            pAge.append(BirthTime)\n",
    "            point_rotation = rotation_model.get_rotation(BirthTime, point.get_reconstruction_plate_id(), anchor_plate_id=0) #obtain rotating rules\n",
    "            reconstructed_point = point_rotation * point.get_geometry() # carry out reconstruction\n",
    "            pX.append(reconstructed_point.to_lat_lon()[1])\n",
    "            pY.append(reconstructed_point.to_lat_lon()[0])\n",
    "            reconstructed_points.append(point)\n",
    "            LithCode.append(point.get_shapefile_attribute('LithCode'))\n",
    "    return pX,pY,pAge,LithCode\n",
    "\n",
    "# reconstruct all data and get their x, y coordinates and ages\n",
    "pX,pY,pAge,LithCode = get_paleolithology(input_feature_collection_coals,rotation_model)\n",
    "data_xy = []\n",
    "data_xy = zip(LithCode,pY,pX,pAge)\n",
    "#print data_xy"
   ]
  },
  {
   "cell_type": "code",
   "execution_count": 5,
   "metadata": {
    "collapsed": true
   },
   "outputs": [],
   "source": [
    "#df = pd.DataFrame(data_xy)\n",
    "#writer = pd.ExcelWriter('LithData_PaleoXY_Matthews_New.xlsx', engine='xlsxwriter') # Evaporite\n",
    "#df.to_excel(writer, sheet_name='Sheet1')\n",
    "#writer.save()"
   ]
  },
  {
   "cell_type": "code",
   "execution_count": 6,
   "metadata": {
    "collapsed": true
   },
   "outputs": [],
   "source": [
    "#data_xy = pd.read_excel('/Users/wenchaocao/Research/21_Python/2_GM/LithData_PaleoXY_Matthews_New.xlsx')\n",
    "#data_xy.iloc[:,0]"
   ]
  },
  {
   "cell_type": "code",
   "execution_count": null,
   "metadata": {
    "collapsed": true
   },
   "outputs": [],
   "source": []
  }
 ],
 "metadata": {
  "kernelspec": {
   "display_name": "Python 2",
   "language": "python",
   "name": "python2"
  },
  "language_info": {
   "codemirror_mode": {
    "name": "ipython",
    "version": 2
   },
   "file_extension": ".py",
   "mimetype": "text/x-python",
   "name": "python",
   "nbconvert_exporter": "python",
   "pygments_lexer": "ipython2",
   "version": "2.7.13"
  },
  "toc": {
   "nav_menu": {},
   "number_sections": true,
   "sideBar": true,
   "skip_h1_title": false,
   "title_cell": "Table of Contents",
   "title_sidebar": "Contents",
   "toc_cell": false,
   "toc_position": {},
   "toc_section_display": true,
   "toc_window_display": false
  }
 },
 "nbformat": 4,
 "nbformat_minor": 2
}
