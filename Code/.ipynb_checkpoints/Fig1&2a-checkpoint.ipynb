{
 "cells": [
  {
   "cell_type": "markdown",
   "metadata": {},
   "source": [
    "# Materials associated with the paper: \n",
    "\n",
    "Cao, W., Williams, S., Flament, N., Zahirovic, S., Scotese, C., and Müller, R. D., 2018. Paleolatitudinal distribution of lithologic indicators of climate in a paleogeographic framework. Geological Magazine, 1-24. doi:10.1017/S0016756818000110.\n",
    "\n",
    "### This Jupyter notebook is used to convert lithologic data from tabular foramt into shapefile format\n",
    "\n",
    "The code in this notebook is written in Python 2.7. It utilises the standard scientific Python modules including numpy, pandas, mpl_toolkits, matplotlib and the open source modules pygplates which provides a Python API to the GPlates software (https://www.gplates.org/).\n"
   ]
  },
  {
   "cell_type": "code",
   "execution_count": 9,
   "metadata": {
    "collapsed": true
   },
   "outputs": [],
   "source": [
    "#%matplotlib inline\n",
    "from mpl_toolkits.basemap import Basemap\n",
    "import numpy as np\n",
    "from mpl_toolkits.axes_grid1 import make_axes_locatable\n",
    "import matplotlib.pyplot as plt\n",
    "import pandas as pd    \n",
    "from matplotlib import colors\n",
    "from matplotlib import legend\n",
    "import pygplates\n",
    "from matplotlib.patches import Polygon\n",
    "import os"
   ]
  },
  {
   "cell_type": "code",
   "execution_count": 3,
   "metadata": {
    "collapsed": false
   },
   "outputs": [],
   "source": [
    "# Import the lithologic data\n",
    "#point_feature_filename_coals = '/Users/wenchaocao/Research/41_Paleobiology_Paleotectonics/1_csv2shapefile/PresentDay_LithData_Matthews2016_410-0Ma/CEG/PresentDay_LithData_Matthews2016_CEG_410-0Ma_Integrated/PresentDay_LithData_Matthews2016_CEG_410-0Ma_ToAgeCorrected.shp'\n",
    "\n",
    "# deleted invalid data using EndAge\n",
    "#point_feature_filename_coals = '/Users/wenchaocao/Research/41_Paleobiology_Paleotectonics/1_csv2shapefile/PresentDay_LithData_Matthews2016_410-0Ma/CEG/PresentDay_LithData_Matthews2016_CEG_410-0Ma_ToAgeCorrected_CookCut_InvalidDataDeleted_UsingEndAge.shp'\n",
    "\n",
    "# deleted invalid data using MedianAge\n",
    "#point_feature_filename_coals = '/Users/wenchaocao/Research/41_Paleobiology_Paleotectonics/1_csv2shapefile/PresentDay_LithData_Matthews2016_410-0Ma/CEG/PresentDay_LithData_Matthews2016_CEG_410-0Ma_ToAgeCorrected_AddStartAgeEngAge_CookCut_DeleteDataUsingMedianAge_FromAgeToAgeChangedBack.shp'\n",
    "\n",
    "# PresentDay_LithData_Matthews2016_CEG_410-0Ma_ToAgeCorrected_CookCut_DeleteDataUsingStartAge\n",
    "point_feature_filename_coals = '../Data/Lithologic_Data/PresentDay_LithData_Matthews2016_CEG_410-0Ma_ToAgeCorrected_CookCut_DeleteDataUsingStartAge.shp'\n",
    "\n",
    "input_feature_collection_coals = pygplates.FeatureCollection(point_feature_filename_coals)\n",
    "\n",
    "#Rotation:Global_EB_410-0Ma_GK07_Matthews_etal_PMAG_fixed_crossovers.rot\n",
    "input_rotation_filename_Matthews2016PMAG_fixed = ['../Data/Tectonic_model/Global_EB_410-0Ma_GK07_Matthews_etal_PMAG_fixed_crossovers.rot']\n",
    "\n",
    "# empty rotation\n",
    "#input_rotation_filename_Matthews2016PMAG_fixed = ['/Users/wenchaocao/Desktop/New_Rotation.rot']\n",
    "\n",
    "rotation_model = pygplates.RotationModel(input_rotation_filename_Matthews2016PMAG_fixed)\n",
    "\n",
    "\n",
    "# contient polygons\n",
    "continental_polygons = pygplates.FeatureCollection('../Data/Tectonic_model/ContPolys/PresentDay_ContinentalPolygons_Matthews++.shp')\n",
    "\n",
    "\n",
    "# test: continental polysons\n",
    "#continental_polygons = pygplates.FeatureCollection('/Users/wenchaocao/Research/41_Paleobiology_Paleotectonics/1_csv2shapefile/PresentDay_LithData_Matthews2016_410-0Ma/CEG/PresentDay_ContinentalPolygons_Matthews++.shp')"
   ]
  },
  {
   "cell_type": "code",
   "execution_count": 4,
   "metadata": {
    "collapsed": false
   },
   "outputs": [
    {
     "name": "stdout",
     "output_type": "stream",
     "text": [
      "406.0\n",
      "390.5\n",
      "385.5\n",
      "371.0\n",
      "345.0\n",
      "327.0\n",
      "315.0\n",
      "303.0\n",
      "294.5\n",
      "271.0\n",
      "249.5\n",
      "242.0\n",
      "219.0\n",
      "182.5\n",
      "154.5\n",
      "129.0\n",
      "101.4\n",
      "77.9\n",
      "61.0\n",
      "51.9\n",
      "40.85\n",
      "28.45\n",
      "14.15\n",
      "0.0\n"
     ]
    }
   ],
   "source": [
    "age_range_list = [(419,393),   # Early Devonian\n",
    "           (393,388),   # Middle Devonian (Eifelian)\n",
    "           (388,383),   # Middle Devonian (Givetian)\n",
    "           (383,359),   # Late Devonian\n",
    "           (359,331),   # Early Carboniferous (Tournaisian-Visean)\n",
    "           (331,323),   # Early Carboniferous (Serpukhovian)\n",
    "           (323,307),   # Late Carboniferous (Bashkirian-Moscovian)\n",
    "           (307,299),   # Late Carboniferous (Kasimovian-Gzhelian)\n",
    "           (299,290),   # Early Permian (Asselian-Sakmarian)\n",
    "           (290,252),   # Middle-Late Permian (Artinskian-Lopingian)\n",
    "           (252,247),   # Early Triassic\n",
    "           (247,237),   # Middle Triassic\n",
    "           (237,201),   # Late Triassic\n",
    "           (201,164),   # Early and Middle Jurassic\n",
    "           (164,145),   # Late Jurassic\n",
    "           (145,113),   # Early Cretaceous (Berriasian-Aptian)\n",
    "           (113,89.8),   # Late Cretaceous (Albian-Turonian)\n",
    "           (89.8,66.0),   # Late Cretaceous (Coniacian-Maastrichtian)\n",
    "           (66.0,56.0),   # Paleocene\n",
    "           (56.0,47.8),  # Early Eocene (Ypresian?)\n",
    "           (47.8,33.9),  # Middle and Late Eocene\n",
    "           (33.9,23.0),  # Oligocene\n",
    "           (23.0,5.3),    # Miocene\n",
    "           (0.01,-0.01)]\n",
    "#print age_range_list[5:]\n",
    "\n",
    "i = 0\n",
    "for i in np.arange(0,24,1):\n",
    "    Age = np.mean(age_range_list[i])\n",
    "    print Age"
   ]
  },
  {
   "cell_type": "code",
   "execution_count": 5,
   "metadata": {
    "collapsed": true
   },
   "outputs": [],
   "source": [
    "def get_paleolithology(point_features,rotation_model):\n",
    "    pX = []\n",
    "    pY = []\n",
    "    pAge = []\n",
    "    LithCode=[]\n",
    "    reconstructed_points = []\n",
    "    for point in input_feature_collection_coals:\n",
    "        lithcode = point.get_shapefile_attribute('LithCode')\n",
    "        #if lithcode == 'C' and point.get_reconstruction_plate_id()!=0:\n",
    "        #if lithcode == 'E' and point.get_reconstruction_plate_id()!=0:\n",
    "        #if lithcode== 'T' or lithcode=='D' or lithcode=='G' and point.get_reconstruction_plate_id()!=0:\n",
    "        BirthTime = np.median(point.get_valid_time())\n",
    "        if BirthTime<410:\n",
    "            pAge.append(BirthTime)\n",
    "            point_rotation = rotation_model.get_rotation(BirthTime, point.get_reconstruction_plate_id(), anchor_plate_id=0) #obtain rotating rules\n",
    "            reconstructed_point = point_rotation * point.get_geometry() # carry out reconstruction\n",
    "            pX.append(reconstructed_point.to_lat_lon()[1])\n",
    "            pY.append(reconstructed_point.to_lat_lon()[0])\n",
    "            reconstructed_points.append(point)\n",
    "            LithCode.append(point.get_shapefile_attribute('LithCode'))\n",
    "    return pX,pY,pAge,LithCode\n",
    "\n",
    "# reconstruct all data and get their x, y coordinates and ages\n",
    "pX,pY,pAge,LithCode = get_paleolithology(input_feature_collection_coals,rotation_model)\n",
    "data_xy = []\n",
    "data_xy = zip(LithCode,pY,pX,pAge)\n",
    "#print data_xy"
   ]
  },
  {
   "cell_type": "code",
   "execution_count": 7,
   "metadata": {
    "collapsed": false
   },
   "outputs": [
    {
     "name": "stdout",
     "output_type": "stream",
     "text": [
      "406.0\n",
      "Warning: Cannot label meridians on Mollweide basemap390.5\n",
      "Warning: Cannot label meridians on Mollweide basemap385.5\n",
      "Warning: Cannot label meridians on Mollweide basemap371.0\n",
      "Warning: Cannot label meridians on Mollweide basemap345.0\n",
      "Warning: Cannot label meridians on Mollweide basemap327.0\n",
      "Warning: Cannot label meridians on Mollweide basemap315.0\n",
      "Warning: Cannot label meridians on Mollweide basemap303.0\n",
      "Warning: Cannot label meridians on Mollweide basemap294.5\n",
      "Warning: Cannot label meridians on Mollweide basemap271.0\n",
      "Warning: Cannot label meridians on Mollweide basemap249.5\n",
      "Warning: Cannot label meridians on Mollweide basemap242.0\n",
      "Warning: Cannot label meridians on Mollweide basemap219.0\n",
      "Warning: Cannot label meridians on Mollweide basemap182.5\n",
      "Warning: Cannot label meridians on Mollweide basemap154.5\n",
      "Warning: Cannot label meridians on Mollweide basemap129.0\n",
      "Warning: Cannot label meridians on Mollweide basemap101.4\n",
      "Warning: Cannot label meridians on Mollweide basemap77.9\n",
      "Warning: Cannot label meridians on Mollweide basemap61.0\n",
      "Warning: Cannot label meridians on Mollweide basemap51.9\n",
      "Warning: Cannot label meridians on Mollweide basemap40.85\n",
      "Warning: Cannot label meridians on Mollweide basemap28.45\n",
      "Warning: Cannot label meridians on Mollweide basemap14.15\n",
      "Warning: Cannot label meridians on Mollweide basemap0.0\n",
      "Warning: Cannot label meridians on Mollweide basemap"
     ]
    }
   ],
   "source": [
    "#fig, ax = plt.subplots(figsize=(20,18))\n",
    "\n",
    "for i in np.arange(0,24,1):\n",
    "    \n",
    "    fig, ax = plt.subplots(figsize=(6,4))\n",
    "    \n",
    "    #ax = plt.subplot(6,4,i+1)\n",
    "    \n",
    "    # Reconstruct Continental Polygons\n",
    "    age = np.mean(age_range_list[i])\n",
    "    print age\n",
    "    output_continent = 'temp.shp'\n",
    "    pygplates.reconstruct(continental_polygons,rotation_model,output_continent,age,anchor_plate_id=0)    \n",
    "    \n",
    "    # plot continental polygons\n",
    "    # resolution: c (crude), l (low), i (intermediate), h (high), f (full) or None\n",
    "    m = Basemap(projection='moll',lat_0=0,lon_0=0,resolution='c', ax=ax)\n",
    "    \n",
    "    m.drawparallels(np.arange(-90,90,30),labels=[1,1,0,0],color='white', textcolor='black',linewidth=0.0)\n",
    "    m.drawmeridians(np.arange(-180,180,60),labels=[0,0,0,1],color='white', textcolor='black',linewidth=0.0)\n",
    "    \n",
    "    shp_info = m.readshapefile('temp','shp',drawbounds=False,color='red')\n",
    "    for nshape,seg in enumerate(m.shp):\n",
    "        poly = Polygon(seg,facecolor='lightgrey',edgecolor='grey',linewidth=0.2)\n",
    "        ax.add_patch(poly)\n",
    "    \n",
    "    # plot the lithologic data\n",
    "    x,y = m(np.asarray(pX),np.asarray(pY))\n",
    "    # Coals\n",
    "    index = np.where((np.array(pAge) == np.mean(age_range_list[i])) & (np.array(LithCode) == 'C'))\n",
    "    m.plot(np.array(x)[index],np.array(y)[index],'o',color='green',markeredgecolor='white',markersize=4, markeredgewidth=0.2) #markeredgewidth=0.2\n",
    "    # Evaporites\n",
    "    index = np.where((np.array(pAge) == np.mean(age_range_list[i])) & (np.array(LithCode) == 'E'))\n",
    "    m.plot(np.array(x)[index],np.array(y)[index],'o',color='red',markeredgecolor='white',markersize=4, markeredgewidth=0.2)\n",
    "    # Glacial\n",
    "    index = np.where((np.array(pAge) == np.mean(age_range_list[i])) & ((np.array(LithCode) == 'T') | (np.array(LithCode) == 'D') | (np.array(LithCode) == 'G')))\n",
    "    m.plot(np.array(x)[index],np.array(y)[index],'o',color='blue',markeredgecolor='white',markersize=4, markeredgewidth=0.2)\n",
    "\n",
    "    \n",
    "    plt.title('%d Ma' % age, fontsize=16)\n",
    "    plt.tight_layout()\n",
    "    plt.savefig('Output/Fig1/Fig1_%dMa.pdf' % age) # 1000\n",
    "    #plt.show()\n"
   ]
  },
  {
   "cell_type": "code",
   "execution_count": 10,
   "metadata": {
    "collapsed": false
   },
   "outputs": [
    {
     "data": {
      "text/plain": [
       "0"
      ]
     },
     "execution_count": 10,
     "metadata": {},
     "output_type": "execute_result"
    }
   ],
   "source": [
    "os.system('rm *.dbf *.prj *.shx *.shp')"
   ]
  },
  {
   "cell_type": "code",
   "execution_count": null,
   "metadata": {
    "collapsed": true
   },
   "outputs": [],
   "source": []
  }
 ],
 "metadata": {
  "kernelspec": {
   "display_name": "Python 2",
   "language": "python",
   "name": "python2"
  },
  "language_info": {
   "codemirror_mode": {
    "name": "ipython",
    "version": 2
   },
   "file_extension": ".py",
   "mimetype": "text/x-python",
   "name": "python",
   "nbconvert_exporter": "python",
   "pygments_lexer": "ipython2",
   "version": "2.7.13"
  },
  "toc": {
   "nav_menu": {},
   "number_sections": true,
   "sideBar": true,
   "skip_h1_title": false,
   "title_cell": "Table of Contents",
   "title_sidebar": "Contents",
   "toc_cell": false,
   "toc_position": {},
   "toc_section_display": true,
   "toc_window_display": false
  }
 },
 "nbformat": 4,
 "nbformat_minor": 2
}
