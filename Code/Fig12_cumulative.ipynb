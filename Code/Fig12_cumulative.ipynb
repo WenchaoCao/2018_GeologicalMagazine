{
 "cells": [
  {
   "cell_type": "code",
   "execution_count": null,
   "metadata": {
    "collapsed": true
   },
   "outputs": [],
   "source": [
    "### Figure of combined coals, evaporites and glacial deposits"
   ]
  },
  {
   "cell_type": "code",
   "execution_count": 303,
   "metadata": {
    "collapsed": false,
    "scrolled": false
   },
   "outputs": [],
   "source": [
    "import pandas as pd\n",
    "import numpy as np\n",
    "import matplotlib.pyplot as plt\n",
    "from matplotlib.ticker import MultipleLocator, FormatStrFormatter\n",
    "\n",
    "%matplotlib inline\n",
    "\n",
    "# Input the percent of data (Coal, Evaporite and TDG)\n",
    "# Coals\n",
    "#### Folder2_1\n",
    "#data_Matthews_raw = pd.read_excel('/Users/wenchaocao/Research/41_Paleobiology_Paleotectonics/2_1_LithData_Number_InEachBand/Coals_Golonka_Origianl_410-0Ma_BinningSize5.xlsx')\n",
    "#### Folder3\n",
    "#data_Matthews_raw = pd.read_excel('/Users/wenchaocao/Research/41_Paleobiology_Paleotectonics/3_LithData_Number_InEachBand_SamplingBiasRemoved/Coals_Matthews2016_SamplingBiasCorrected_410-0Ma_BinningSize5.xlsx')\n",
    "#### Folder9_1 \n",
    "#data_Matthews_raw = pd.read_excel('/Users/wenchaocao/Research/41_Paleobiology_Paleotectonics/9_1_LithData_TwoBiasRemoved_CorrectedBeforeFlipping/Coals_Matthews2016_TwoBiasRemoved_CorrectedBeforeFlipping.xlsx')\n",
    "#### Folder9_3\n",
    "data_Matthews_raw = pd.read_excel('/Users/wenchaocao/Research/41_Paleobiology_Paleotectonics/9_3_LithData_TwoBiasRemoved_CorrectedBeforeFlipping_Doubled/Coals_Matthews2016_TwoBiasRemoved_CorrectedBeforeFlipping_Flipped_Doubled_BinningSize5.xlsx')\n",
    "\n",
    "# Evaporites\n",
    "#### Folder2_1\n",
    "#data_Matthews_raw = pd.read_excel('/Users/wenchaocao/Research/41_Paleobiology_Paleotectonics/2_1_LithData_Number_InEachBand/Evaporites_Golonka_Origianl_410-0Ma_BinningSize5.xlsx')\n",
    "#### Folder3\n",
    "#data_Matthews_raw = pd.read_excel('/Users/wenchaocao/Research/41_Paleobiology_Paleotectonics/3_LithData_Number_InEachBand_SamplingBiasRemoved/Evaporites_Matthews2016_SamplingBiasCorrected_410-0Ma_BinningSize5.xlsx')\n",
    "#### Folder9_1 \n",
    "#data_Matthews_raw = pd.read_excel('/Users/wenchaocao/Research/41_Paleobiology_Paleotectonics/9_1_LithData_TwoBiasRemoved_CorrectedBeforeFlipping/Evaporites_Matthews2016_TwoBiasRemoved_CorrectedBeforeFlipping.xlsx')\n",
    "#### Folder9_3\n",
    "#data_Matthews_raw = pd.read_excel('/Users/wenchaocao/Research/41_Paleobiology_Paleotectonics/9_3_LithData_TwoBiasRemoved_CorrectedBeforeFlipping_Doubled/Evaporites_Matthews2016_TwoBiasRemoved_CorrectedBeforeFlipping_Flipped_Doubled_BinningSize5.xlsx')\n",
    "\n",
    "# TDG\n",
    "#### Folder2_1\n",
    "#data_Matthews_raw = pd.read_excel('/Users/wenchaocao/Research/41_Paleobiology_Paleotectonics/2_1_LithData_Number_InEachBand/Glacial_Golonka_Origianl_410-0Ma_BinningSize5.xlsx')\n",
    "#### Folder3\n",
    "#data_Matthews_raw = pd.read_excel('/Users/wenchaocao/Research/41_Paleobiology_Paleotectonics/3_LithData_Number_InEachBand_SamplingBiasRemoved/Glacial_Matthews2016_SamplingBiasCorrected_410-0Ma_BinningSize5.xlsx')\n",
    "#### Folder9_1 \n",
    "#data_Matthews_raw = pd.read_excel('/Users/wenchaocao/Research/41_Paleobiology_Paleotectonics/9_1_LithData_TwoBiasRemoved_CorrectedBeforeFlipping/Glacial_Matthews2016_TwoBiasRemoved_CorrectedBeforeFlipping.xlsx')\n",
    "#### Folder9_3\n",
    "#data_Matthews_raw = pd.read_excel('/Users/wenchaocao/Research/41_Paleobiology_Paleotectonics/9_3_LithData_TwoBiasRemoved_CorrectedBeforeFlipping_Doubled/Glacial_Matthews2016_TwoBiasRemoved_CorrectedBeforeFlipping_Flipped_Doubled_BinningSize5.xlsx')\n"
   ]
  },
  {
   "cell_type": "code",
   "execution_count": 304,
   "metadata": {
    "collapsed": false
   },
   "outputs": [
    {
     "data": {
      "image/png": "[encoded data removed]",
      "text/plain": [
       "<matplotlib.figure.Figure at 0x116d2b950>"
      ]
     },
     "metadata": {},
     "output_type": "display_data"
    }
   ],
   "source": [
    "fig, ax0 = plt.subplots(figsize=(4,1.5))\n",
    "\n",
    "xedges = np.arange(-180, 181, 5) #longtitude\n",
    "yedges = np.arange(-90, 91, 5) #latitude\n",
    "\n",
    "# for Folder2_1, Folder3\n",
    "#ax0.bar(np.array(yedges[:-1]),list(np.sum(data_Matthews_raw,axis=0)), width=5, color='lightgrey')  #,alpha=0.4\n",
    "\n",
    "# for Folder9_1, Folder9_3\n",
    "ax0.bar(np.array(yedges[:-1]),np.sum(data_Matthews_raw,axis=1)/np.sum(np.sum(data_Matthews_raw,axis=1)), width=5, color='lightgrey') #align='center',\n",
    "#print np.sum(data_Matthews_raw,axis=1)/np.sum(np.sum(data_Matthews_raw,axis=1))\n",
    "\n",
    "ax0.set_xticks(np.arange(-90, 91, 30))\n",
    "ax0.set_xticklabels([])\n",
    "ax0.set_xlim((90,-90))\n",
    "ax0.set_ylim(ymin=0)\n",
    "#axes[23-i].set_ylim((0,0.01))\n",
    "ax0.xaxis.set_tick_params(direction='out') #labelsize=12,\n",
    "#plt.setp(axes[i].get_xticklabels(), fontsize=12.) #,rotation=50\n",
    "ax0.yaxis.set_tick_params(labelsize=14,direction='out') #\n",
    "ax0.xaxis.set_ticks_position('both') # bottom\n",
    "ax0.set_yticks(ax0.get_yticks()[::2]) # set the major ticks\n",
    "interval = np.diff(ax0.get_yticks())[0]\n",
    "ax0.yaxis.set_minor_locator(MultipleLocator(interval/2))\n",
    "ax0.tick_params(which = 'both', direction = 'out') # if only want to set y-axis: axes[1,2].yaxis.set_tick_params(labelsize=12,direction='out')\n",
    "ax0.yaxis.set_ticks_position('left')\n",
    "\n",
    "plt.savefig('Coals_Folder9_3.pdf')"
   ]
  },
  {
   "cell_type": "code",
   "execution_count": 305,
   "metadata": {
    "collapsed": true
   },
   "outputs": [],
   "source": [
    "### Make accumulated SiZer curves"
   ]
  },
  {
   "cell_type": "code",
   "execution_count": 372,
   "metadata": {
    "collapsed": false
   },
   "outputs": [
    {
     "data": {
      "image/png": "[encoded data removed]",
      "text/plain": [
       "<matplotlib.figure.Figure at 0x118d801d0>"
      ]
     },
     "metadata": {},
     "output_type": "display_data"
    }
   ],
   "source": [
    "fig, axes = plt.subplots(figsize=(4, 1.5))\n",
    "\n",
    "yedges = np.arange(-90, 91, 5) #latitude\n",
    "\n",
    "'''\n",
    "##############################################\n",
    "# Matthews2016\n",
    "# Coals\n",
    "data_coal_sizer_Matthews2016 = pd.read_table('/Users/wenchaocao/Research/33_MatLab/Library/Feature_modified/Smoothing/AccumulatedSiZerCurves/Coals_Matthews2016_Folder9_3/Data_XY_BestFitting_0.txt',header=None, delimiter=r\"\\s+\")\n",
    "#axes[23-i].fill_between(data_coal_sizer_Matthews2016.iloc[:,0],0,data_coal_sizer_Matthews2016.iloc[:,1]/np.sum(data_coal_sizer_Matthews2016.iloc[:,1]),facecolor='blue', interpolate=False, alpha=0.3) #,linewidth=2.0\n",
    "axes.plot(data_coal_sizer_Matthews2016.iloc[:,0],data_coal_sizer_Matthews2016.iloc[:,1],color='black',linewidth=2.0)\n",
    "\n",
    "#######################\n",
    "# HDR of coals\n",
    "data_raw_hdr = pd.read_csv('/Users/wenchaocao/Research/41_Paleobiology_Paleotectonics/HDR/Accumulated_Matthews2016_TwoBiasRemoved_CorrectedBeforeFlipping_Flipped_Doubled_BinningSize5_Normalised/hdr_coals.csv')\n",
    "data_hdr = np.array(data_raw_hdr)\n",
    "boundary_50CI_1 = data_hdr[2,1]\n",
    "boundary_95CI_1 = data_hdr[0,1]\n",
    "print boundary_95CI_1\n",
    "\n",
    "y_50 = np.interp(boundary_50CI_1, data_coal_sizer_Matthews2016.iloc[:,0], data_coal_sizer_Matthews2016.iloc[:,1])\n",
    "y_95 = np.interp(boundary_95CI_1, data_coal_sizer_Matthews2016.iloc[:,0], data_coal_sizer_Matthews2016.iloc[:,1])\n",
    "print y_95\n",
    "\n",
    "y_95_right = np.interp(82.3261, data_coal_sizer_Matthews2016.iloc[:,0], data_coal_sizer_Matthews2016.iloc[:,1])\n",
    "print y_95_right\n",
    "\n",
    "axes.fill_between(data_coal_sizer_Matthews2016.iloc[:,0],data_coal_sizer_Matthews2016.iloc[:,1],where=data_coal_sizer_Matthews2016.iloc[:,1] > y_95,color='grey',alpha=0.3,linewidth=0) # ,edgecolor='grey'\n",
    "#axes.fill_between(data_coal_sizer.iloc[:,0],data_coal_sizer.iloc[:,1],where=data_coal_sizer.iloc[:,1] > y_75,color='grey',alpha=0.4) #linewidth=2.0,\n",
    "axes.fill_between(data_coal_sizer_Matthews2016.iloc[:,0],data_coal_sizer_Matthews2016.iloc[:,1],where=data_coal_sizer_Matthews2016.iloc[:,1] > y_50,color='grey',alpha=0.5,linewidth=0) #linewidth=.0,\n",
    "'''\n",
    "\n",
    "'''\n",
    "#######################\n",
    "# Evaporites\n",
    "data_coal_sizer_Matthews2016 = pd.read_table('/Users/wenchaocao/Research/33_MatLab/Library/Feature_modified/Smoothing/AccumulatedSiZerCurves/Evaporites_Matthews2016_Folder9_3/Data_XY_BestFitting_0.txt',header=None, delimiter=r\"\\s+\")\n",
    "#axes.fill_between(data_coal_sizer_Matthews2016.iloc[:,0],0,data_coal_sizer_Matthews2016.iloc[:,1]/np.sum(data_coal_sizer_Matthews2016.iloc[:,1]),facecolor='blue', interpolate=False, alpha=0.3) #,linewidth=2.0\n",
    "axes.plot(data_coal_sizer_Matthews2016.iloc[:,0],data_coal_sizer_Matthews2016.iloc[:,1],color='black',linewidth=2.0)\n",
    "\n",
    "# HDR\n",
    "data_raw_hdr = pd.read_csv('/Users/wenchaocao/Research/41_Paleobiology_Paleotectonics/HDR/Accumulated_Matthews2016_TwoBiasRemoved_CorrectedBeforeFlipping_Flipped_Doubled_BinningSize5_Normalised/hdr_evaporites.csv')\n",
    "data_hdr = np.array(data_raw_hdr)\n",
    "boundary_50CI_1 = data_hdr[2,1]\n",
    "boundary_95CI_1 = data_hdr[0,1]\n",
    "\n",
    "y_50 = np.interp(boundary_50CI_1, data_coal_sizer_Matthews2016.iloc[:,0], data_coal_sizer_Matthews2016.iloc[:,1])\n",
    "y_95 = np.interp(boundary_95CI_1, data_coal_sizer_Matthews2016.iloc[:,0], data_coal_sizer_Matthews2016.iloc[:,1])\n",
    "\n",
    "axes.fill_between(data_coal_sizer_Matthews2016.iloc[:,0],data_coal_sizer_Matthews2016.iloc[:,1],where=data_coal_sizer_Matthews2016.iloc[:,1] > y_95,color='grey',alpha=0.3,linewidth=0) # ,edgecolor='grey'\n",
    "#axes.fill_between(data_coal_sizer.iloc[:,0],data_coal_sizer.iloc[:,1],where=data_coal_sizer.iloc[:,1] > y_75,color='grey',alpha=0.4) #linewidth=2.0,\n",
    "axes.fill_between(data_coal_sizer_Matthews2016.iloc[:,0],data_coal_sizer_Matthews2016.iloc[:,1],where=data_coal_sizer_Matthews2016.iloc[:,1] > y_50,color='grey',alpha=0.5,linewidth=0) #linewidth=.0,\n",
    "'''\n",
    "\n",
    "# Glacial\n",
    "data_coal_sizer_Matthews2016 = '/Users/wenchaocao/Research/33_MatLab/Library/Feature_modified/Smoothing/AccumulatedSiZerCurves/Glacial_Matthews2016_Folder9_3/Data_XY_BestFitting_0.txt'\n",
    "if os.path.isfile(data_coal_sizer_Matthews2016):\n",
    "    data_coal_sizer_Matthews2016 = pd.read_table('/Users/wenchaocao/Research/33_MatLab/Library/Feature_modified/Smoothing/AccumulatedSiZerCurves/Glacial_Matthews2016_Folder9_3/Data_XY_BestFitting_0.txt',header=None, delimiter=r\"\\s+\")\n",
    "    axes.plot(data_coal_sizer_Matthews2016.iloc[:,0],data_coal_sizer_Matthews2016.iloc[:,1],'black',linewidth=2.0)\n",
    "    # normalise results: data_sizer_Matthews2016.iloc[:,1]/np.sum(data_sizer_Matthews2016.iloc[:,1])\n",
    "    #axes.fill_between(data_sizer_Matthews2016.iloc[:,0],0,data_sizer_Matthews2016.iloc[:,1]/np.sum(data_sizer_Matthews2016.iloc[:,1]),facecolor='blue', interpolate=False, alpha=0.3) #,linewidth=2.0\n",
    "else:\n",
    "    print \"No data\"\n",
    "\n",
    "# HDR\n",
    "data_raw_hdr = pd.read_csv('/Users/wenchaocao/Research/41_Paleobiology_Paleotectonics/HDR/Accumulated_Matthews2016_TwoBiasRemoved_CorrectedBeforeFlipping_Flipped_Doubled_BinningSize5_Normalised/hdr_glacial.csv')\n",
    "data_hdr = np.array(data_raw_hdr)\n",
    "boundary_50CI_1 = data_hdr[2,1]\n",
    "boundary_95CI_1 = data_hdr[0,1]\n",
    "\n",
    "y_50 = np.interp(boundary_50CI_1, data_coal_sizer_Matthews2016.iloc[:,0], data_coal_sizer_Matthews2016.iloc[:,1])\n",
    "y_95 = np.interp(boundary_95CI_1, data_coal_sizer_Matthews2016.iloc[:,0], data_coal_sizer_Matthews2016.iloc[:,1])\n",
    "\n",
    "axes.fill_between(data_coal_sizer_Matthews2016.iloc[:,0],data_coal_sizer_Matthews2016.iloc[:,1],where=data_coal_sizer_Matthews2016.iloc[:,1] > y_95,color='grey',alpha=0.3,linewidth=0) # ,edgecolor='grey'\n",
    "#axes.fill_between(data_coal_sizer.iloc[:,0],data_coal_sizer.iloc[:,1],where=data_coal_sizer.iloc[:,1] > y_75,color='grey',alpha=0.4) #linewidth=2.0,\n",
    "axes.fill_between(data_coal_sizer_Matthews2016.iloc[:,0],data_coal_sizer_Matthews2016.iloc[:,1],where=data_coal_sizer_Matthews2016.iloc[:,1] > y_50,color='grey',alpha=0.5,linewidth=0) #linewidth=.0,\n",
    "\n",
    "\n",
    "axes.set_xticks(np.arange(-90, 91, 30))\n",
    "axes.set_xticklabels([])\n",
    "axes.set_xlim((90,-90))\n",
    "axes.set_ylim(ymin=0)\n",
    "#axes[23-i].set_ylim((0,0.01))\n",
    "axes.xaxis.set_tick_params(direction='out') #labelsize=12,\n",
    "#plt.setp(axes[i].get_xticklabels(), fontsize=12.) #,rotation=50\n",
    "axes.yaxis.set_tick_params(labelsize=14,direction='out') #\n",
    "axes.xaxis.set_ticks_position('both') # bottom\n",
    "axes.set_yticks(axes.get_yticks()[::2]) # set the major ticks\n",
    "interval = np.diff(axes.get_yticks())[0]\n",
    "axes.yaxis.set_minor_locator(MultipleLocator(interval/2))\n",
    "axes.tick_params(which = 'both', direction = 'out') # if only want to set y-axis: axes[1,2].yaxis.set_tick_params(labelsize=12,direction='out')\n",
    "axes.yaxis.set_ticks_position('left')\n",
    "\n",
    "plt.savefig('Glacial_SiZerCurves_Accumulated_and_HDR.pdf')\n",
    "plt.show()"
   ]
  },
  {
   "cell_type": "code",
   "execution_count": 357,
   "metadata": {
    "collapsed": false
   },
   "outputs": [
    {
     "name": "stdout",
     "output_type": "stream",
     "text": [
      "[ 419.  393.]\n"
     ]
    }
   ],
   "source": [
    "import pandas as pd\n",
    "import numpy as np\n",
    "import matplotlib.pyplot as plt\n",
    "import os\n",
    "\n",
    "%matplotlib inline\n",
    "\n",
    "data_time = pd.read_excel('/Users/wenchaocao/Research/41_Paleobiology_Paleotectonics/PeakLatitude_EachMap.xlsx')\n",
    "\n",
    "time = np.zeros(len(data_time['FromAge'])*2)\n",
    "time[::2] = data_time['FromAge']\n",
    "time[1::2] = data_time['ToAge']\n",
    "print time[:2]"
   ]
  },
  {
   "cell_type": "code",
   "execution_count": 365,
   "metadata": {
    "collapsed": false
   },
   "outputs": [
    {
     "name": "stdout",
     "output_type": "stream",
     "text": [
      "[ 90.   0.   0.   0.   0.   0.   0.   0.   0.   0.   0.   0.   0.   0.   0.\n",
      "   0.   0.   0.   0.   0.   0.   0.   0.   0.]\n",
      "[ 75.75086571   0.           0.           0.           0.           0.           0.\n",
      "   0.           0.           0.           0.           0.           0.           0.\n",
      "   0.           0.           0.           0.           0.           0.           0.\n",
      "   0.           0.           0.        ]\n",
      "[ 0.  0.  0.  0.  0.  0.  0.  0.  0.  0.  0.  0.  0.  0.  0.  0.  0.  0.\n",
      "  0.  0.  0.  0.  0.  0.]\n"
     ]
    }
   ],
   "source": [
    "Boundary_50CI_1 = np.zeros(24)\n",
    "Boundary_50CI_2 = np.zeros(24)\n",
    "Boundary_50CI_3 = np.zeros(24)\n",
    "Boundary_50CI_4 = np.zeros(24)\n",
    "\n",
    "for i in np.arange(0,1,1):\n",
    "    \n",
    "    Coals_raw = pd.read_csv('/Users/wenchaocao/Research/41_Paleobiology_Paleotectonics/HDR/Accumulated_Matthews2016_TwoBiasRemoved_CorrectedBeforeFlipping_Flipped_Doubled_BinningSize5_Normalised/hdr_glacial_ToMakeCumulatedFigure.csv')\n",
    "    Coals = np.array(Coals_raw)\n",
    "    Boundary_50CI_1[i] = -1*Coals[2,1]\n",
    "    \n",
    "    try:\n",
    "        if np.float16(Coals[2,2]) != np.float16(-1*Coals[2,1]):\n",
    "            Boundary_50CI_2[i] = -1*Coals[2,2]\n",
    "    except IndexError:\n",
    "        print 'sorry, no data'\n",
    "        \n",
    "    \n",
    "    try:\n",
    "        if np.float16(Coals[2,3]) != np.float16(-1*Coals[2,2]) and Coals[2,3] != None:\n",
    "            Boundary_50CI_3[i]= -1*Coals[2,3]\n",
    "    except IndexError:\n",
    "        print 'sorry, no data'\n",
    "\n",
    "print Boundary_50CI_1\n",
    "print Boundary_50CI_2\n",
    "print Boundary_50CI_3\n",
    "\n"
   ]
  },
  {
   "cell_type": "code",
   "execution_count": 366,
   "metadata": {
    "collapsed": false
   },
   "outputs": [
    {
     "data": {
      "text/plain": [
       "(0, 90)"
      ]
     },
     "execution_count": 366,
     "metadata": {},
     "output_type": "execute_result"
    },
    {
     "data": {
      "image/png": "[encoded data removed]",
      "text/plain": [
       "<matplotlib.figure.Figure at 0x11856b590>"
      ]
     },
     "metadata": {},
     "output_type": "display_data"
    }
   ],
   "source": [
    "fig, axes = plt.subplots(nrows=1, ncols=1,figsize=(0.5, 4))\n",
    "\n",
    "\n",
    "B50CI_1 = np.zeros(len(Boundary_50CI_1)*2)\n",
    "B50CI_1[::2] = Boundary_50CI_1[:]\n",
    "B50CI_1[1::2] = Boundary_50CI_1[:]\n",
    "\n",
    "B50CI_2 = np.zeros(len(Boundary_50CI_2)*2)\n",
    "B50CI_2[::2] = Boundary_50CI_2[:]\n",
    "B50CI_2[1::2] = Boundary_50CI_2[:]\n",
    "\n",
    "B50CI_3 = np.zeros(len(Boundary_50CI_3)*2)\n",
    "B50CI_3[::2] = Boundary_50CI_3[:]\n",
    "B50CI_3[1::2] = Boundary_50CI_3[:]\n",
    "\n",
    "axes.fill_between(time,B50CI_2,B50CI_1,facecolor='blue',edgecolor='none',interpolate=False,alpha=0.3,label='Coals')\n",
    "axes.fill_between(time,0,B50CI_3,facecolor='blue',edgecolor='none',interpolate=False,alpha=0.3,label='Coals')\n",
    "\n",
    "axes.xaxis.set_tick_params(direction='out')\n",
    "axes.xaxis.set_ticks_position('both')\n",
    "\n",
    "axes.yaxis.set_tick_params(labelsize=12,direction='out')\n",
    "axes.set_xlim((419,393))\n",
    "axes.set_ylim((0,90))\n"
   ]
  },
  {
   "cell_type": "code",
   "execution_count": 367,
   "metadata": {
    "collapsed": false
   },
   "outputs": [
    {
     "name": "stdout",
     "output_type": "stream",
     "text": [
      "[ 90.  90.  90.  90.  90.  90.  90.  90.  90.  90.  90.  90.  90.  90.  90.\n",
      "  90.  90.  90.  90.  90.  90.  90.  90.  90.]\n",
      "[ 40.2224364  40.2224364  40.2224364  40.2224364  40.2224364  40.2224364\n",
      "  40.2224364  40.2224364  40.2224364  40.2224364  40.2224364  40.2224364\n",
      "  40.2224364  40.2224364  40.2224364  40.2224364  40.2224364  40.2224364\n",
      "  40.2224364  40.2224364  40.2224364  40.2224364  40.2224364  40.2224364]\n",
      "[ 0.  0.  0.  0.  0.  0.  0.  0.  0.  0.  0.  0.  0.  0.  0.  0.  0.  0.\n",
      "  0.  0.  0.  0.  0.  0.]\n"
     ]
    },
    {
     "data": {
      "text/plain": [
       "(0, 90)"
      ]
     },
     "execution_count": 367,
     "metadata": {},
     "output_type": "execute_result"
    },
    {
     "data": {
      "image/png": "[encoded data removed]",
      "text/plain": [
       "<matplotlib.figure.Figure at 0x1186d2ed0>"
      ]
     },
     "metadata": {},
     "output_type": "display_data"
    }
   ],
   "source": [
    "######################################\n",
    "# aplara = 95%\n",
    "\n",
    "fig, axes = plt.subplots(nrows=1, ncols=1,figsize=(0.5, 4))\n",
    "\n",
    "Boundary_95CI_1 = np.zeros(24)\n",
    "Boundary_95CI_2 = np.zeros(24)\n",
    "Boundary_95CI_3 = np.zeros(24)\n",
    "Boundary_95CI_4 = np.zeros(24)\n",
    "\n",
    "for i in np.arange(0,24,1):\n",
    "    \n",
    "    Coals_raw = pd.read_csv('/Users/wenchaocao/Research/41_Paleobiology_Paleotectonics/HDR/Accumulated_Matthews2016_TwoBiasRemoved_CorrectedBeforeFlipping_Flipped_Doubled_BinningSize5_Normalised/hdr_glacial_ToMakeCumulatedFigure.csv')\n",
    "    Coals = np.array(Coals_raw)\n",
    "    \n",
    "    Boundary_95CI_1[i] = -1*Coals[0,1]\n",
    "    \n",
    "    try:\n",
    "        if np.float16(Coals[0,2]) != np.float16(-1*Coals[0,1]):\n",
    "            Boundary_95CI_2[i] = -1*Coals[0,2]\n",
    "    except IndexError:\n",
    "        print 'sorry, no data'\n",
    "    \n",
    "    try:\n",
    "        if np.float16(Coals[0,3]) != np.float16(-1*Coals[0,2]) and Coals[0,3] != None:\n",
    "            Boundary_95CI_3[i]= -1*Coals[0,3]\n",
    "    except IndexError:\n",
    "        print 'sorry, no data'\n",
    "\n",
    "print Boundary_95CI_1\n",
    "print Boundary_95CI_2\n",
    "print Boundary_95CI_3\n",
    "\n",
    "\n",
    "B95CI_1 = np.zeros(len(Boundary_95CI_1)*2)\n",
    "B95CI_1[::2] = Boundary_95CI_1[:]\n",
    "B95CI_1[1::2] = Boundary_95CI_1[:]\n",
    "\n",
    "B95CI_2 = np.zeros(len(Boundary_95CI_2)*2)\n",
    "B95CI_2[::2] = Boundary_95CI_2[:]\n",
    "B95CI_2[1::2] = Boundary_95CI_2[:]\n",
    "\n",
    "B95CI_3 = np.zeros(len(Boundary_95CI_3)*2)\n",
    "B95CI_3[::2] = Boundary_95CI_3[:]\n",
    "B95CI_3[1::2] = Boundary_95CI_3[:]\n",
    "\n",
    "B95CI_4 = np.zeros(len(Boundary_95CI_4)*2)\n",
    "B95CI_4[::2] = Boundary_95CI_4[:]\n",
    "B95CI_4[1::2] = Boundary_95CI_4[:]\n",
    "\n",
    "axes.fill_between(time,B95CI_2,B95CI_1,facecolor='grey',edgecolor='none',interpolate=False,alpha=0.3,label='Coals')\n",
    "axes.fill_between(time,0,B95CI_3,facecolor='grey',edgecolor='none',interpolate=False,alpha=0.3,label='Coals')\n",
    "\n",
    "axes.xaxis.set_tick_params(direction='out')\n",
    "axes.xaxis.set_ticks_position('both')\n",
    "\n",
    "axes.yaxis.set_tick_params(labelsize=12,direction='out')\n",
    "axes.set_xlim((419,393))\n",
    "axes.set_ylim((0,90))"
   ]
  },
  {
   "cell_type": "code",
   "execution_count": 368,
   "metadata": {
    "collapsed": false
   },
   "outputs": [
    {
     "data": {
      "image/png": "[encoded data removed]",
      "text/plain": [
       "<matplotlib.figure.Figure at 0x1174b6bd0>"
      ]
     },
     "metadata": {},
     "output_type": "display_data"
    }
   ],
   "source": [
    "\n",
    "fig, axes = plt.subplots(nrows=1, ncols=1,figsize=(0.5, 4))\n",
    "\n",
    "# 95%\n",
    "axes.fill_between(time,B95CI_2,B95CI_1,facecolor='grey',edgecolor='none',interpolate=False,alpha=0.3,label='Coals')\n",
    "axes.fill_between(time,0,B95CI_3,facecolor='grey',edgecolor='none',interpolate=False,alpha=0.3,label='Coals')\n",
    "\n",
    "# 75%\n",
    "#axes.fill_between(time,B75CI_2,B75CI_1,facecolor='grey',edgecolor='none',interpolate=False,alpha=0.5,label='Coals')\n",
    "#axes.fill_between(time,B75CI_4,B75CI_3,facecolor='grey',edgecolor='none',interpolate=False,alpha=0.5,label='Coals')\n",
    "\n",
    "# 50%\n",
    "axes.fill_between(time,B50CI_2,B50CI_1,facecolor='blue',edgecolor='none',interpolate=False,alpha=0.4,label='Coals')\n",
    "axes.fill_between(time,0,B50CI_3,facecolor='blue',edgecolor='none',interpolate=False,alpha=0.4,label='Coals')\n",
    "\n",
    "\n",
    "#peaks = 53.1\n",
    "\n",
    "# coals\n",
    "#data_C = np.zeros(len(peaks['Final_Coals'])*2)\n",
    "#data_C[::2] = np.asarray(peaks['Final_Coals'])\n",
    "#data_C[1::2] = np.asarray(peaks['Final_Coals'])\n",
    "#axes.plot(time,data_C,'blue', alpha=0.5) #,linewidth=.0\n",
    "#axes.plot(time,data_C,'blue', alpha=0.5) #,linewidth=1\n",
    "\n",
    "\n",
    "plt.xticks(np.hstack((data_time['FromAge'],data_time['ToAge'])),rotation=90,size=8) #, rotation=50,,verticalalignment='top'\n",
    "axes.set_ylabel('Latitude', fontsize=14) \n",
    "axes.set_xlabel('Time (Ma)', fontsize=14) \n",
    "axes.set_xlim((419,393))\n",
    "axes.set_ylim(ymin=0)\n",
    "axes.xaxis.set_tick_params(direction='out')\n",
    "axes.yaxis.set_tick_params(labelsize=12,direction='out')\n",
    "axes.xaxis.set_ticks_position('both')\n",
    "axes.yaxis.set_ticks_position('both')\n",
    "#axes.legend()\n",
    "axes.set_ylim((0,90))\n",
    "\n",
    "plt.savefig('Glacial_Bands_50&95_Accumulated.pdf',dpi=600)\n",
    "plt.show()"
   ]
  },
  {
   "cell_type": "code",
   "execution_count": null,
   "metadata": {
    "collapsed": true
   },
   "outputs": [],
   "source": []
  }
 ],
 "metadata": {
  "kernelspec": {
   "display_name": "Python 2",
   "language": "python",
   "name": "python2"
  },
  "language_info": {
   "codemirror_mode": {
    "name": "ipython",
    "version": 2
   },
   "file_extension": ".py",
   "mimetype": "text/x-python",
   "name": "python",
   "nbconvert_exporter": "python",
   "pygments_lexer": "ipython2",
   "version": "2.7.13"
  }
 },
 "nbformat": 4,
 "nbformat_minor": 2
}
