{
 "cells": [
  {
   "cell_type": "code",
   "execution_count": 80,
   "metadata": {
    "collapsed": false,
    "scrolled": false
   },
   "outputs": [
    {
     "name": "stdout",
     "output_type": "stream",
     "text": [
      "Time step: 0\n",
      "No ice sheet\n",
      "Time step: 1\n",
      "No ice sheet\n",
      "Time step: 2\n",
      "No ice sheet\n",
      "Time step: 3\n",
      "No ice sheet\n",
      "Time step: 4\n",
      "No ice sheet\n",
      "Time step: 5\n",
      "No ice sheet\n",
      "Time step: 6\n",
      "No ice sheet\n",
      "Time step: 7\n",
      "No ice sheet\n",
      "Time step: 8\n",
      "No ice sheet\n",
      "Time step: 9\n",
      "No ice sheet\n",
      "Time step: 10\n",
      "No ice sheet\n",
      "Time step: 11\n",
      "No ice sheet\n",
      "Time step: 12\n",
      "No ice sheet\n",
      "Time step: 13\n",
      "No ice sheet\n",
      "Time step: 14\n",
      "No ice sheet\n",
      "Time step: 15\n",
      "No ice sheet\n",
      "Time step: 16\n",
      "No ice sheet\n",
      "Time step: 17\n",
      "No ice sheet\n",
      "Time step: 18\n",
      "No ice sheet\n",
      "Time step: 19\n",
      "No ice sheet\n",
      "Time step: 20\n",
      "No ice sheet\n",
      "Time step: 21\n",
      "No ice sheet\n",
      "Time step: 22\n",
      "No ice sheet\n",
      "Time step: 23\n",
      "No ice sheet\n"
     ]
    }
   ],
   "source": [
    "% matplotlib inline\n",
    "import numpy as np\n",
    "import matplotlib.pyplot as plt\n",
    "import matplotlib\n",
    "import pandas as pd\n",
    "\n",
    "for i in np.arange(0,24,1):\n",
    "    #folder: Doubled_Number_Data_BeforeMerging_ForEachMap_New\n",
    "    #data_coal = pd.read_table('/Users/wenchaocao/Research/33_MatLab/Library/Feature_modified/Smoothing/Doubled_Number_Data_BeforeMerging_ForEachMap_New/'+str(i)+'/Data_XY_BestFitting.txt',header=None, delimiter=r\"\\s+\")\n",
    "    \n",
    "    # folder: LithData_Matthews2016_TwoBiasRemoved_CorrectedBeforeFlipping\n",
    "    # Coals\n",
    "    #data_coal = pd.read_table('/Users/wenchaocao/Research/33_MatLab/Library/Feature_modified/Smoothing/Coals_Matthews2016_TwoBiasRemoved_CorrectedBeforeFlipping_Doubled/'+str(i)+'/Data_XY_BestFitting.txt',header=None, delimiter=r\"\\s+\")\n",
    "    \n",
    "    # Evaporites\n",
    "    #data_Evaporites = pd.read_table('/Users/wenchaocao/Research/33_MatLab/Library/Feature_modified/Smoothing/Evaporites_Matthews2016_TwoBiasRemoved_CorrectedBeforeFlipping_Doubled/'+str(i)+'/Data_XY_BestFitting.txt',header=None, delimiter=r\"\\s+\")\n",
    "    \n",
    "    # Glacial\n",
    "    data_sizer = '/Users/wenchaocao/Research/33_MatLab/Library/Feature_modified/Smoothing/Glacial_Matthews2016_TwoBiasRemoved_CorrectedBeforeFlipping_Doubled/'+str(i)+'/Data_XY_BestFitting.txt'\n",
    "    if os.path.isfile(data_sizer):\n",
    "        \n",
    "        data_Glacial = pd.read_table('/Users/wenchaocao/Research/33_MatLab/Library/Feature_modified/Smoothing/Glacial_Matthews2016_TwoBiasRemoved_CorrectedBeforeFlipping_Doubled/'+str(i)+'/Data_XY_BestFitting.txt',header=None, delimiter=r\"\\s+\")\n",
    "\n",
    "        #print data_coal.iloc[:,0]\n",
    "        #print data_coal.iloc[:,1]\n",
    "\n",
    "        data_max = data_Glacial.iloc[:,1].max()\n",
    "        #print data_max\n",
    "        #print data_coal.iloc[:,1]\n",
    "        index = np.where(data_Glacial.iloc[:,1] > data_Glacial.iloc[:,1].max()/2)\n",
    "        print 'Time step: %d' % i\n",
    "        print np.array(data_Glacial.iloc[:,0])[index]\n",
    "        plt.plot(data_Glacial.iloc[:,0],data_Glacial.iloc[:,1]>data_max/2)\n",
    "        plt.ylim(0,1.1)\n",
    "        #plt.xticks(np.arange(-90,91,1))\n",
    "        plt.show()\n",
    "    else:\n",
    "        print 'Time step: %d' % i\n",
    "        print 'No ice sheet'"
   ]
  },
  {
   "cell_type": "code",
   "execution_count": 81,
   "metadata": {
    "collapsed": false
   },
   "outputs": [
    {
     "name": "stdout",
     "output_type": "stream",
     "text": [
      "[ 419.   393.   393.   388.   388.   383.   383.   359.   359.   331.   331.\n",
      "  323.   323.   307.   307.   299.   299.   290.   290.   252.   252.   247.\n",
      "  247.   237.   237.   201.   201.   164.   164.   145.   145.   113.   113.\n",
      "   89.8   89.8   66.    66.    56.    56.    47.8   47.8   33.9   33.9\n",
      "   23.    23.     5.3    5.3    0. ]\n"
     ]
    },
    {
     "data": {
      "text/plain": [
       "[<matplotlib.lines.Line2D at 0x11b5a5b50>]"
      ]
     },
     "execution_count": 81,
     "metadata": {},
     "output_type": "execute_result"
    },
    {
     "data": {
      "image/png": "[encoded data removed]",
      "text/plain": [
       "<matplotlib.figure.Figure at 0x11cb39e90>"
      ]
     },
     "metadata": {},
     "output_type": "display_data"
    }
   ],
   "source": [
    "peaks = pd.read_excel('/Users/wenchaocao/Research/41_Paleobiology_Paleotectonics/PeakLatitude_EachMap.xlsx')\n",
    "\n",
    "\n",
    "fig, ax = plt.subplots(figsize=(8,4),tight_layout=True)\n",
    "\n",
    "# coals\n",
    "data_C = np.zeros(len(peaks['Final_Coals'])*2)\n",
    "data_C[::2] = np.asarray(peaks['Final_Coals'])\n",
    "data_C[1::2] = np.asarray(peaks['Final_Coals'])\n",
    "\n",
    "# create an array to install FromAge and ToAge at the same time\n",
    "time = np.zeros(len(peaks['FromAge'])*2)\n",
    "time[::2] = peaks['FromAge']\n",
    "time[1::2] = peaks['ToAge']\n",
    "print time\n",
    "\n",
    "ax.plot(time,data_C,'b',linewidth=2.0)\n",
    "ax.plot(time,data_C,'b',linewidth=10, alpha=0.3)\n",
    "\n",
    "\n",
    "time_LateD = [299,290]\n",
    "data_LateD = [0,0]\n",
    "ax.plot(time_LateD,data_LateD,'r--',linewidth=2.0)\n",
    "\n",
    "#time_LateK = [113.0,89.8]\n",
    "#data_LateK = [71.1,71.1]\n",
    "#plt.plot(time_LateK,data_LateK,'r--',linewidth=2.0)\n",
    "\n",
    "# Evaporites\n",
    "data_E = np.zeros(len(peaks['Evaporites_Peak'])*2)\n",
    "data_E[::2] = np.asarray(peaks['Evaporites_Peak'])\n",
    "data_E[1::2] = np.asarray(peaks['Evaporites_Peak'])\n",
    "\n",
    "ax.plot(time,data_E,'r',linewidth=2.0)\n",
    "ax.plot(time,data_E,'r',linewidth=10, alpha=0.3)\n",
    "\n",
    "# Glacial\n",
    "data_G = np.zeros(len(peaks['Evaporites_Peak'])*2)\n",
    "data_G[::2] = np.asarray(peaks['Glacial_Peak'])\n",
    "data_G[1::2] = np.asarray(peaks['Glacial_Peak'])\n",
    "\n",
    "ax.plot(time,data_G,'g',linewidth=2.0)\n",
    "ax.plot(time,data_G,'g',linewidth=10, alpha=0.3)"
   ]
  },
  {
   "cell_type": "code",
   "execution_count": 79,
   "metadata": {
    "collapsed": false
   },
   "outputs": [
    {
     "ename": "IOError",
     "evalue": "[Errno 2] No such file or directory: '/Users/wenchaocao/Research/33_MatLab/Library/Feature_modified/Smoothing/Coals_Matthews2016_TwoBiasRemoved_CorrectedBeforeFlipping_Doubled/PeakLatitude_EachMap.xlsx'",
     "output_type": "error",
     "traceback": [
      "\u001b[0;31m---------------------------------------------------------------------------\u001b[0m",
      "\u001b[0;31mIOError\u001b[0m                                   Traceback (most recent call last)",
      "\u001b[0;32m<ipython-input-79-85dba45c3ccb>\u001b[0m in \u001b[0;36m<module>\u001b[0;34m()\u001b[0m\n\u001b[1;32m      7\u001b[0m \u001b[0;34m\u001b[0m\u001b[0m\n\u001b[1;32m      8\u001b[0m \u001b[0;31m# new\u001b[0m\u001b[0;34m\u001b[0m\u001b[0;34m\u001b[0m\u001b[0m\n\u001b[0;32m----> 9\u001b[0;31m \u001b[0mdata\u001b[0m \u001b[0;34m=\u001b[0m \u001b[0mpd\u001b[0m\u001b[0;34m.\u001b[0m\u001b[0mread_excel\u001b[0m\u001b[0;34m(\u001b[0m\u001b[0;34m'/Users/wenchaocao/Research/33_MatLab/Library/Feature_modified/Smoothing/Coals_Matthews2016_TwoBiasRemoved_CorrectedBeforeFlipping_Doubled/PeakLatitude_EachMap.xlsx'\u001b[0m\u001b[0;34m)\u001b[0m\u001b[0;34m\u001b[0m\u001b[0m\n\u001b[0m\u001b[1;32m     10\u001b[0m \u001b[0;34m\u001b[0m\u001b[0m\n\u001b[1;32m     11\u001b[0m \u001b[0mdata_band\u001b[0m \u001b[0;34m=\u001b[0m \u001b[0mpd\u001b[0m\u001b[0;34m.\u001b[0m\u001b[0mread_excel\u001b[0m\u001b[0;34m(\u001b[0m\u001b[0;34m'/Users/wenchaocao/Desktop/Bands.xlsx'\u001b[0m\u001b[0;34m)\u001b[0m\u001b[0;34m\u001b[0m\u001b[0m\n",
      "\u001b[0;32m/Users/wenchaocao/anaconda/lib/python2.7/site-packages/pandas/io/excel.pyc\u001b[0m in \u001b[0;36mread_excel\u001b[0;34m(io, sheetname, header, skiprows, skip_footer, index_col, names, parse_cols, parse_dates, date_parser, na_values, thousands, convert_float, has_index_names, converters, true_values, false_values, engine, squeeze, **kwds)\u001b[0m\n\u001b[1;32m    189\u001b[0m \u001b[0;34m\u001b[0m\u001b[0m\n\u001b[1;32m    190\u001b[0m     \u001b[0;32mif\u001b[0m \u001b[0;32mnot\u001b[0m \u001b[0misinstance\u001b[0m\u001b[0;34m(\u001b[0m\u001b[0mio\u001b[0m\u001b[0;34m,\u001b[0m \u001b[0mExcelFile\u001b[0m\u001b[0;34m)\u001b[0m\u001b[0;34m:\u001b[0m\u001b[0;34m\u001b[0m\u001b[0m\n\u001b[0;32m--> 191\u001b[0;31m         \u001b[0mio\u001b[0m \u001b[0;34m=\u001b[0m \u001b[0mExcelFile\u001b[0m\u001b[0;34m(\u001b[0m\u001b[0mio\u001b[0m\u001b[0;34m,\u001b[0m \u001b[0mengine\u001b[0m\u001b[0;34m=\u001b[0m\u001b[0mengine\u001b[0m\u001b[0;34m)\u001b[0m\u001b[0;34m\u001b[0m\u001b[0m\n\u001b[0m\u001b[1;32m    192\u001b[0m \u001b[0;34m\u001b[0m\u001b[0m\n\u001b[1;32m    193\u001b[0m     return io._parse_excel(\n",
      "\u001b[0;32m/Users/wenchaocao/anaconda/lib/python2.7/site-packages/pandas/io/excel.pyc\u001b[0m in \u001b[0;36m__init__\u001b[0;34m(self, io, **kwds)\u001b[0m\n\u001b[1;32m    247\u001b[0m             \u001b[0mself\u001b[0m\u001b[0;34m.\u001b[0m\u001b[0mbook\u001b[0m \u001b[0;34m=\u001b[0m \u001b[0mxlrd\u001b[0m\u001b[0;34m.\u001b[0m\u001b[0mopen_workbook\u001b[0m\u001b[0;34m(\u001b[0m\u001b[0mfile_contents\u001b[0m\u001b[0;34m=\u001b[0m\u001b[0mdata\u001b[0m\u001b[0;34m)\u001b[0m\u001b[0;34m\u001b[0m\u001b[0m\n\u001b[1;32m    248\u001b[0m         \u001b[0;32melif\u001b[0m \u001b[0misinstance\u001b[0m\u001b[0;34m(\u001b[0m\u001b[0mio\u001b[0m\u001b[0;34m,\u001b[0m \u001b[0mcompat\u001b[0m\u001b[0;34m.\u001b[0m\u001b[0mstring_types\u001b[0m\u001b[0;34m)\u001b[0m\u001b[0;34m:\u001b[0m\u001b[0;34m\u001b[0m\u001b[0m\n\u001b[0;32m--> 249\u001b[0;31m             \u001b[0mself\u001b[0m\u001b[0;34m.\u001b[0m\u001b[0mbook\u001b[0m \u001b[0;34m=\u001b[0m \u001b[0mxlrd\u001b[0m\u001b[0;34m.\u001b[0m\u001b[0mopen_workbook\u001b[0m\u001b[0;34m(\u001b[0m\u001b[0mio\u001b[0m\u001b[0;34m)\u001b[0m\u001b[0;34m\u001b[0m\u001b[0m\n\u001b[0m\u001b[1;32m    250\u001b[0m         \u001b[0;32melse\u001b[0m\u001b[0;34m:\u001b[0m\u001b[0;34m\u001b[0m\u001b[0m\n\u001b[1;32m    251\u001b[0m             raise ValueError('Must explicitly set engine if not passing in'\n",
      "\u001b[0;32m/Users/wenchaocao/anaconda/lib/python2.7/site-packages/xlrd/__init__.pyc\u001b[0m in \u001b[0;36mopen_workbook\u001b[0;34m(filename, logfile, verbosity, use_mmap, file_contents, encoding_override, formatting_info, on_demand, ragged_rows)\u001b[0m\n\u001b[1;32m    393\u001b[0m         \u001b[0mpeek\u001b[0m \u001b[0;34m=\u001b[0m \u001b[0mfile_contents\u001b[0m\u001b[0;34m[\u001b[0m\u001b[0;34m:\u001b[0m\u001b[0mpeeksz\u001b[0m\u001b[0;34m]\u001b[0m\u001b[0;34m\u001b[0m\u001b[0m\n\u001b[1;32m    394\u001b[0m     \u001b[0;32melse\u001b[0m\u001b[0;34m:\u001b[0m\u001b[0;34m\u001b[0m\u001b[0m\n\u001b[0;32m--> 395\u001b[0;31m         \u001b[0;32mwith\u001b[0m \u001b[0mopen\u001b[0m\u001b[0;34m(\u001b[0m\u001b[0mfilename\u001b[0m\u001b[0;34m,\u001b[0m \u001b[0;34m\"rb\"\u001b[0m\u001b[0;34m)\u001b[0m \u001b[0;32mas\u001b[0m \u001b[0mf\u001b[0m\u001b[0;34m:\u001b[0m\u001b[0;34m\u001b[0m\u001b[0m\n\u001b[0m\u001b[1;32m    396\u001b[0m             \u001b[0mpeek\u001b[0m \u001b[0;34m=\u001b[0m \u001b[0mf\u001b[0m\u001b[0;34m.\u001b[0m\u001b[0mread\u001b[0m\u001b[0;34m(\u001b[0m\u001b[0mpeeksz\u001b[0m\u001b[0;34m)\u001b[0m\u001b[0;34m\u001b[0m\u001b[0m\n\u001b[1;32m    397\u001b[0m     \u001b[0;32mif\u001b[0m \u001b[0mpeek\u001b[0m \u001b[0;34m==\u001b[0m \u001b[0;34mb\"PK\\x03\\x04\"\u001b[0m\u001b[0;34m:\u001b[0m \u001b[0;31m# a ZIP file\u001b[0m\u001b[0;34m\u001b[0m\u001b[0m\n",
      "\u001b[0;31mIOError\u001b[0m: [Errno 2] No such file or directory: '/Users/wenchaocao/Research/33_MatLab/Library/Feature_modified/Smoothing/Coals_Matthews2016_TwoBiasRemoved_CorrectedBeforeFlipping_Doubled/PeakLatitude_EachMap.xlsx'"
     ]
    }
   ],
   "source": [
    "import pandas as pd\n",
    "import numpy as np\n",
    "import matplotlib.pyplot as plt\n",
    "import os\n",
    "\n",
    "%matplotlib inline\n",
    "\n",
    "# new\n",
    "data = pd.read_excel('/Users/wenchaocao/Research/33_MatLab/Library/Feature_modified/Smoothing/Coals_Matthews2016_TwoBiasRemoved_CorrectedBeforeFlipping_Doubled/PeakLatitude_EachMap.xlsx')\n",
    "\n",
    "data_band = pd.read_excel('/Users/wenchaocao/Desktop/Bands.xlsx')\n",
    "\n"
   ]
  },
  {
   "cell_type": "code",
   "execution_count": 122,
   "metadata": {
    "collapsed": false,
    "scrolled": false
   },
   "outputs": [
    {
     "name": "stdout",
     "output_type": "stream",
     "text": [
      "48\n",
      "24\n",
      "24\n",
      "48\n"
     ]
    },
    {
     "data": {
      "image/png": "[encoded data removed]",
      "text/plain": [
       "<matplotlib.figure.Figure at 0x11baec790>"
      ]
     },
     "metadata": {},
     "output_type": "display_data"
    }
   ],
   "source": [
    "fig, axes = plt.subplots(nrows=3,ncols=1,figsize=(6,8),tight_layout=True) #figsize=(12,8),tight_layout=True\n",
    "\n",
    "# create an array to install FromAge and ToAge at the same time\n",
    "time = np.zeros(len(data['FromAge'])*2)\n",
    "time[::2] = data['FromAge']\n",
    "time[1::2] = data['ToAge']\n",
    "print len(time)\n",
    "\n",
    "\n",
    "linewidth = data_band['Lat_Max_C']-data_band['Lat_Min_C']\n",
    "print len(linewidth)\n",
    "Line = np.zeros(len(linewidth)*2)\n",
    "Line[::2] = linewidth\n",
    "Line[1::2] = linewidth\n",
    "\n",
    "\n",
    "y_lat = (data_band['Lat_Max_C']+data_band['Lat_Min_C'])/2\n",
    "print len(y_lat)\n",
    "Y = np.zeros(len(y_lat)*2)\n",
    "Y[::2] = y_lat\n",
    "Y[1::2] = y_lat\n",
    "print len(Y)\n",
    "\n",
    "Y_Max_C = np.zeros(len(data_band['Lat_Max_C'])*2)\n",
    "Y_Max_C[::2] = data_band['Lat_Max_C']\n",
    "Y_Max_C[1::2] = data_band['Lat_Max_C']\n",
    "\n",
    "Y_Min_C = np.zeros(len(data_band['Lat_Min_C'])*2)\n",
    "Y_Min_C[::2] = data_band['Lat_Min_C']\n",
    "Y_Min_C[1::2] = data_band['Lat_Min_C']\n",
    "\n",
    "Y_Max_C2 = np.zeros(len(data_band['Lat_Max_C2'])*2)\n",
    "Y_Max_C2[::2] = data_band['Lat_Max_C2']\n",
    "Y_Max_C2[1::2] = data_band['Lat_Max_C2']\n",
    "\n",
    "Y_Min_C2 = np.zeros(len(data_band['Lat_Min_C2'])*2)\n",
    "Y_Min_C2[::2] = data_band['Lat_Min_C2']\n",
    "Y_Min_C2[1::2] = data_band['Lat_Min_C2']\n",
    "\n",
    "axes[0].fill_between(time,Y_Min_C,Y_Max_C,facecolor='blue',edgecolor='none',interpolate=False,alpha=0.3,label='Coals')\n",
    "axes[0].fill_between(time,Y_Min_C2,Y_Max_C2,facecolor='blue',edgecolor='none',interpolate=False,alpha=0.3)\n",
    "\n",
    "plt.xticks(np.hstack((data['FromAge'],data['ToAge'])),rotation=50,size=8) #, rotation=50,,verticalalignment='top'\n",
    "axes[0].set_ylabel('Latitude', fontsize=14) \n",
    "#axes[0].set_xlabel('Time (Ma)', fontsize=16) \n",
    "axes[0].set_xlim((419,0))\n",
    "axes[0].set_ylim(ymin=0)\n",
    "axes[0].xaxis.set_tick_params(direction='out')\n",
    "axes[0].yaxis.set_tick_params(labelsize=12,direction='out')\n",
    "axes[0].xaxis.set_ticks_position('both')\n",
    "axes[0].yaxis.set_ticks_position('left')\n",
    "axes[0].legend()\n",
    "#axes[0].legend('Coals',bbox_to_anchor=(.05,.9), loc=2, borderaxespad=0.)\n",
    "\n",
    "\n",
    "#################################################\n",
    "# Evaporites\n",
    "Y_Max_E = np.zeros(len(data_band['Lat_Max_E'])*2)\n",
    "Y_Max_E[::2] = data_band['Lat_Max_E']\n",
    "Y_Max_E[1::2] = data_band['Lat_Max_E']\n",
    "\n",
    "Y_Min_E = np.zeros(len(data_band['Lat_Min_E'])*2)\n",
    "Y_Min_E[::2] = data_band['Lat_Min_E']\n",
    "Y_Min_E[1::2] = data_band['Lat_Min_E']\n",
    "\n",
    "axes[1].fill_between(time,Y_Min_E,Y_Max_E,facecolor='red',edgecolor='none',interpolate=False,alpha=0.3,label='Evaporites')\n",
    "\n",
    "axes[1].set_xticks(np.hstack((data['FromAge'],data['ToAge']))) #, rotation=50,,verticalalignment='top'\n",
    "axes[1].set_ylabel('Latitude', fontsize=14) \n",
    "#axes[1].set_xlabel('Time (Ma)', fontsize=16) \n",
    "#plt.xlabel('Devonian     Carboniferous   Permian    Triassic     Jurassic   Cretaceous    Paleogene    Miocene', fontsize=16)\n",
    "axes[1].set_xlim((419,0))\n",
    "axes[1].set_ylim(ymin=0)\n",
    "axes[1].xaxis.set_tick_params(direction='out')\n",
    "axes[1].yaxis.set_tick_params(labelsize=12,direction='out')\n",
    "axes[1].xaxis.set_ticks_position('both')\n",
    "axes[1].yaxis.set_ticks_position('left')\n",
    "axes[1].legend()\n",
    "#axes[1].legend('E',bbox_to_anchor=(.9,.75), loc=2, borderaxespad=0.)\n",
    "\n",
    "#################################################\n",
    "# Evaporites\n",
    "Y_Max_G = np.zeros(len(data_band['Lat_Max_G'])*2)\n",
    "Y_Max_G[::2] = data_band['Lat_Max_G']\n",
    "Y_Max_G[1::2] = data_band['Lat_Max_G']\n",
    "\n",
    "Y_Min_G = np.zeros(len(data_band['Lat_Min_G'])*2)\n",
    "Y_Min_G[::2] = data_band['Lat_Min_G']\n",
    "Y_Min_G[1::2] = data_band['Lat_Min_G']\n",
    "\n",
    "Y_Max_G2 = np.zeros(len(data_band['Lat_Max_G2'])*2)\n",
    "Y_Max_G2[::2] = data_band['Lat_Max_G2']\n",
    "Y_Max_G2[1::2] = data_band['Lat_Max_G2']\n",
    "\n",
    "Y_Min_G2 = np.zeros(len(data_band['Lat_Min_G2'])*2)\n",
    "Y_Min_G2[::2] = data_band['Lat_Min_G2']\n",
    "Y_Min_G2[1::2] = data_band['Lat_Min_G2']\n",
    "\n",
    "\n",
    "axes[2].fill_between(time,Y_Min_G,Y_Max_G,facecolor='green',edgecolor='none',interpolate=False,alpha=0.3,label='Glacial deposits')\n",
    "axes[2].fill_between(time,Y_Min_G2,Y_Max_G2,facecolor='green',edgecolor='none',interpolate=False,alpha=0.3)\n",
    "\n",
    "axes[2].set_xticks(np.hstack((data['FromAge'],data['ToAge']))) #, rotation=50,,verticalalignment='top'\n",
    "axes[2].set_ylabel('Latitude', fontsize=14) \n",
    "axes[2].set_xlabel('Time (Ma)', fontsize=14) \n",
    "axes[2].set_xlim((419,0))\n",
    "axes[2].set_ylim(ymin=0)\n",
    "axes[2].xaxis.set_tick_params(direction='out')\n",
    "axes[2].yaxis.set_tick_params(labelsize=12,direction='out')\n",
    "axes[2].xaxis.set_ticks_position('both')\n",
    "axes[2].yaxis.set_ticks_position('left')\n",
    "axes[2].legend()\n",
    "#axes[2].legend('Glacial deposits',bbox_to_anchor=(.9,.75), loc=2, borderaxespad=0.)\n",
    "\n",
    "#plt.legend(('Coals','E','G'),bbox_to_anchor=(.8,.25), loc=2, borderaxespad=0.) #,bbox_to_anchor=(1.,1.), loc=2, borderaxespad=0.\n",
    "\n",
    "#plt.savefig('Bands_ThreePlots.pdf',dpi=600)\n",
    "plt.show()"
   ]
  },
  {
   "cell_type": "code",
   "execution_count": null,
   "metadata": {
    "collapsed": true
   },
   "outputs": [],
   "source": [
    "### HDR from R"
   ]
  },
  {
   "cell_type": "code",
   "execution_count": 82,
   "metadata": {
    "collapsed": false
   },
   "outputs": [
    {
     "name": "stdout",
     "output_type": "stream",
     "text": [
      "[ 419.   393.   393.   388.   388.   383.   383.   359.   359.   331.   331.\n",
      "  323.   323.   307.   307.   299.   299.   290.   290.   252.   252.   247.\n",
      "  247.   237.   237.   201.   201.   164.   164.   145.   145.   113.   113.\n",
      "   89.8   89.8   66.    66.    56.    56.    47.8   47.8   33.9   33.9\n",
      "   23.    23.     5.3    5.3    0. ]\n"
     ]
    }
   ],
   "source": [
    "import pandas as pd\n",
    "import numpy as np\n",
    "import matplotlib.pyplot as plt\n",
    "import os\n",
    "\n",
    "%matplotlib inline\n",
    "\n",
    "data_time = pd.read_excel('/Users/wenchaocao/Research/41_Paleobiology_Paleotectonics/PeakLatitude_EachMap.xlsx')\n",
    "\n",
    "time = np.zeros(len(data_time['FromAge'])*2)\n",
    "time[::2] = data_time['FromAge']\n",
    "time[1::2] = data_time['ToAge']\n",
    "print time"
   ]
  },
  {
   "cell_type": "code",
   "execution_count": 83,
   "metadata": {
    "collapsed": false
   },
   "outputs": [
    {
     "name": "stdout",
     "output_type": "stream",
     "text": [
      "sorry, no data\n",
      "sorry, no data\n",
      "sorry, no data\n",
      "sorry, no data\n",
      "[  0.           0.           0.           0.                  nan\n",
      "          nan   0.           0.           9.8399263    0.           0.           0.\n",
      "   0.           0.           0.           0.          40.11989006   0.           0.\n",
      "   0.           9.38206942   0.          14.20742366   0.        ]\n",
      "[  0.      0.      0.      0.      0.      0.      0.      0.      0.      0.\n",
      "   0.      0.      0.      0.      0.      0.     36.434   0.      0.      0.\n",
      "   0.      0.      0.      0.   ]\n"
     ]
    }
   ],
   "source": [
    "Boundary_50CI_1 = np.zeros(24)\n",
    "Boundary_50CI_2 = np.zeros(24)\n",
    "Boundary_50CI_3 = np.zeros(24)\n",
    "Boundary_50CI_4 = np.zeros(24)\n",
    "\n",
    "for i in np.arange(0,24,1):\n",
    "    \n",
    "    \n",
    "    Coals_raw = pd.read_csv('/Users/wenchaocao/Research/41_Paleobiology_Paleotectonics/HDR/Coals_Matthews2016_TwoBiasRemoved_CorrectedBeforeFlipping_Flipped_Doubled_BinningSize5_Normalised/hdr_'+str(i)+'.csv')\n",
    "    Coals = np.array(Coals_raw)\n",
    "    Boundary_50CI_1[i] = -1*Coals[2,1]\n",
    "    \n",
    "    try:\n",
    "        if np.float16(Coals[2,2]) != np.float16(-1*Coals[2,1]):\n",
    "            Boundary_50CI_2[i] = -1*Coals[2,2]\n",
    "    except IndexError:\n",
    "        print 'sorry, no data'\n",
    "        \n",
    "    \n",
    "    try:\n",
    "        if np.float16(Coals[2,3]) != np.float16(-1*Coals[2,2]) and Coals[2,3] != None:\n",
    "            Boundary_50CI_3[i]= -1*Coals[2,3]\n",
    "    except IndexError:\n",
    "        print 'sorry, no data'\n",
    "\n",
    "print Boundary_50CI_3\n",
    "\n",
    "\n",
    "Boundary_50CI_4 = np.array([0,0,0,0,0,\n",
    "                       0,0,0,0,0,\n",
    "                       0,0,0,0,0,\n",
    "                       0,36.434,0,0,0,\n",
    "                       0,0,0,0])\n",
    "\n",
    "print Boundary_50CI_4\n"
   ]
  },
  {
   "cell_type": "code",
   "execution_count": 84,
   "metadata": {
    "collapsed": false
   },
   "outputs": [
    {
     "data": {
      "text/plain": [
       "(419, 0)"
      ]
     },
     "execution_count": 84,
     "metadata": {},
     "output_type": "execute_result"
    },
    {
     "data": {
      "image/png": "[encoded data removed]",
      "text/plain": [
       "<matplotlib.figure.Figure at 0x11c52c0d0>"
      ]
     },
     "metadata": {},
     "output_type": "display_data"
    }
   ],
   "source": [
    "fig, axes = plt.subplots(nrows=1, ncols=1,figsize=(6, 4))\n",
    "\n",
    "\n",
    "B50CI_1 = np.zeros(len(Boundary_50CI_1)*2)\n",
    "B50CI_1[::2] = Boundary_50CI_1[:]\n",
    "B50CI_1[1::2] = Boundary_50CI_1[:]\n",
    "\n",
    "B50CI_2 = np.zeros(len(Boundary_50CI_2)*2)\n",
    "B50CI_2[::2] = Boundary_50CI_2[:]\n",
    "B50CI_2[1::2] = Boundary_50CI_2[:]\n",
    "\n",
    "B50CI_3 = np.zeros(len(Boundary_50CI_3)*2)\n",
    "B50CI_3[::2] = Boundary_50CI_3[:]\n",
    "B50CI_3[1::2] = Boundary_50CI_3[:]\n",
    "\n",
    "B50CI_4 = np.zeros(len(Boundary_50CI_4)*2)\n",
    "B50CI_4[::2] = Boundary_50CI_4[:]\n",
    "B50CI_4[1::2] = Boundary_50CI_4[:]\n",
    "\n",
    "axes.fill_between(time,B50CI_2,B50CI_1,facecolor='blue',edgecolor='none',interpolate=False,alpha=0.3,label='Coals')\n",
    "axes.fill_between(time,B50CI_4,B50CI_3,facecolor='blue',edgecolor='none',interpolate=False,alpha=0.3,label='Coals')\n",
    "\n",
    "\n",
    "\n",
    "axes.set_xlim((419,0))"
   ]
  },
  {
   "cell_type": "code",
   "execution_count": 85,
   "metadata": {
    "collapsed": false
   },
   "outputs": [
    {
     "name": "stdout",
     "output_type": "stream",
     "text": [
      "sorry, no data\n",
      "sorry, no data\n",
      "sorry, no data\n",
      "sorry, no data\n",
      "[ 50.61355106  44.47699755  34.02861607  22.6382475   79.59998216\n",
      "  43.95207654  39.75448909  36.87226275  64.63029617  88.98415615\n",
      "  49.70867287  90.          70.80725036  83.72205011  90.          88.18486418\n",
      "  82.90373462  86.27020246  87.39128272  65.69977917  62.56940511\n",
      "  64.87046563  51.45115438  73.47684462]\n",
      "[ 20.52334943   0.           0.           0.          72.16811283   0.           0.\n",
      "   0.          36.01203987  80.85886309   0.          40.72295622\n",
      "  28.01567537  44.10292454  42.9788873   43.03930063  50.48809882\n",
      "  35.89372806  37.37796209  19.67891766  26.02602001  25.09920966\n",
      "  24.04538975  33.34010176]\n",
      "[  0.                  nan   0.           0.          36.14077052\n",
      "          nan   0.           0.          17.03497762  75.91564344\n",
      "          nan  14.68819678   0.           0.           0.           0.\n",
      "  49.24526042   0.           7.74657635   8.90828809  17.75535638\n",
      "  12.45056695  20.84725356   3.66792158]\n",
      "[  0.      0.      0.      0.      0.      0.      0.      0.      0.\n",
      "  40.703   0.      0.      0.      0.      0.      0.     31.65    0.      0.\n",
      "   0.      0.      0.      0.      0.   ]\n"
     ]
    },
    {
     "data": {
      "text/plain": [
       "(419, 0)"
      ]
     },
     "execution_count": 85,
     "metadata": {},
     "output_type": "execute_result"
    },
    {
     "data": {
      "image/png": "[encoded data removed]",
      "text/plain": [
       "<matplotlib.figure.Figure at 0x11b55c350>"
      ]
     },
     "metadata": {},
     "output_type": "display_data"
    }
   ],
   "source": [
    "######################################\n",
    "# aplara = 75%\n",
    "\n",
    "\n",
    "fig, axes = plt.subplots(nrows=1, ncols=1,figsize=(6, 4))\n",
    "\n",
    "Boundary_75CI_1 = np.zeros(24)\n",
    "Boundary_75CI_2 = np.zeros(24)\n",
    "Boundary_75CI_3 = np.zeros(24)\n",
    "Boundary_75CI_4 = np.zeros(24)\n",
    "\n",
    "for i in np.arange(0,24,1):\n",
    "    \n",
    "    Coals_raw = pd.read_csv('/Users/wenchaocao/Research/41_Paleobiology_Paleotectonics/HDR/Coals_Matthews2016_TwoBiasRemoved_CorrectedBeforeFlipping_Flipped_Doubled_BinningSize5_Normalised/hdr_'+str(i)+'.csv')\n",
    "    Coals = np.array(Coals_raw)\n",
    "    \n",
    "    Boundary_75CI_1[i] = -1*Coals[1,1]\n",
    "    \n",
    "    try:\n",
    "        if np.float16(Coals[1,2]) != np.float16(-1*Coals[1,1]):\n",
    "            Boundary_75CI_2[i] = -1*Coals[1,2]\n",
    "    except IndexError:\n",
    "        print 'sorry, no data'\n",
    "    \n",
    "    try:\n",
    "        if np.float16(Coals[1,3]) != np.float16(-1*Coals[1,2]) and Coals[1,3] != None:\n",
    "            Boundary_75CI_3[i]= -1*Coals[1,3]\n",
    "    except IndexError:\n",
    "        print 'sorry, no data'\n",
    "\n",
    "print Boundary_75CI_1\n",
    "print Boundary_75CI_2\n",
    "print Boundary_75CI_3\n",
    "\n",
    "Boundary_75CI_4 = np.array([0,0,0,0,0,\n",
    "                       0,0,0,0,40.703,\n",
    "                       0,0,0,0,0,\n",
    "                       0,31.65,0,0,0,\n",
    "                       0,0,0,0])\n",
    "print Boundary_75CI_4\n",
    "\n",
    "B75CI_1 = np.zeros(len(Boundary_75CI_1)*2)\n",
    "B75CI_1[::2] = Boundary_75CI_1[:]\n",
    "B75CI_1[1::2] = Boundary_75CI_1[:]\n",
    "\n",
    "B75CI_2 = np.zeros(len(Boundary_75CI_2)*2)\n",
    "B75CI_2[::2] = Boundary_75CI_2[:]\n",
    "B75CI_2[1::2] = Boundary_75CI_2[:]\n",
    "\n",
    "B75CI_3 = np.zeros(len(Boundary_75CI_3)*2)\n",
    "B75CI_3[::2] = Boundary_75CI_3[:]\n",
    "B75CI_3[1::2] = Boundary_75CI_3[:]\n",
    "\n",
    "B75CI_4 = np.zeros(len(Boundary_75CI_4)*2)\n",
    "B75CI_4[::2] = Boundary_75CI_4[:]\n",
    "B75CI_4[1::2] = Boundary_75CI_4[:]\n",
    "\n",
    "axes.fill_between(time,B75CI_2,B75CI_1,facecolor='grey',edgecolor='none',interpolate=False,alpha=0.3,label='Coals')\n",
    "axes.fill_between(time,B75CI_4,B75CI_3,facecolor='grey',edgecolor='none',interpolate=False,alpha=0.3,label='Coals')\n",
    "\n",
    "axes.set_xlim((419,0))\n",
    "    "
   ]
  },
  {
   "cell_type": "code",
   "execution_count": 86,
   "metadata": {
    "collapsed": false
   },
   "outputs": [
    {
     "name": "stdout",
     "output_type": "stream",
     "text": [
      "sorry, no data\n",
      "sorry, no data\n",
      "sorry, no data\n",
      "sorry, no data\n",
      "[ 61.02106228  62.75771908  57.12757372  43.03026964  84.69764024\n",
      "  83.41197717  63.23903373  60.94866282  67.3674586   90.          68.48632633\n",
      "  90.          74.41210791  87.74818212  90.          90.          85.5843409\n",
      "  87.71040081  89.80049512  74.31003641  74.3931882   71.54375476\n",
      "  66.74639197  79.98795721]\n",
      "[  9.96376945   0.           0.           0.          63.15274654\n",
      "  71.13786222   0.           0.          27.57410262  29.37646465   0.\n",
      "  31.98613604  14.00079566  22.04444037  10.87111498  22.34655677\n",
      "   8.24008461  19.95926294  27.12850562   0.           0.           0.           0.\n",
      "  22.89776836]\n",
      "[  0.                  nan   0.           0.          48.42455527\n",
      "  63.88136901   0.           0.          26.98070616  13.76094538\n",
      "          nan  26.50101629   9.59465157   0.           0.           9.50362113\n",
      "   0.          11.60840204  19.81481927          nan          nan\n",
      "          nan          nan  15.85544156]\n"
     ]
    },
    {
     "data": {
      "text/plain": [
       "(419, 0)"
      ]
     },
     "execution_count": 86,
     "metadata": {},
     "output_type": "execute_result"
    },
    {
     "data": {
      "image/png": "[encoded data removed]",
      "text/plain": [
       "<matplotlib.figure.Figure at 0x11c28e550>"
      ]
     },
     "metadata": {},
     "output_type": "display_data"
    }
   ],
   "source": [
    "######################################\n",
    "# aplara = 95%\n",
    "\n",
    "fig, axes = plt.subplots(nrows=1, ncols=1,figsize=(6, 4))\n",
    "\n",
    "Boundary_95CI_1 = np.zeros(24)\n",
    "Boundary_95CI_2 = np.zeros(24)\n",
    "Boundary_95CI_3 = np.zeros(24)\n",
    "Boundary_95CI_4 = np.zeros(24)\n",
    "\n",
    "for i in np.arange(0,24,1):\n",
    "    \n",
    "    Coals_raw = pd.read_csv('/Users/wenchaocao/Research/41_Paleobiology_Paleotectonics/HDR/Coals_Matthews2016_TwoBiasRemoved_CorrectedBeforeFlipping_Flipped_Doubled_BinningSize5_Normalised/hdr_'+str(i)+'.csv')\n",
    "    Coals = np.array(Coals_raw)\n",
    "    \n",
    "    Boundary_95CI_1[i] = -1*Coals[0,1]\n",
    "    \n",
    "    try:\n",
    "        if np.float16(Coals[0,2]) != np.float16(-1*Coals[0,1]):\n",
    "            Boundary_95CI_2[i] = -1*Coals[0,2]\n",
    "    except IndexError:\n",
    "        print 'sorry, no data'\n",
    "    \n",
    "    try:\n",
    "        if np.float16(Coals[0,3]) != np.float16(-1*Coals[0,2]) and Coals[0,3] != None:\n",
    "            Boundary_95CI_3[i]= -1*Coals[0,3]\n",
    "    except IndexError:\n",
    "        print 'sorry, no data'\n",
    "\n",
    "print Boundary_95CI_1\n",
    "print Boundary_95CI_2\n",
    "print Boundary_95CI_3\n",
    "\n",
    "\n",
    "B95CI_1 = np.zeros(len(Boundary_95CI_1)*2)\n",
    "B95CI_1[::2] = Boundary_95CI_1[:]\n",
    "B95CI_1[1::2] = Boundary_95CI_1[:]\n",
    "\n",
    "B95CI_2 = np.zeros(len(Boundary_95CI_2)*2)\n",
    "B95CI_2[::2] = Boundary_95CI_2[:]\n",
    "B95CI_2[1::2] = Boundary_95CI_2[:]\n",
    "\n",
    "B95CI_3 = np.zeros(len(Boundary_95CI_3)*2)\n",
    "B95CI_3[::2] = Boundary_95CI_3[:]\n",
    "B95CI_3[1::2] = Boundary_95CI_3[:]\n",
    "\n",
    "B95CI_4 = np.zeros(len(Boundary_95CI_4)*2)\n",
    "B95CI_4[::2] = Boundary_95CI_4[:]\n",
    "B95CI_4[1::2] = Boundary_95CI_4[:]\n",
    "\n",
    "axes.fill_between(time,B95CI_2,B95CI_1,facecolor='grey',edgecolor='none',interpolate=False,alpha=0.3,label='Coals')\n",
    "axes.fill_between(time,B95CI_4,B95CI_3,facecolor='grey',edgecolor='none',interpolate=False,alpha=0.3,label='Coals')\n",
    "\n",
    "axes.set_xlim((419,0))\n",
    "    "
   ]
  },
  {
   "cell_type": "code",
   "execution_count": 91,
   "metadata": {
    "collapsed": false
   },
   "outputs": [
    {
     "data": {
      "image/png": "[encoded data removed]",
      "text/plain": [
       "<matplotlib.figure.Figure at 0x11ca53350>"
      ]
     },
     "metadata": {},
     "output_type": "display_data"
    }
   ],
   "source": [
    "\n",
    "fig, axes = plt.subplots(nrows=1, ncols=1,figsize=(8, 4))\n",
    "\n",
    "# 95%\n",
    "axes.fill_between(time,B95CI_2,B95CI_1,facecolor='grey',edgecolor='none',interpolate=False,alpha=0.3,label='Coals')\n",
    "axes.fill_between(time,B95CI_4,B95CI_3,facecolor='grey',edgecolor='none',interpolate=False,alpha=0.3,label='Coals')\n",
    "\n",
    "# 75%\n",
    "#axes.fill_between(time,B75CI_2,B75CI_1,facecolor='grey',edgecolor='none',interpolate=False,alpha=0.5,label='Coals')\n",
    "#axes.fill_between(time,B75CI_4,B75CI_3,facecolor='grey',edgecolor='none',interpolate=False,alpha=0.5,label='Coals')\n",
    "\n",
    "# 50%\n",
    "axes.fill_between(time,B50CI_2,B50CI_1,facecolor='blue',edgecolor='none',interpolate=False,alpha=0.4,label='Coals')\n",
    "axes.fill_between(time,B50CI_4,B50CI_3,facecolor='blue',edgecolor='none',interpolate=False,alpha=0.4,label='Coals')\n",
    "\n",
    "axes.plot(time,data_C,'blue', alpha=0.5) #,linewidth=.0\n",
    "axes.plot(time,data_C,'blue', alpha=0.5) #,linewidth=1\n",
    "\n",
    "\n",
    "plt.xticks(np.hstack((data_time['FromAge'],data_time['ToAge'])),rotation=90,size=8) #, rotation=50,,verticalalignment='top'\n",
    "axes.set_ylabel('Latitude', fontsize=14) \n",
    "axes.set_xlabel('Time (Ma)', fontsize=14) \n",
    "axes.set_xlim((419,0))\n",
    "axes.set_ylim(ymin=0)\n",
    "axes.xaxis.set_tick_params(direction='out')\n",
    "axes.yaxis.set_tick_params(labelsize=12,direction='out')\n",
    "axes.xaxis.set_ticks_position('both')\n",
    "axes.yaxis.set_ticks_position('left')\n",
    "#axes.legend()\n",
    "\n",
    "plt.savefig('Coals_Bands_50&95.pdf',dpi=600)\n",
    "plt.show()"
   ]
  },
  {
   "cell_type": "code",
   "execution_count": null,
   "metadata": {
    "collapsed": true
   },
   "outputs": [],
   "source": []
  },
  {
   "cell_type": "markdown",
   "metadata": {},
   "source": [
    "### Evaporites"
   ]
  },
  {
   "cell_type": "code",
   "execution_count": 92,
   "metadata": {
    "collapsed": false
   },
   "outputs": [
    {
     "name": "stdout",
     "output_type": "stream",
     "text": [
      "sorry, no data\n",
      "sorry, no data\n",
      "sorry, no data\n",
      "sorry, no data\n",
      "sorry, no data\n",
      "[ 17.54577731  32.9661596   31.88169191  32.23236462  38.75329368\n",
      "  24.17631354  27.48048393  37.97567777  23.32142621  27.38103664\n",
      "  27.91535641  19.55027784  21.11028119  23.16137201  33.11671109\n",
      "  34.0156875   30.10264206  32.21682981  32.80621928  23.55958179\n",
      "  42.51999283  45.15474357  44.57015651  43.60501884]\n",
      "[  0.          11.60727048  10.97843096   9.87524266  13.84778556   0.\n",
      "   3.28981488  19.80961245   0.           4.27114755   7.96813501   0.           0.\n",
      "   1.10183254   9.36912012  11.02364509   7.68044744   8.75247125\n",
      "   8.76237496   2.02967803  19.15976889  28.06265036  24.91555401\n",
      "  24.48009794]\n",
      "[ 0.          0.          0.          0.          0.          0.          0.\n",
      "  8.26489103  0.          0.          0.          0.          0.          0.\n",
      "  0.          0.          0.          0.          0.          0.          0.\n",
      "  0.          0.          0.        ]\n"
     ]
    }
   ],
   "source": [
    "import pandas as pd\n",
    "import numpy as np\n",
    "import matplotlib.pyplot as plt\n",
    "import os\n",
    "\n",
    "%matplotlib inline\n",
    "\n",
    "######################################\n",
    "# aplara = 50%\n",
    "\n",
    "Boundary_50CI_1 = np.zeros(24)\n",
    "Boundary_50CI_2 = np.zeros(24)\n",
    "Boundary_50CI_3 = np.zeros(24)\n",
    "Boundary_50CI_4 = np.zeros(24)\n",
    "\n",
    "for i in np.arange(0,24,1):\n",
    "    \n",
    "    \n",
    "    data_raw = pd.read_csv('/Users/wenchaocao/Research/41_Paleobiology_Paleotectonics/HDR/Evaporites_Matthews2016_TwoBiasRemoved_CorrectedBeforeFlipping_Flipped_Doubled_BinningSize5_Normalised/hdr_'+str(i)+'.csv')\n",
    "    data = np.array(data_raw)\n",
    "    Boundary_50CI_1[i] = -1*data[2,1]\n",
    "    \n",
    "    try:\n",
    "        if np.float16(data[2,2]) != np.float16(-1*data[2,1]):\n",
    "            Boundary_50CI_2[i] = -1*data[2,2]\n",
    "    except IndexError:\n",
    "        print 'sorry, no data'\n",
    "        \n",
    "    try:\n",
    "        if np.float16(data[2,3]) != np.float16(-1*data[2,2]) and data[2,3] != None:\n",
    "            Boundary_50CI_3[i]= -1*data[2,3]\n",
    "    except IndexError:\n",
    "        print 'sorry, no data'\n",
    "\n",
    "print Boundary_50CI_1\n",
    "print Boundary_50CI_2\n",
    "print Boundary_50CI_3\n"
   ]
  },
  {
   "cell_type": "code",
   "execution_count": 93,
   "metadata": {
    "collapsed": false
   },
   "outputs": [
    {
     "name": "stdout",
     "output_type": "stream",
     "text": [
      "[ 27.86280497  36.87387967  35.78402488  35.16856873  41.80185752\n",
      "  37.40860681  37.17680892  40.13684582  37.84289516  35.97384811\n",
      "  31.30713979  30.61455499  34.82174913  34.83761975  37.01128013\n",
      "  36.9046848   34.60784208  36.41607559  36.96448015  33.64768897\n",
      "  49.18334553  51.37933911  49.59043064  49.91488036]\n",
      "[  0.           2.03667147   1.82246522   0.           2.87701174   0.           0.\n",
      "   0.           0.           0.           0.           0.           0.           0.\n",
      "   0.           0.56394385   0.           0.           0.           0.\n",
      "  10.41701925  20.84044915  15.04763723  17.78215648]\n"
     ]
    }
   ],
   "source": [
    "######################################\n",
    "# aplara = 75%\n",
    "\n",
    "Boundary_75CI_1 = np.zeros(24)\n",
    "Boundary_75CI_2 = np.zeros(24)\n",
    "Boundary_75CI_3 = np.zeros(24)\n",
    "Boundary_75CI_4 = np.zeros(24)\n",
    "\n",
    "for i in np.arange(0,24,1):\n",
    "    \n",
    "    data_raw = pd.read_csv('/Users/wenchaocao/Research/41_Paleobiology_Paleotectonics/HDR/Evaporites_Matthews2016_TwoBiasRemoved_CorrectedBeforeFlipping_Flipped_Doubled_BinningSize5_Normalised/hdr_'+str(i)+'.csv')\n",
    "    data = np.array(data_raw)\n",
    "    \n",
    "    Boundary_75CI_1[i] = -1*data[1,1]\n",
    "    \n",
    "    try:\n",
    "        if np.float16(data[1,2]) != np.float16(-1*data[1,1]):\n",
    "            Boundary_75CI_2[i] = -1*data[1,2]\n",
    "    except IndexError:\n",
    "        print 'sorry, no data'\n",
    "\n",
    "print Boundary_75CI_1\n",
    "print Boundary_75CI_2\n"
   ]
  },
  {
   "cell_type": "code",
   "execution_count": 94,
   "metadata": {
    "collapsed": false
   },
   "outputs": [
    {
     "name": "stdout",
     "output_type": "stream",
     "text": [
      "sorry, no data\n",
      "sorry, no data\n",
      "sorry, no data\n",
      "sorry, no data\n",
      "sorry, no data\n",
      "[ 43.49076505  50.03470402  49.0942411   51.00632337  54.69303175\n",
      "  53.51530255  53.6271979   56.19429697  56.20703293  55.49475066\n",
      "  46.52252834  45.89087669  53.65034496  54.52863957  54.27377435\n",
      "  53.69515119  50.98362208  53.4713962   53.19724311  51.00672785\n",
      "  57.10618631  55.07074249  53.99345258  57.34474932]\n",
      "[  0.           0.           0.           0.           0.           0.           0.\n",
      "   0.           0.           0.           0.           0.           0.           0.\n",
      "   0.           0.           0.           0.           0.           0.           0.\n",
      "  12.90772576   0.           4.43990527]\n",
      "[  0.                  nan          nan          nan          nan   0.\n",
      "          nan          nan   0.                  nan          nan   0.           0.\n",
      "          nan          nan          nan          nan          nan\n",
      "          nan          nan          nan  10.53909444          nan   0.        ]\n"
     ]
    }
   ],
   "source": [
    "######################################\n",
    "# aplara = 95%\n",
    "\n",
    "Boundary_95CI_1 = np.zeros(24)\n",
    "Boundary_95CI_2 = np.zeros(24)\n",
    "Boundary_95CI_3 = np.zeros(24)\n",
    "Boundary_95CI_4 = np.zeros(24)\n",
    "\n",
    "for i in np.arange(0,24,1):\n",
    "    \n",
    "    data_raw = pd.read_csv('/Users/wenchaocao/Research/41_Paleobiology_Paleotectonics/HDR/Evaporites_Matthews2016_TwoBiasRemoved_CorrectedBeforeFlipping_Flipped_Doubled_BinningSize5_Normalised/hdr_'+str(i)+'.csv')\n",
    "    data = np.array(data_raw)\n",
    "    \n",
    "    Boundary_95CI_1[i] = -1*data[0,1]\n",
    "    \n",
    "    try:\n",
    "        if np.float16(data[0,2]) != np.float16(-1*data[0,1]):\n",
    "            Boundary_95CI_2[i] = -1*data[0,2]\n",
    "    except IndexError:\n",
    "        print 'sorry, no data'\n",
    "        \n",
    "    try:\n",
    "        if np.float16(data[0,3]) != np.float16(-1*data[0,2]):\n",
    "            Boundary_95CI_3[i] = -1*data[0,3]\n",
    "    except IndexError:\n",
    "        print 'sorry, no data'\n",
    "\n",
    "print Boundary_95CI_1\n",
    "print Boundary_95CI_2\n",
    "print Boundary_95CI_3\n",
    "\n"
   ]
  },
  {
   "cell_type": "code",
   "execution_count": 95,
   "metadata": {
    "collapsed": false
   },
   "outputs": [
    {
     "name": "stdout",
     "output_type": "stream",
     "text": [
      "25.9738635476\n",
      "28.5530931544\n",
      "21.0815083653\n",
      "[ 21.74538252  25.01735201  24.54712055  25.50316168  27.34651587\n",
      "  26.75765127  26.81359895  28.09714849  28.10351647  27.74737533\n",
      "  23.26126417  22.94543834  26.82517248  27.26431978  27.13688717\n",
      "  26.84757559  25.49181104  26.7356981   26.59862155  25.50336392\n",
      "  28.55309315  21.08150837  26.99672629  26.45242203]\n"
     ]
    }
   ],
   "source": [
    "print np.average((Boundary_95CI_1-Boundary_95CI_2)/2)\n",
    "print np.max((Boundary_95CI_1-Boundary_95CI_2)/2)\n",
    "print np.min((Boundary_95CI_1-Boundary_95CI_2)/2)\n",
    "print (Boundary_95CI_1-Boundary_95CI_2)/2"
   ]
  },
  {
   "cell_type": "code",
   "execution_count": 96,
   "metadata": {
    "collapsed": false
   },
   "outputs": [],
   "source": [
    "B50CI_1 = np.zeros(len(Boundary_50CI_1)*2)\n",
    "B50CI_1[::2] = Boundary_50CI_1[:]\n",
    "B50CI_1[1::2] = Boundary_50CI_1[:]\n",
    "\n",
    "B50CI_2 = np.zeros(len(Boundary_50CI_2)*2)\n",
    "B50CI_2[::2] = Boundary_50CI_2[:]\n",
    "B50CI_2[1::2] = Boundary_50CI_2[:]\n",
    "\n",
    "B50CI_3 = np.zeros(len(Boundary_50CI_3)*2)\n",
    "B50CI_3[::2] = Boundary_50CI_3[:]\n",
    "B50CI_3[1::2] = Boundary_50CI_3[:]\n",
    "\n",
    "B75CI_1 = np.zeros(len(Boundary_75CI_1)*2)\n",
    "B75CI_1[::2] = Boundary_75CI_1[:]\n",
    "B75CI_1[1::2] = Boundary_75CI_1[:]\n",
    "\n",
    "B75CI_2 = np.zeros(len(Boundary_75CI_2)*2)\n",
    "B75CI_2[::2] = Boundary_75CI_2[:]\n",
    "B75CI_2[1::2] = Boundary_75CI_2[:]\n",
    "\n",
    "B95CI_1 = np.zeros(len(Boundary_95CI_1)*2)\n",
    "B95CI_1[::2] = Boundary_95CI_1[:]\n",
    "B95CI_1[1::2] = Boundary_95CI_1[:]\n",
    "\n",
    "B95CI_2 = np.zeros(len(Boundary_95CI_2)*2)\n",
    "B95CI_2[::2] = Boundary_95CI_2[:]\n",
    "B95CI_2[1::2] = Boundary_95CI_2[:]\n",
    "\n",
    "B95CI_3 = np.zeros(len(Boundary_95CI_3)*2)\n",
    "B95CI_3[::2] = Boundary_95CI_3[:]\n",
    "B95CI_3[1::2] = Boundary_95CI_3[:]\n"
   ]
  },
  {
   "cell_type": "code",
   "execution_count": 98,
   "metadata": {
    "collapsed": false
   },
   "outputs": [
    {
     "data": {
      "image/png": "[encoded data removed]",
      "text/plain": [
       "<matplotlib.figure.Figure at 0x11c800950>"
      ]
     },
     "metadata": {},
     "output_type": "display_data"
    }
   ],
   "source": [
    "\n",
    "fig, axes = plt.subplots(nrows=1, ncols=1,figsize=(8, 4))\n",
    "\n",
    "# 95%\n",
    "axes.fill_between(time,B95CI_2,B95CI_1,facecolor='grey',edgecolor='none',interpolate=False,alpha=0.3,label='Coals')\n",
    "axes.fill_between(time,0,B95CI_3,facecolor='grey',edgecolor='none',interpolate=False,alpha=0.3,label='Coals')\n",
    "\n",
    "# 75%\n",
    "#axes.fill_between(time,B75CI_2,B75CI_1,facecolor='grey',edgecolor='none',interpolate=False,alpha=0.5,label='Coals')\n",
    "\n",
    "# 50%\n",
    "axes.fill_between(time,B50CI_2,B50CI_1,facecolor='blue',edgecolor='none',interpolate=False,alpha=0.4,label='Coals')\n",
    "axes.fill_between(time,0,B50CI_3,facecolor='blue',edgecolor='none',interpolate=False,alpha=0.4,label='Coals')\n",
    "\n",
    "axes.plot(time,data_E,'blue', alpha=0.5) #,linewidth=.0\n",
    "\n",
    "\n",
    "plt.xticks(np.hstack((data_time['FromAge'],data_time['ToAge'])),rotation=90,size=8) #, rotation=50,,verticalalignment='top'\n",
    "axes.set_ylabel('Latitude', fontsize=14) \n",
    "axes.set_xlabel('Time (Ma)', fontsize=14) \n",
    "axes.set_xlim((419,0))\n",
    "axes.set_ylim((0,90))\n",
    "axes.xaxis.set_tick_params(direction='out')\n",
    "axes.yaxis.set_tick_params(labelsize=12,direction='out')\n",
    "axes.xaxis.set_ticks_position('both')\n",
    "axes.yaxis.set_ticks_position('left')\n",
    "#axes.legend()\n",
    "\n",
    "plt.savefig('Evaporites_Bands_50&95.pdf',dpi=600)\n",
    "plt.show()"
   ]
  },
  {
   "cell_type": "code",
   "execution_count": 316,
   "metadata": {
    "collapsed": true
   },
   "outputs": [],
   "source": [
    "### glacial"
   ]
  },
  {
   "cell_type": "code",
   "execution_count": 99,
   "metadata": {
    "collapsed": false
   },
   "outputs": [
    {
     "name": "stdout",
     "output_type": "stream",
     "text": [
      "[  0.           0.           0.          70.71754806  62.98392173\n",
      "  74.38792473  57.50718736  67.96171087  72.43393759  78.60706296   0.           0.\n",
      "   0.          90.          90.          77.81199372   0.          90.\n",
      "  67.73698918  74.50583019  65.21246729  74.27551004  67.52500058  90.        ]\n",
      "[  0.           0.           0.          51.2482926   40.15751137\n",
      "  60.24200905  39.92471414  47.51623601  52.81893907  65.6053133    0.           0.\n",
      "   0.          83.83793437  80.18972858  66.42286602   0.          74.911144\n",
      "  46.70817552  60.0926771   49.47543935  58.99725668  48.7721411\n",
      "  75.78811211]\n",
      "[ 0.          0.          0.          0.          3.52716198  0.          0.\n",
      "  6.70597804  0.          0.          0.          0.          0.          0.\n",
      "  0.          0.          0.          0.          0.          0.          0.\n",
      "  0.          0.          0.        ]\n"
     ]
    }
   ],
   "source": [
    "Boundary_50CI_1 = np.zeros(24)\n",
    "Boundary_50CI_2 = np.zeros(24)\n",
    "Boundary_50CI_3 = np.zeros(24)\n",
    "Boundary_50CI_4 = np.zeros(24)\n",
    "\n",
    "for i in np.arange(0,24,1):\n",
    "    \n",
    "    data_raw = '/Users/wenchaocao/Research/41_Paleobiology_Paleotectonics/HDR/Glacial_Matthews2016_TwoBiasRemoved_CorrectedBeforeFlipping_Flipped_Doubled_BinningSize5_Normalised/hdr_'+str(i)+'.csv'\n",
    "    if os.path.isfile(data_raw):\n",
    "        data_raw = pd.read_csv('/Users/wenchaocao/Research/41_Paleobiology_Paleotectonics/HDR/Glacial_Matthews2016_TwoBiasRemoved_CorrectedBeforeFlipping_Flipped_Doubled_BinningSize5_Normalised/hdr_'+str(i)+'.csv')\n",
    "        data = np.array(data_raw)\n",
    "        Boundary_50CI_1[i] = -1*data[2,1]\n",
    "\n",
    "        try:\n",
    "            if np.float16(data[2,2]) != np.float16(-1*data[2,1]):\n",
    "                Boundary_50CI_2[i] = -1*data[2,2]\n",
    "        except IndexError:\n",
    "            print 'sorry, no data'\n",
    "\n",
    "        try:\n",
    "            if np.float16(data[2,3]) != np.float16(-1*data[2,2]) and data[2,3] != None:\n",
    "                Boundary_50CI_3[i]= -1*data[2,3]\n",
    "        except IndexError:\n",
    "            print 'sorry, no data'\n",
    "\n",
    "print Boundary_50CI_1\n",
    "print Boundary_50CI_2\n",
    "print Boundary_50CI_3\n"
   ]
  },
  {
   "cell_type": "code",
   "execution_count": 100,
   "metadata": {
    "collapsed": false
   },
   "outputs": [
    {
     "name": "stdout",
     "output_type": "stream",
     "text": [
      "[  0.           0.           0.          75.85762624  67.36182661\n",
      "  78.35679742  63.28693426  72.53619805  77.09397447  83.06429431   0.           0.\n",
      "   0.          90.          90.          80.85713504   0.          90.\n",
      "  73.85396559  78.36442573  70.22675315  78.63526265  73.14514288  90.        ]\n",
      "[  0.           0.           0.          43.93844141  35.07030406\n",
      "  54.62383586  33.95697087  40.51910987  41.58785497  59.39190577   0.           0.\n",
      "   0.          78.88235646  73.06096566  62.00472886   0.          63.63368266\n",
      "  39.81041121  54.61138475  43.66920343  51.45134915  41.77476312\n",
      "  66.126271  ]\n",
      "[  0.           0.           0.           0.          13.41019906   0.           0.\n",
      "  13.37350566   0.           0.           0.           0.           0.           0.\n",
      "   0.           0.           0.           0.           0.           0.           0.\n",
      "   0.           0.           0.        ]\n"
     ]
    }
   ],
   "source": [
    "######################################\n",
    "# aplara = 75%\n",
    "\n",
    "Boundary_75CI_1 = np.zeros(24)\n",
    "Boundary_75CI_2 = np.zeros(24)\n",
    "Boundary_75CI_3 = np.zeros(24)\n",
    "Boundary_75CI_4 = np.zeros(24)\n",
    "\n",
    "for i in np.arange(0,24,1):\n",
    "    \n",
    "    data_raw = '/Users/wenchaocao/Research/41_Paleobiology_Paleotectonics/HDR/Glacial_Matthews2016_TwoBiasRemoved_CorrectedBeforeFlipping_Flipped_Doubled_BinningSize5_Normalised/hdr_'+str(i)+'.csv'\n",
    "    if os.path.isfile(data_raw):\n",
    "        \n",
    "        data_raw = pd.read_csv('/Users/wenchaocao/Research/41_Paleobiology_Paleotectonics/HDR/Glacial_Matthews2016_TwoBiasRemoved_CorrectedBeforeFlipping_Flipped_Doubled_BinningSize5_Normalised/hdr_'+str(i)+'.csv')\n",
    "        data = np.array(data_raw)\n",
    "\n",
    "        Boundary_75CI_1[i] = -1*data[1,1]\n",
    "\n",
    "        try:\n",
    "            if np.float16(data[1,2]) != np.float16(-1*data[1,1]):\n",
    "                Boundary_75CI_2[i] = -1*data[1,2]\n",
    "        except IndexError:\n",
    "            print 'sorry, no data'\n",
    "        \n",
    "        try:\n",
    "            if np.float16(data[1,3]) != np.float16(-1*data[1,2]) and data[1,3] != None:\n",
    "                Boundary_75CI_3[i]= -1*data[1,3]\n",
    "        except IndexError:\n",
    "            print 'sorry, no data'\n",
    "\n",
    "print Boundary_75CI_1\n",
    "print Boundary_75CI_2\n",
    "print Boundary_75CI_3\n"
   ]
  },
  {
   "cell_type": "code",
   "execution_count": 101,
   "metadata": {
    "collapsed": false
   },
   "outputs": [
    {
     "name": "stdout",
     "output_type": "stream",
     "text": [
      "[  0.           0.           0.          82.13207157  71.50627236\n",
      "  82.76338597  71.56262276  76.90339976  83.53077047  86.22600784   0.           0.\n",
      "   0.          90.          90.          84.37606899   0.          90.\n",
      "  80.87713791  82.82376794  76.31774072  81.41497479  79.91540645  90.        ]\n",
      "[  0.           0.           0.          30.52983999  26.32745474\n",
      "  45.05469706  24.34491922  29.50801618  24.46630406  37.26446506   0.           0.\n",
      "   0.          69.62929917  60.84951288  53.95888549   0.          43.57263077\n",
      "  28.7088123   44.85252634  34.65070339  35.58199831  29.80249704\n",
      "  49.88238702]\n",
      "[  0.           0.           0.           0.          23.71687366   0.           0.\n",
      "  23.18640734   0.           0.           0.           0.           0.           0.\n",
      "   0.           0.           0.           0.           0.           0.           0.\n",
      "   0.           0.           0.        ]\n"
     ]
    }
   ],
   "source": [
    "######################################\n",
    "# aplara = 95%\n",
    "\n",
    "Boundary_95CI_1 = np.zeros(24)\n",
    "Boundary_95CI_2 = np.zeros(24)\n",
    "Boundary_95CI_3 = np.zeros(24)\n",
    "Boundary_95CI_4 = np.zeros(24)\n",
    "\n",
    "for i in np.arange(0,24,1):\n",
    "    \n",
    "    data_raw = '/Users/wenchaocao/Research/41_Paleobiology_Paleotectonics/HDR/Glacial_Matthews2016_TwoBiasRemoved_CorrectedBeforeFlipping_Flipped_Doubled_BinningSize5_Normalised/hdr_'+str(i)+'.csv'\n",
    "    if os.path.isfile(data_raw):\n",
    "        \n",
    "        data_raw = pd.read_csv('/Users/wenchaocao/Research/41_Paleobiology_Paleotectonics/HDR/Glacial_Matthews2016_TwoBiasRemoved_CorrectedBeforeFlipping_Flipped_Doubled_BinningSize5_Normalised/hdr_'+str(i)+'.csv')\n",
    "        data = np.array(data_raw)\n",
    "\n",
    "        Boundary_95CI_1[i] = -1*data[0,1]\n",
    "\n",
    "        try:\n",
    "            if np.float16(data[0,2]) != np.float16(-1*data[0,1]):\n",
    "                Boundary_95CI_2[i] = -1*data[0,2]\n",
    "        except IndexError:\n",
    "            print 'sorry, no data'\n",
    "        \n",
    "        try:\n",
    "            if np.float16(data[0,3]) != np.float16(-1*data[0,2]) and data[0,3] != None:\n",
    "                Boundary_95CI_3[i]= -1*data[0,3]\n",
    "        except IndexError:\n",
    "            print 'sorry, no data'\n",
    "\n",
    "print Boundary_95CI_1\n",
    "print Boundary_95CI_2\n",
    "print Boundary_95CI_3\n"
   ]
  },
  {
   "cell_type": "code",
   "execution_count": 102,
   "metadata": {
    "collapsed": true
   },
   "outputs": [],
   "source": [
    "B50CI_1 = np.zeros(len(Boundary_50CI_1)*2)\n",
    "B50CI_1[::2] = Boundary_50CI_1[:]\n",
    "B50CI_1[1::2] = Boundary_50CI_1[:]\n",
    "\n",
    "B50CI_2 = np.zeros(len(Boundary_50CI_2)*2)\n",
    "B50CI_2[::2] = Boundary_50CI_2[:]\n",
    "B50CI_2[1::2] = Boundary_50CI_2[:]\n",
    "\n",
    "B50CI_3 = np.zeros(len(Boundary_50CI_3)*2)\n",
    "B50CI_3[::2] = Boundary_50CI_3[:]\n",
    "B50CI_3[1::2] = Boundary_50CI_3[:]\n",
    "\n",
    "B75CI_1 = np.zeros(len(Boundary_75CI_1)*2)\n",
    "B75CI_1[::2] = Boundary_75CI_1[:]\n",
    "B75CI_1[1::2] = Boundary_75CI_1[:]\n",
    "\n",
    "B75CI_2 = np.zeros(len(Boundary_75CI_2)*2)\n",
    "B75CI_2[::2] = Boundary_75CI_2[:]\n",
    "B75CI_2[1::2] = Boundary_75CI_2[:]\n",
    "\n",
    "B75CI_3 = np.zeros(len(Boundary_75CI_3)*2)\n",
    "B75CI_3[::2] = Boundary_75CI_3[:]\n",
    "B75CI_3[1::2] = Boundary_75CI_3[:]\n",
    "\n",
    "B95CI_1 = np.zeros(len(Boundary_95CI_1)*2)\n",
    "B95CI_1[::2] = Boundary_95CI_1[:]\n",
    "B95CI_1[1::2] = Boundary_95CI_1[:]\n",
    "\n",
    "B95CI_2 = np.zeros(len(Boundary_95CI_2)*2)\n",
    "B95CI_2[::2] = Boundary_95CI_2[:]\n",
    "B95CI_2[1::2] = Boundary_95CI_2[:]\n",
    "\n",
    "B95CI_3 = np.zeros(len(Boundary_95CI_3)*2)\n",
    "B95CI_3[::2] = Boundary_95CI_3[:]\n",
    "B95CI_3[1::2] = Boundary_95CI_3[:]\n"
   ]
  },
  {
   "cell_type": "code",
   "execution_count": 106,
   "metadata": {
    "collapsed": false
   },
   "outputs": [
    {
     "data": {
      "image/png": "[encoded data removed]",
      "text/plain": [
       "<matplotlib.figure.Figure at 0x11c7e9c10>"
      ]
     },
     "metadata": {},
     "output_type": "display_data"
    }
   ],
   "source": [
    "\n",
    "fig, axes = plt.subplots(nrows=1, ncols=1,figsize=(8, 4))\n",
    "# 95%\n",
    "axes.fill_between(time,B95CI_2,B95CI_1,facecolor='grey',edgecolor='none',interpolate=False,alpha=0.3,label='Coals')\n",
    "axes.fill_between(time,0,B95CI_3,facecolor='grey',edgecolor='none',interpolate=False,alpha=0.3,label='Coals')\n",
    "\n",
    "# 75%\n",
    "#axes.fill_between(time,B75CI_2,B75CI_1,facecolor='grey',edgecolor='none',interpolate=False,alpha=0.5,label='Coals')\n",
    "#axes.fill_between(time,0,B75CI_3,facecolor='grey',edgecolor='none',interpolate=False,alpha=0.3,label='Coals')\n",
    "\n",
    "# 50%\n",
    "axes.fill_between(time,B50CI_2,B50CI_1,facecolor='blue',edgecolor='none',interpolate=False,alpha=0.4,label='Coals')\n",
    "axes.fill_between(time,0,B50CI_3,facecolor='blue',edgecolor='none',interpolate=False,alpha=0.4,label='Coals')\n",
    "\n",
    "\n",
    "\n",
    "axes.plot(time,data_G,'b', alpha=0.5)\n",
    "\n",
    "\n",
    "plt.xticks(np.hstack((data_time['FromAge'],data_time['ToAge'])),rotation=90,size=8) #, rotation=50,,verticalalignment='top'\n",
    "axes.set_ylabel('Latitude', fontsize=14) \n",
    "axes.set_xlabel('Time (Ma)', fontsize=14) \n",
    "axes.set_xlim((419,0))\n",
    "axes.set_ylim(ymin=0)\n",
    "axes.xaxis.set_tick_params(direction='out')\n",
    "axes.yaxis.set_tick_params(labelsize=12,direction='out')\n",
    "axes.xaxis.set_ticks_position('both')\n",
    "axes.yaxis.set_ticks_position('left')\n",
    "#axes.legend()\n",
    "\n",
    "#plt.savefig('Glacial_Bands_50&95.pdf',dpi=600)\n",
    "plt.show()"
   ]
  },
  {
   "cell_type": "code",
   "execution_count": 140,
   "metadata": {
    "collapsed": true
   },
   "outputs": [],
   "source": [
    "# climate gredient"
   ]
  },
  {
   "cell_type": "code",
   "execution_count": 162,
   "metadata": {
    "collapsed": false
   },
   "outputs": [
    {
     "data": {
      "image/png": "[encoded data removed]",
      "text/plain": [
       "<matplotlib.figure.Figure at 0x11c6969d0>"
      ]
     },
     "metadata": {},
     "output_type": "display_data"
    }
   ],
   "source": [
    "fig, axes = plt.subplots(nrows=1, ncols=1,figsize=(8, 4))\n",
    "\n",
    "data = pd.read_csv('/Users/wenchaocao/Desktop/ClimateGradients.csv')\n",
    "\n",
    "\n",
    "grad = np.zeros(len(data['Dataset y'][7::1])*2)\n",
    "grad[::2] = data['Dataset y'][7::1]\n",
    "grad[1::2] = data['Dataset y'][7::1]\n",
    "\n",
    "axes.plot(time,grad,linewidth=2,color='black')\n",
    "#plt.xticks(np.hstack((data_time['FromAge'],data_time['ToAge'])),rotation=90,size=8) #, rotation=50,,verticalalignment='top'\n",
    "\n",
    "axes.set_ylim((0,5.5))\n",
    "axes.set_xlim((419,0))\n",
    "axes.set_ylabel('Latitude', fontsize=14) \n",
    "axes.set_xlabel('Time (Ma)', fontsize=14) \n",
    "axes.set_xlim((419,0))\n",
    "axes.set_ylim(ymin=0)\n",
    "axes.xaxis.set_tick_params(direction='out')\n",
    "axes.yaxis.set_tick_params(labelsize=12,direction='out')\n",
    "axes.xaxis.set_ticks_position('both')\n",
    "axes.yaxis.set_ticks_position('left')\n",
    "#axes.grid(True)\n",
    "\n",
    "plt.savefig('ClimateGradients.pdf')"
   ]
  },
  {
   "cell_type": "code",
   "execution_count": null,
   "metadata": {
    "collapsed": true
   },
   "outputs": [],
   "source": []
  }
 ],
 "metadata": {
  "kernelspec": {
   "display_name": "Python 2",
   "language": "python",
   "name": "python2"
  },
  "language_info": {
   "codemirror_mode": {
    "name": "ipython",
    "version": 2
   },
   "file_extension": ".py",
   "mimetype": "text/x-python",
   "name": "python",
   "nbconvert_exporter": "python",
   "pygments_lexer": "ipython2",
   "version": "2.7.13"
  }
 },
 "nbformat": 4,
 "nbformat_minor": 2
}
