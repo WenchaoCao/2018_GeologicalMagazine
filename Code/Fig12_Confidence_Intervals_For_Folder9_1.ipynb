{
 "cells": [
  {
   "cell_type": "code",
   "execution_count": 73,
   "metadata": {
    "collapsed": false,
    "scrolled": false
   },
   "outputs": [
    {
     "name": "stdout",
     "output_type": "stream",
     "text": [
      "Time step: 0\n",
      "No ice sheet\n",
      "Time step: 1\n",
      "No ice sheet\n",
      "Time step: 2\n",
      "No ice sheet\n",
      "Time step: 3\n",
      "No ice sheet\n",
      "Time step: 4\n",
      "No ice sheet\n",
      "Time step: 5\n",
      "No ice sheet\n",
      "Time step: 6\n",
      "No ice sheet\n",
      "Time step: 7\n",
      "No ice sheet\n",
      "Time step: 8\n",
      "No ice sheet\n",
      "Time step: 9\n",
      "No ice sheet\n",
      "Time step: 10\n",
      "No ice sheet\n",
      "Time step: 11\n",
      "No ice sheet\n",
      "Time step: 12\n",
      "No ice sheet\n",
      "Time step: 13\n",
      "No ice sheet\n",
      "Time step: 14\n",
      "No ice sheet\n",
      "Time step: 15\n",
      "No ice sheet\n",
      "Time step: 16\n",
      "No ice sheet\n",
      "Time step: 17\n",
      "No ice sheet\n",
      "Time step: 18\n",
      "No ice sheet\n",
      "Time step: 19\n",
      "No ice sheet\n",
      "Time step: 20\n",
      "No ice sheet\n",
      "Time step: 21\n",
      "No ice sheet\n",
      "Time step: 22\n",
      "No ice sheet\n",
      "Time step: 23\n",
      "No ice sheet\n"
     ]
    }
   ],
   "source": [
    "% matplotlib inline\n",
    "import numpy as np\n",
    "import matplotlib.pyplot as plt\n",
    "import matplotlib\n",
    "import pandas as pd\n",
    "\n",
    "for i in np.arange(0,24,1):\n",
    "    #folder: Doubled_Number_Data_BeforeMerging_ForEachMap_New\n",
    "    #data_coal = pd.read_table('/Users/wenchaocao/Research/33_MatLab/Library/Feature_modified/Smoothing/Doubled_Number_Data_BeforeMerging_ForEachMap_New/'+str(i)+'/Data_XY_BestFitting.txt',header=None, delimiter=r\"\\s+\")\n",
    "    \n",
    "    # folder: LithData_Matthews2016_TwoBiasRemoved_CorrectedBeforeFlipping\n",
    "    # Coals\n",
    "    #data_coal = pd.read_table('/Users/wenchaocao/Research/33_MatLab/Library/Feature_modified/Smoothing/Coals_Matthews2016_TwoBiasRemoved_CorrectedBeforeFlipping_Doubled/'+str(i)+'/Data_XY_BestFitting.txt',header=None, delimiter=r\"\\s+\")\n",
    "    \n",
    "    # Evaporites\n",
    "    #data_Evaporites = pd.read_table('/Users/wenchaocao/Research/33_MatLab/Library/Feature_modified/Smoothing/Evaporites_Matthews2016_TwoBiasRemoved_CorrectedBeforeFlipping_Doubled/'+str(i)+'/Data_XY_BestFitting.txt',header=None, delimiter=r\"\\s+\")\n",
    "    \n",
    "    # Glacial\n",
    "    data_sizer = '/Users/wenchaocao/Research/33_MatLab/Library/Feature_modified/Smoothing/Glacial_Matthews2016_TwoBiasRemoved_CorrectedBeforeFlipping_Doubled/'+str(i)+'/Data_XY_BestFitting.txt'\n",
    "    if os.path.isfile(data_sizer):\n",
    "        \n",
    "        data_Glacial = pd.read_table('/Users/wenchaocao/Research/33_MatLab/Library/Feature_modified/Smoothing/Glacial_Matthews2016_TwoBiasRemoved_CorrectedBeforeFlipping_Doubled/'+str(i)+'/Data_XY_BestFitting.txt',header=None, delimiter=r\"\\s+\")\n",
    "\n",
    "        #print data_coal.iloc[:,0]\n",
    "        #print data_coal.iloc[:,1]\n",
    "\n",
    "        data_max = data_Glacial.iloc[:,1].max()\n",
    "        #print data_max\n",
    "        #print data_coal.iloc[:,1]\n",
    "        index = np.where(data_Glacial.iloc[:,1] > data_Glacial.iloc[:,1].max()/2)\n",
    "        print 'Time step: %d' % i\n",
    "        print np.array(data_Glacial.iloc[:,0])[index]\n",
    "        plt.plot(data_Glacial.iloc[:,0],data_Glacial.iloc[:,1]>data_max/2)\n",
    "        plt.ylim(0,1.1)\n",
    "        #plt.xticks(np.arange(-90,91,1))\n",
    "        plt.show()\n",
    "    else:\n",
    "        print 'Time step: %d' % i\n",
    "        print 'No ice sheet'"
   ]
  },
  {
   "cell_type": "code",
   "execution_count": 74,
   "metadata": {
    "collapsed": false
   },
   "outputs": [
    {
     "name": "stdout",
     "output_type": "stream",
     "text": [
      "[ 419.   393.   393.   388.   388.   383.   383.   359.   359.   331.   331.\n",
      "  323.   323.   307.   307.   299.   299.   290.   290.   252.   252.   247.\n",
      "  247.   237.   237.   201.   201.   164.   164.   145.   145.   113.   113.\n",
      "   89.8   89.8   66.    66.    56.    56.    47.8   47.8   33.9   33.9\n",
      "   23.    23.     5.3    5.3    0. ]\n"
     ]
    },
    {
     "data": {
      "text/plain": [
       "[<matplotlib.lines.Line2D at 0x113a9a050>]"
      ]
     },
     "execution_count": 74,
     "metadata": {},
     "output_type": "execute_result"
    },
    {
     "name": "stderr",
     "output_type": "stream",
     "text": [
      "/Users/wenchaocao/anaconda/lib/python2.7/site-packages/matplotlib/figure.py:1744: UserWarning: This figure includes Axes that are not compatible with tight_layout, so its results might be incorrect.\n",
      "  warnings.warn(\"This figure includes Axes that are not \"\n"
     ]
    },
    {
     "data": {
      "image/png": "[encoded data removed]",
      "text/plain": [
       "<matplotlib.figure.Figure at 0x113bdff50>"
      ]
     },
     "metadata": {},
     "output_type": "display_data"
    }
   ],
   "source": [
    "peaks = pd.read_excel('/Users/wenchaocao/Research/41_Paleobiology_Paleotectonics/PeakLatitude_EachMap.xlsx')\n",
    "\n",
    "\n",
    "fig, ax = plt.subplots(figsize=(8,4),tight_layout=True)\n",
    "\n",
    "# coals\n",
    "data_C = np.zeros(len(peaks['Final_Coals'])*2)\n",
    "data_C[::2] = np.asarray(peaks['Final_Coals'])\n",
    "data_C[1::2] = np.asarray(peaks['Final_Coals'])\n",
    "\n",
    "# create an array to install FromAge and ToAge at the same time\n",
    "time = np.zeros(len(peaks['FromAge'])*2)\n",
    "time[::2] = peaks['FromAge']\n",
    "time[1::2] = peaks['ToAge']\n",
    "print time\n",
    "\n",
    "ax.plot(time,data_C,'b',linewidth=2.0)\n",
    "ax.plot(time,data_C,'b',linewidth=10, alpha=0.3)\n",
    "\n",
    "\n",
    "time_LateD = [299,290]\n",
    "data_LateD = [0,0]\n",
    "ax.plot(time_LateD,data_LateD,'r--',linewidth=2.0)\n",
    "\n",
    "#time_LateK = [113.0,89.8]\n",
    "#data_LateK = [71.1,71.1]\n",
    "#plt.plot(time_LateK,data_LateK,'r--',linewidth=2.0)\n",
    "\n",
    "# Evaporites\n",
    "data_E = np.zeros(len(peaks['Evaporites_Peak'])*2)\n",
    "data_E[::2] = np.asarray(peaks['Evaporites_Peak'])\n",
    "data_E[1::2] = np.asarray(peaks['Evaporites_Peak'])\n",
    "\n",
    "ax.plot(time,data_E,'r',linewidth=2.0)\n",
    "ax.plot(time,data_E,'r',linewidth=10, alpha=0.3)\n",
    "\n",
    "# Glacial\n",
    "data_G = np.zeros(len(peaks['Evaporites_Peak'])*2)\n",
    "data_G[::2] = np.asarray(peaks['Glacial_Peak'])\n",
    "data_G[1::2] = np.asarray(peaks['Glacial_Peak'])\n",
    "\n",
    "ax.plot(time,data_G,'g',linewidth=2.0)\n",
    "ax.plot(time,data_G,'g',linewidth=10, alpha=0.3)"
   ]
  },
  {
   "cell_type": "code",
   "execution_count": 79,
   "metadata": {
    "collapsed": false
   },
   "outputs": [
    {
     "ename": "IOError",
     "evalue": "[Errno 2] No such file or directory: '/Users/wenchaocao/Research/33_MatLab/Library/Feature_modified/Smoothing/Coals_Matthews2016_TwoBiasRemoved_CorrectedBeforeFlipping_Doubled/PeakLatitude_EachMap.xlsx'",
     "output_type": "error",
     "traceback": [
      "\u001b[0;31m---------------------------------------------------------------------------\u001b[0m",
      "\u001b[0;31mIOError\u001b[0m                                   Traceback (most recent call last)",
      "\u001b[0;32m<ipython-input-79-85dba45c3ccb>\u001b[0m in \u001b[0;36m<module>\u001b[0;34m()\u001b[0m\n\u001b[1;32m      7\u001b[0m \u001b[0;34m\u001b[0m\u001b[0m\n\u001b[1;32m      8\u001b[0m \u001b[0;31m# new\u001b[0m\u001b[0;34m\u001b[0m\u001b[0;34m\u001b[0m\u001b[0m\n\u001b[0;32m----> 9\u001b[0;31m \u001b[0mdata\u001b[0m \u001b[0;34m=\u001b[0m \u001b[0mpd\u001b[0m\u001b[0;34m.\u001b[0m\u001b[0mread_excel\u001b[0m\u001b[0;34m(\u001b[0m\u001b[0;34m'/Users/wenchaocao/Research/33_MatLab/Library/Feature_modified/Smoothing/Coals_Matthews2016_TwoBiasRemoved_CorrectedBeforeFlipping_Doubled/PeakLatitude_EachMap.xlsx'\u001b[0m\u001b[0;34m)\u001b[0m\u001b[0;34m\u001b[0m\u001b[0m\n\u001b[0m\u001b[1;32m     10\u001b[0m \u001b[0;34m\u001b[0m\u001b[0m\n\u001b[1;32m     11\u001b[0m \u001b[0mdata_band\u001b[0m \u001b[0;34m=\u001b[0m \u001b[0mpd\u001b[0m\u001b[0;34m.\u001b[0m\u001b[0mread_excel\u001b[0m\u001b[0;34m(\u001b[0m\u001b[0;34m'/Users/wenchaocao/Desktop/Bands.xlsx'\u001b[0m\u001b[0;34m)\u001b[0m\u001b[0;34m\u001b[0m\u001b[0m\n",
      "\u001b[0;32m/Users/wenchaocao/anaconda/lib/python2.7/site-packages/pandas/io/excel.pyc\u001b[0m in \u001b[0;36mread_excel\u001b[0;34m(io, sheetname, header, skiprows, skip_footer, index_col, names, parse_cols, parse_dates, date_parser, na_values, thousands, convert_float, has_index_names, converters, true_values, false_values, engine, squeeze, **kwds)\u001b[0m\n\u001b[1;32m    189\u001b[0m \u001b[0;34m\u001b[0m\u001b[0m\n\u001b[1;32m    190\u001b[0m     \u001b[0;32mif\u001b[0m \u001b[0;32mnot\u001b[0m \u001b[0misinstance\u001b[0m\u001b[0;34m(\u001b[0m\u001b[0mio\u001b[0m\u001b[0;34m,\u001b[0m \u001b[0mExcelFile\u001b[0m\u001b[0;34m)\u001b[0m\u001b[0;34m:\u001b[0m\u001b[0;34m\u001b[0m\u001b[0m\n\u001b[0;32m--> 191\u001b[0;31m         \u001b[0mio\u001b[0m \u001b[0;34m=\u001b[0m \u001b[0mExcelFile\u001b[0m\u001b[0;34m(\u001b[0m\u001b[0mio\u001b[0m\u001b[0;34m,\u001b[0m \u001b[0mengine\u001b[0m\u001b[0;34m=\u001b[0m\u001b[0mengine\u001b[0m\u001b[0;34m)\u001b[0m\u001b[0;34m\u001b[0m\u001b[0m\n\u001b[0m\u001b[1;32m    192\u001b[0m \u001b[0;34m\u001b[0m\u001b[0m\n\u001b[1;32m    193\u001b[0m     return io._parse_excel(\n",
      "\u001b[0;32m/Users/wenchaocao/anaconda/lib/python2.7/site-packages/pandas/io/excel.pyc\u001b[0m in \u001b[0;36m__init__\u001b[0;34m(self, io, **kwds)\u001b[0m\n\u001b[1;32m    247\u001b[0m             \u001b[0mself\u001b[0m\u001b[0;34m.\u001b[0m\u001b[0mbook\u001b[0m \u001b[0;34m=\u001b[0m \u001b[0mxlrd\u001b[0m\u001b[0;34m.\u001b[0m\u001b[0mopen_workbook\u001b[0m\u001b[0;34m(\u001b[0m\u001b[0mfile_contents\u001b[0m\u001b[0;34m=\u001b[0m\u001b[0mdata\u001b[0m\u001b[0;34m)\u001b[0m\u001b[0;34m\u001b[0m\u001b[0m\n\u001b[1;32m    248\u001b[0m         \u001b[0;32melif\u001b[0m \u001b[0misinstance\u001b[0m\u001b[0;34m(\u001b[0m\u001b[0mio\u001b[0m\u001b[0;34m,\u001b[0m \u001b[0mcompat\u001b[0m\u001b[0;34m.\u001b[0m\u001b[0mstring_types\u001b[0m\u001b[0;34m)\u001b[0m\u001b[0;34m:\u001b[0m\u001b[0;34m\u001b[0m\u001b[0m\n\u001b[0;32m--> 249\u001b[0;31m             \u001b[0mself\u001b[0m\u001b[0;34m.\u001b[0m\u001b[0mbook\u001b[0m \u001b[0;34m=\u001b[0m \u001b[0mxlrd\u001b[0m\u001b[0;34m.\u001b[0m\u001b[0mopen_workbook\u001b[0m\u001b[0;34m(\u001b[0m\u001b[0mio\u001b[0m\u001b[0;34m)\u001b[0m\u001b[0;34m\u001b[0m\u001b[0m\n\u001b[0m\u001b[1;32m    250\u001b[0m         \u001b[0;32melse\u001b[0m\u001b[0;34m:\u001b[0m\u001b[0;34m\u001b[0m\u001b[0m\n\u001b[1;32m    251\u001b[0m             raise ValueError('Must explicitly set engine if not passing in'\n",
      "\u001b[0;32m/Users/wenchaocao/anaconda/lib/python2.7/site-packages/xlrd/__init__.pyc\u001b[0m in \u001b[0;36mopen_workbook\u001b[0;34m(filename, logfile, verbosity, use_mmap, file_contents, encoding_override, formatting_info, on_demand, ragged_rows)\u001b[0m\n\u001b[1;32m    393\u001b[0m         \u001b[0mpeek\u001b[0m \u001b[0;34m=\u001b[0m \u001b[0mfile_contents\u001b[0m\u001b[0;34m[\u001b[0m\u001b[0;34m:\u001b[0m\u001b[0mpeeksz\u001b[0m\u001b[0;34m]\u001b[0m\u001b[0;34m\u001b[0m\u001b[0m\n\u001b[1;32m    394\u001b[0m     \u001b[0;32melse\u001b[0m\u001b[0;34m:\u001b[0m\u001b[0;34m\u001b[0m\u001b[0m\n\u001b[0;32m--> 395\u001b[0;31m         \u001b[0;32mwith\u001b[0m \u001b[0mopen\u001b[0m\u001b[0;34m(\u001b[0m\u001b[0mfilename\u001b[0m\u001b[0;34m,\u001b[0m \u001b[0;34m\"rb\"\u001b[0m\u001b[0;34m)\u001b[0m \u001b[0;32mas\u001b[0m \u001b[0mf\u001b[0m\u001b[0;34m:\u001b[0m\u001b[0;34m\u001b[0m\u001b[0m\n\u001b[0m\u001b[1;32m    396\u001b[0m             \u001b[0mpeek\u001b[0m \u001b[0;34m=\u001b[0m \u001b[0mf\u001b[0m\u001b[0;34m.\u001b[0m\u001b[0mread\u001b[0m\u001b[0;34m(\u001b[0m\u001b[0mpeeksz\u001b[0m\u001b[0;34m)\u001b[0m\u001b[0;34m\u001b[0m\u001b[0m\n\u001b[1;32m    397\u001b[0m     \u001b[0;32mif\u001b[0m \u001b[0mpeek\u001b[0m \u001b[0;34m==\u001b[0m \u001b[0;34mb\"PK\\x03\\x04\"\u001b[0m\u001b[0;34m:\u001b[0m \u001b[0;31m# a ZIP file\u001b[0m\u001b[0;34m\u001b[0m\u001b[0m\n",
      "\u001b[0;31mIOError\u001b[0m: [Errno 2] No such file or directory: '/Users/wenchaocao/Research/33_MatLab/Library/Feature_modified/Smoothing/Coals_Matthews2016_TwoBiasRemoved_CorrectedBeforeFlipping_Doubled/PeakLatitude_EachMap.xlsx'"
     ]
    }
   ],
   "source": [
    "import pandas as pd\n",
    "import numpy as np\n",
    "import matplotlib.pyplot as plt\n",
    "import os\n",
    "\n",
    "%matplotlib inline\n",
    "\n",
    "# new\n",
    "data = pd.read_excel('/Users/wenchaocao/Research/33_MatLab/Library/Feature_modified/Smoothing/Coals_Matthews2016_TwoBiasRemoved_CorrectedBeforeFlipping_Doubled/PeakLatitude_EachMap.xlsx')\n",
    "\n",
    "data_band = pd.read_excel('/Users/wenchaocao/Desktop/Bands.xlsx')\n",
    "\n"
   ]
  },
  {
   "cell_type": "code",
   "execution_count": 122,
   "metadata": {
    "collapsed": false,
    "scrolled": false
   },
   "outputs": [
    {
     "name": "stdout",
     "output_type": "stream",
     "text": [
      "48\n",
      "24\n",
      "24\n",
      "48\n"
     ]
    },
    {
     "data": {
      "image/png": "[encoded data removed]",
      "text/plain": [
       "<matplotlib.figure.Figure at 0x11baec790>"
      ]
     },
     "metadata": {},
     "output_type": "display_data"
    }
   ],
   "source": [
    "fig, axes = plt.subplots(nrows=3,ncols=1,figsize=(6,8),tight_layout=True) #figsize=(12,8),tight_layout=True\n",
    "\n",
    "# create an array to install FromAge and ToAge at the same time\n",
    "time = np.zeros(len(data['FromAge'])*2)\n",
    "time[::2] = data['FromAge']\n",
    "time[1::2] = data['ToAge']\n",
    "print len(time)\n",
    "\n",
    "\n",
    "linewidth = data_band['Lat_Max_C']-data_band['Lat_Min_C']\n",
    "print len(linewidth)\n",
    "Line = np.zeros(len(linewidth)*2)\n",
    "Line[::2] = linewidth\n",
    "Line[1::2] = linewidth\n",
    "\n",
    "\n",
    "y_lat = (data_band['Lat_Max_C']+data_band['Lat_Min_C'])/2\n",
    "print len(y_lat)\n",
    "Y = np.zeros(len(y_lat)*2)\n",
    "Y[::2] = y_lat\n",
    "Y[1::2] = y_lat\n",
    "print len(Y)\n",
    "\n",
    "Y_Max_C = np.zeros(len(data_band['Lat_Max_C'])*2)\n",
    "Y_Max_C[::2] = data_band['Lat_Max_C']\n",
    "Y_Max_C[1::2] = data_band['Lat_Max_C']\n",
    "\n",
    "Y_Min_C = np.zeros(len(data_band['Lat_Min_C'])*2)\n",
    "Y_Min_C[::2] = data_band['Lat_Min_C']\n",
    "Y_Min_C[1::2] = data_band['Lat_Min_C']\n",
    "\n",
    "Y_Max_C2 = np.zeros(len(data_band['Lat_Max_C2'])*2)\n",
    "Y_Max_C2[::2] = data_band['Lat_Max_C2']\n",
    "Y_Max_C2[1::2] = data_band['Lat_Max_C2']\n",
    "\n",
    "Y_Min_C2 = np.zeros(len(data_band['Lat_Min_C2'])*2)\n",
    "Y_Min_C2[::2] = data_band['Lat_Min_C2']\n",
    "Y_Min_C2[1::2] = data_band['Lat_Min_C2']\n",
    "\n",
    "axes[0].fill_between(time,Y_Min_C,Y_Max_C,facecolor='blue',edgecolor='none',interpolate=False,alpha=0.3,label='Coals')\n",
    "axes[0].fill_between(time,Y_Min_C2,Y_Max_C2,facecolor='blue',edgecolor='none',interpolate=False,alpha=0.3)\n",
    "\n",
    "plt.xticks(np.hstack((data['FromAge'],data['ToAge'])),rotation=50,size=8) #, rotation=50,,verticalalignment='top'\n",
    "axes[0].set_ylabel('Latitude', fontsize=14) \n",
    "#axes[0].set_xlabel('Time (Ma)', fontsize=16) \n",
    "axes[0].set_xlim((419,0))\n",
    "axes[0].set_ylim(ymin=0)\n",
    "axes[0].xaxis.set_tick_params(direction='out')\n",
    "axes[0].yaxis.set_tick_params(labelsize=12,direction='out')\n",
    "axes[0].xaxis.set_ticks_position('both')\n",
    "axes[0].yaxis.set_ticks_position('left')\n",
    "axes[0].legend()\n",
    "#axes[0].legend('Coals',bbox_to_anchor=(.05,.9), loc=2, borderaxespad=0.)\n",
    "\n",
    "\n",
    "#################################################\n",
    "# Evaporites\n",
    "Y_Max_E = np.zeros(len(data_band['Lat_Max_E'])*2)\n",
    "Y_Max_E[::2] = data_band['Lat_Max_E']\n",
    "Y_Max_E[1::2] = data_band['Lat_Max_E']\n",
    "\n",
    "Y_Min_E = np.zeros(len(data_band['Lat_Min_E'])*2)\n",
    "Y_Min_E[::2] = data_band['Lat_Min_E']\n",
    "Y_Min_E[1::2] = data_band['Lat_Min_E']\n",
    "\n",
    "axes[1].fill_between(time,Y_Min_E,Y_Max_E,facecolor='red',edgecolor='none',interpolate=False,alpha=0.3,label='Evaporites')\n",
    "\n",
    "axes[1].set_xticks(np.hstack((data['FromAge'],data['ToAge']))) #, rotation=50,,verticalalignment='top'\n",
    "axes[1].set_ylabel('Latitude', fontsize=14) \n",
    "#axes[1].set_xlabel('Time (Ma)', fontsize=16) \n",
    "#plt.xlabel('Devonian     Carboniferous   Permian    Triassic     Jurassic   Cretaceous    Paleogene    Miocene', fontsize=16)\n",
    "axes[1].set_xlim((419,0))\n",
    "axes[1].set_ylim(ymin=0)\n",
    "axes[1].xaxis.set_tick_params(direction='out')\n",
    "axes[1].yaxis.set_tick_params(labelsize=12,direction='out')\n",
    "axes[1].xaxis.set_ticks_position('both')\n",
    "axes[1].yaxis.set_ticks_position('left')\n",
    "axes[1].legend()\n",
    "#axes[1].legend('E',bbox_to_anchor=(.9,.75), loc=2, borderaxespad=0.)\n",
    "\n",
    "#################################################\n",
    "# Evaporites\n",
    "Y_Max_G = np.zeros(len(data_band['Lat_Max_G'])*2)\n",
    "Y_Max_G[::2] = data_band['Lat_Max_G']\n",
    "Y_Max_G[1::2] = data_band['Lat_Max_G']\n",
    "\n",
    "Y_Min_G = np.zeros(len(data_band['Lat_Min_G'])*2)\n",
    "Y_Min_G[::2] = data_band['Lat_Min_G']\n",
    "Y_Min_G[1::2] = data_band['Lat_Min_G']\n",
    "\n",
    "Y_Max_G2 = np.zeros(len(data_band['Lat_Max_G2'])*2)\n",
    "Y_Max_G2[::2] = data_band['Lat_Max_G2']\n",
    "Y_Max_G2[1::2] = data_band['Lat_Max_G2']\n",
    "\n",
    "Y_Min_G2 = np.zeros(len(data_band['Lat_Min_G2'])*2)\n",
    "Y_Min_G2[::2] = data_band['Lat_Min_G2']\n",
    "Y_Min_G2[1::2] = data_band['Lat_Min_G2']\n",
    "\n",
    "\n",
    "axes[2].fill_between(time,Y_Min_G,Y_Max_G,facecolor='green',edgecolor='none',interpolate=False,alpha=0.3,label='Glacial deposits')\n",
    "axes[2].fill_between(time,Y_Min_G2,Y_Max_G2,facecolor='green',edgecolor='none',interpolate=False,alpha=0.3)\n",
    "\n",
    "axes[2].set_xticks(np.hstack((data['FromAge'],data['ToAge']))) #, rotation=50,,verticalalignment='top'\n",
    "axes[2].set_ylabel('Latitude', fontsize=14) \n",
    "axes[2].set_xlabel('Time (Ma)', fontsize=14) \n",
    "axes[2].set_xlim((419,0))\n",
    "axes[2].set_ylim(ymin=0)\n",
    "axes[2].xaxis.set_tick_params(direction='out')\n",
    "axes[2].yaxis.set_tick_params(labelsize=12,direction='out')\n",
    "axes[2].xaxis.set_ticks_position('both')\n",
    "axes[2].yaxis.set_ticks_position('left')\n",
    "axes[2].legend()\n",
    "#axes[2].legend('Glacial deposits',bbox_to_anchor=(.9,.75), loc=2, borderaxespad=0.)\n",
    "\n",
    "#plt.legend(('Coals','E','G'),bbox_to_anchor=(.8,.25), loc=2, borderaxespad=0.) #,bbox_to_anchor=(1.,1.), loc=2, borderaxespad=0.\n",
    "\n",
    "#plt.savefig('Bands_ThreePlots.pdf',dpi=600)\n",
    "plt.show()"
   ]
  },
  {
   "cell_type": "code",
   "execution_count": null,
   "metadata": {
    "collapsed": true
   },
   "outputs": [],
   "source": [
    "### HDR from R"
   ]
  },
  {
   "cell_type": "code",
   "execution_count": 170,
   "metadata": {
    "collapsed": false
   },
   "outputs": [
    {
     "name": "stdout",
     "output_type": "stream",
     "text": [
      "[ 419.   393.   393.   388.   388.   383.   383.   359.   359.   331.   331.\n",
      "  323.   323.   307.   307.   299.   299.   290.   290.   252.   252.   247.\n",
      "  247.   237.   237.   201.   201.   164.   164.   145.   145.   113.   113.\n",
      "   89.8   89.8   66.    66.    56.    56.    47.8   47.8   33.9   33.9\n",
      "   23.    23.     5.3    5.3    0. ]\n"
     ]
    }
   ],
   "source": [
    "import pandas as pd\n",
    "import numpy as np\n",
    "import matplotlib.pyplot as plt\n",
    "import os\n",
    "\n",
    "%matplotlib inline\n",
    "\n",
    "data_time = pd.read_excel('/Users/wenchaocao/Research/41_Paleobiology_Paleotectonics/PeakLatitude_EachMap.xlsx')\n",
    "\n",
    "time = np.zeros(len(data_time['FromAge'])*2)\n",
    "time[::2] = data_time['FromAge']\n",
    "time[1::2] = data_time['ToAge']\n",
    "print time"
   ]
  },
  {
   "cell_type": "code",
   "execution_count": 185,
   "metadata": {
    "collapsed": false,
    "scrolled": false
   },
   "outputs": [
    {
     "name": "stdout",
     "output_type": "stream",
     "text": [
      "[-46.64014154 -15.80636801 -17.48520989  -3.76875012  -5.45875727\n",
      "  -2.73662775 -23.31447144 -17.35829848 -59.41808352 -90.           2.96060887\n",
      " -90.          32.97590383  52.65178583  58.19434193  56.25166226\n",
      "  26.83508822 -63.39890557  45.01854294  11.43081997   0.41243079\n",
      " -50.49985155   0.58777036 -56.82045702]\n",
      "[-32.25554553  42.18968862  21.13223106  19.52767976  32.85704211\n",
      "  42.13843824   7.64275969  18.00096472 -59.13585974 -80.69488463\n",
      "  54.07026964 -48.5888555   66.83220966  82.13725418  90.          87.65756896\n",
      "  48.91910902 -57.39936907  89.47308868  66.40887766  59.06391276\n",
      " -47.40303487  50.99564094 -46.36346481]\n",
      "[ 13.15173974   0.           0.           0.          75.28563086   0.\n",
      "  28.32234648   0.          -4.51641502 -64.65988743   0.          11.32592561\n",
      "   0.           0.           0.           0.          62.4103963\n",
      "  51.32447231   0.           0.           0.           5.59140465   0.\n",
      "  41.47504142]\n",
      "[ 49.64721179   0.           0.           0.          80.77983602   0.\n",
      "  42.84479823   0.          16.00308108 -50.88762673   0.          19.14554094\n",
      "   0.           0.           0.           0.          84.27637431  90.           0.\n",
      "   0.           0.          10.2039133    0.          72.6670371 ]\n",
      "[0, 0, 0, 0, 0, 0, 0, 0, 34.95, 47.13, 0, 0, 0, 0, 0, 0, 0, 0, 0, 0, 0, 25.29, 0, 0]\n",
      "[0, 0, 0, 0, 0, 0, 0, 0, 58.16, 66.29, 0, 0, 0, 0, 0, 0, 0, 0, 0, 0, 0, 63.89, 0, 0]\n"
     ]
    }
   ],
   "source": [
    "Boundary_50CI_1 = np.zeros(24)\n",
    "Boundary_50CI_2 = np.zeros(24)\n",
    "Boundary_50CI_3 = np.zeros(24)\n",
    "Boundary_50CI_4 = np.zeros(24)\n",
    "\n",
    "for i in np.arange(0,24,1):\n",
    "    \n",
    "    Coals_raw = pd.read_csv('/Users/wenchaocao/Research/41_Paleobiology_Paleotectonics/HDR/9_1_Coals_Matthews2016_TwoBiasRemoved_CorrectedBeforeFlipping_BinningSize5_Normarlised/hdr_'+str(i)+'.csv')\n",
    "    Coals = np.array(Coals_raw)\n",
    "    \n",
    "    Boundary_50CI_1[i] = Coals[2,1]\n",
    "    Boundary_50CI_2[i] = Coals[2,2]\n",
    "    Boundary_50CI_3[i] = Coals[2,3]\n",
    "    Boundary_50CI_4[i] = Coals[2,4]\n",
    "\n",
    "print Boundary_50CI_1\n",
    "print Boundary_50CI_2\n",
    "print Boundary_50CI_3\n",
    "print Boundary_50CI_4\n",
    "\n",
    "Boundary_50CI_5 = [0,0,0,0,0,\n",
    "                   0,0,0,34.95,47.13,\n",
    "                   0,0,0,0,0,\n",
    "                   0,0,0,0,0,\n",
    "                   0,25.29,0,0]\n",
    "Boundary_50CI_6 = [0,0,0,0,0,\n",
    "                   0,0,0,58.16,66.29,\n",
    "                   0,0,0,0,0,\n",
    "                   0,0,0,0,0,\n",
    "                   0,63.89,0,0]\n",
    "\n",
    "B50CI_5 = np.zeros(len(Boundary_50CI_5)*2)\n",
    "B50CI_5[::2] = Boundary_50CI_5[:]\n",
    "B50CI_5[1::2] = Boundary_50CI_5[:]\n",
    "\n",
    "B50CI_6 = np.zeros(len(Boundary_50CI_6)*2)\n",
    "B50CI_6[::2] = Boundary_50CI_6[:]\n",
    "B50CI_6[1::2] = Boundary_50CI_6[:]\n",
    "\n",
    "print Boundary_50CI_5\n",
    "print Boundary_50CI_6\n"
   ]
  },
  {
   "cell_type": "code",
   "execution_count": 186,
   "metadata": {
    "collapsed": false
   },
   "outputs": [],
   "source": [
    "B50CI_1 = np.zeros(len(Boundary_50CI_1)*2)\n",
    "B50CI_1[::2] = Boundary_50CI_1[:]\n",
    "B50CI_1[1::2] = Boundary_50CI_1[:]\n",
    "\n",
    "B50CI_2 = np.zeros(len(Boundary_50CI_2)*2)\n",
    "B50CI_2[::2] = Boundary_50CI_2[:]\n",
    "B50CI_2[1::2] = Boundary_50CI_2[:]\n",
    "\n",
    "B50CI_3 = np.zeros(len(Boundary_50CI_3)*2)\n",
    "B50CI_3[::2] = Boundary_50CI_3[:]\n",
    "B50CI_3[1::2] = Boundary_50CI_3[:]\n",
    "\n",
    "B50CI_4 = np.zeros(len(Boundary_50CI_4)*2)\n",
    "B50CI_4[::2] = Boundary_50CI_4[:]\n",
    "B50CI_4[1::2] = Boundary_50CI_4[:]\n",
    "\n",
    "B50CI_5 = np.zeros(len(Boundary_50CI_5)*2)\n",
    "B50CI_5[::2] = Boundary_50CI_5[:]\n",
    "B50CI_5[1::2] = Boundary_50CI_5[:]\n",
    "\n",
    "B50CI_6 = np.zeros(len(Boundary_50CI_6)*2)\n",
    "B50CI_6[::2] = Boundary_50CI_6[:]\n",
    "B50CI_6[1::2] = Boundary_50CI_6[:]\n",
    "\n"
   ]
  },
  {
   "cell_type": "code",
   "execution_count": 187,
   "metadata": {
    "collapsed": false
   },
   "outputs": [
    {
     "name": "stdout",
     "output_type": "stream",
     "text": [
      "[-62.92979634 -67.85979515 -60.87355789 -39.36135968 -38.37242374\n",
      " -41.90737195 -44.74323804 -40.25932204 -74.36366995 -90.         -62.56509602\n",
      " -90.         -72.72916467 -84.19007611 -80.94803535 -85.15250906\n",
      " -79.68686366 -76.96540598 -69.69108837 -70.17537054 -68.71306138\n",
      " -62.51175986 -58.72027767 -69.08129736]\n",
      "[  0.           0.           0.           0.           0.          89.54086913\n",
      "  72.04088398  69.61965946 -39.33574875 -31.93585596  73.67770338\n",
      " -28.82618748 -32.04522123 -28.23501085 -34.5727802  -35.40814519\n",
      " -34.31415085 -32.87911559 -40.41597594 -30.98089274 -29.07899811\n",
      " -36.20649765  72.11963264 -21.53508224]\n",
      "[  0.           0.           0.           0.           0.           0.           0.\n",
      "   0.         -17.78352143 -11.39317401   0.         -28.101592\n",
      "  -8.58331259  17.35197344  -1.37857413 -11.84663897  -7.25685519\n",
      " -14.76250822 -23.11156684 -19.97875112 -20.58035315  -9.79697837   0.\n",
      " -19.54403758]\n",
      "[ 60.28938985  58.16287398  50.44058324  44.2844453   90.           0.           0.\n",
      "   0.          66.74177569  16.18232021   0.          55.60618487\n",
      "  78.54646898  88.86496218  90.          10.69977012  86.95164118  90.          90.\n",
      "  84.0007002   84.46059863  79.813418     0.          10.62263105]\n",
      "[0, 0, 0, 0, 0, 0, 0, 0, 0, 25.59, 0, 0, 0, 0, 0, 16.4, 0, 0, 0, 0, 0, 0, 0, 26.56]\n",
      "[0, 0, 0, 0, 0, 0, 0, 0, 0, 76.71, 0, 0, 0, 0, 0, 90, 0, 0, 0, 0, 0, 0, 0, 83.53]\n"
     ]
    }
   ],
   "source": [
    "######################################\n",
    "# aplara = 95%\n",
    "\n",
    "#fig, axes = plt.subplots(nrows=1, ncols=1,figsize=(6, 4))\n",
    "\n",
    "Boundary_95CI_1 = np.zeros(24)\n",
    "Boundary_95CI_2 = np.zeros(24)\n",
    "Boundary_95CI_3 = np.zeros(24)\n",
    "Boundary_95CI_4 = np.zeros(24)\n",
    "Boundary_95CI_5 = np.zeros(24)\n",
    "Boundary_95CI_6 = np.zeros(24)\n",
    "\n",
    "for i in np.arange(0,24,1):\n",
    "    \n",
    "    Coals_raw = pd.read_csv('/Users/wenchaocao/Research/41_Paleobiology_Paleotectonics/HDR/9_1_Coals_Matthews2016_TwoBiasRemoved_CorrectedBeforeFlipping_BinningSize5_Normarlised/hdr_'+str(i)+'.csv')\n",
    "    Coals = np.array(Coals_raw)\n",
    "    \n",
    "    Boundary_95CI_1[i] = Coals[0,1]\n",
    "    Boundary_95CI_2[i] = Coals[0,2]\n",
    "    Boundary_95CI_3[i] = Coals[0,3]\n",
    "    Boundary_95CI_4[i] = Coals[0,4]\n",
    "    \n",
    "\n",
    "print Boundary_95CI_1\n",
    "print Boundary_95CI_2\n",
    "print Boundary_95CI_3\n",
    "print Boundary_95CI_4\n",
    "\n",
    "\n",
    "B95CI_1 = np.zeros(len(Boundary_95CI_1)*2)\n",
    "B95CI_1[::2] = Boundary_95CI_1[:]\n",
    "B95CI_1[1::2] = Boundary_95CI_1[:]\n",
    "\n",
    "B95CI_2 = np.zeros(len(Boundary_95CI_2)*2)\n",
    "B95CI_2[::2] = Boundary_95CI_2[:]\n",
    "B95CI_2[1::2] = Boundary_95CI_2[:]\n",
    "\n",
    "B95CI_3 = np.zeros(len(Boundary_95CI_3)*2)\n",
    "B95CI_3[::2] = Boundary_95CI_3[:]\n",
    "B95CI_3[1::2] = Boundary_95CI_3[:]\n",
    "\n",
    "B95CI_4 = np.zeros(len(Boundary_95CI_4)*2)\n",
    "B95CI_4[::2] = Boundary_95CI_4[:]\n",
    "B95CI_4[1::2] = Boundary_95CI_4[:]\n",
    "\n",
    "\n",
    "Boundary_95CI_5 = [0,0,0,0,0,\n",
    "                   0,0,0,0,25.59,\n",
    "                   0,0,0,0,0,\n",
    "                   16.40,0,0,0,0,\n",
    "                   0,0,0,26.56]\n",
    "Boundary_95CI_6 = [0,0,0,0,0,\n",
    "                   0,0,0,0,76.71,\n",
    "                   0,0,0,0,0,\n",
    "                   90,0,0,0,0,\n",
    "                   0,0,0,83.53]\n",
    "\n",
    "B95CI_5 = np.zeros(len(Boundary_95CI_5)*2)\n",
    "B95CI_5[::2] = Boundary_95CI_5[:]\n",
    "B95CI_5[1::2] = Boundary_95CI_5[:]\n",
    "\n",
    "B95CI_6 = np.zeros(len(Boundary_95CI_6)*2)\n",
    "B95CI_6[::2] = Boundary_95CI_6[:]\n",
    "B95CI_6[1::2] = Boundary_95CI_6[:]\n",
    "\n",
    "print Boundary_95CI_5\n",
    "print Boundary_95CI_6\n"
   ]
  },
  {
   "cell_type": "code",
   "execution_count": 189,
   "metadata": {
    "collapsed": false
   },
   "outputs": [
    {
     "data": {
      "image/png": "[encoded data removed]",
      "text/plain": [
       "<matplotlib.figure.Figure at 0x113349610>"
      ]
     },
     "metadata": {},
     "output_type": "display_data"
    }
   ],
   "source": [
    "\n",
    "fig, axes = plt.subplots(nrows=1, ncols=1,figsize=(8, 4))\n",
    "\n",
    "# 95%\n",
    "axes.fill_between(time,B95CI_2,B95CI_1,facecolor='grey',edgecolor='none',interpolate=False,alpha=0.3,label='Coals')\n",
    "axes.fill_between(time,B95CI_4,B95CI_3,facecolor='grey',edgecolor='none',interpolate=False,alpha=0.3,label='Coals')\n",
    "axes.fill_between(time,B95CI_6,B95CI_5,facecolor='grey',edgecolor='none',interpolate=False,alpha=0.3,label='Coals')\n",
    "\n",
    "# 75%\n",
    "#axes.fill_between(time,B75CI_2,B75CI_1,facecolor='grey',edgecolor='none',interpolate=False,alpha=0.5,label='Coals')\n",
    "#axes.fill_between(time,B75CI_4,B75CI_3,facecolor='grey',edgecolor='none',interpolate=False,alpha=0.5,label='Coals')\n",
    "\n",
    "# 50%\n",
    "axes.fill_between(time,B50CI_1,B50CI_2,facecolor='blue',edgecolor='none',interpolate=False,alpha=0.4,label='Coals')\n",
    "axes.fill_between(time,B50CI_4,B50CI_3,facecolor='blue',edgecolor='none',interpolate=False,alpha=0.4,label='Coals')\n",
    "axes.fill_between(time,B50CI_6,B50CI_5,facecolor='blue',edgecolor='none',interpolate=False,alpha=0.4,label='Coals')\n",
    "\n",
    "#axes.plot(time,data_C,'blue', alpha=0.5) #,linewidth=.0\n",
    "#axes.plot(time,data_C,'blue', alpha=0.5) #,linewidth=1\n",
    "\n",
    "\n",
    "plt.xticks(np.hstack((data_time['FromAge'],data_time['ToAge'])),rotation=90,size=8) #, rotation=50,,verticalalignment='top'\n",
    "axes.set_ylabel('Latitude', fontsize=14) \n",
    "axes.set_xlabel('Time (Ma)', fontsize=14) \n",
    "axes.set_xlim((419,0))\n",
    "axes.set_ylim((-90,90))\n",
    "axes.xaxis.set_tick_params(direction='out')\n",
    "axes.yaxis.set_tick_params(labelsize=12,direction='out')\n",
    "axes.xaxis.set_ticks_position('both')\n",
    "axes.yaxis.set_ticks_position('left')\n",
    "#axes.legend()\n",
    "\n",
    "plt.savefig('Coals_Bands_50&95_New.pdf',dpi=600)\n",
    "plt.show()"
   ]
  },
  {
   "cell_type": "markdown",
   "metadata": {},
   "source": [
    "### Evaporites"
   ]
  },
  {
   "cell_type": "code",
   "execution_count": 215,
   "metadata": {
    "collapsed": false
   },
   "outputs": [
    {
     "name": "stdout",
     "output_type": "stream",
     "text": [
      "sorry, no data\n",
      "sorry, no data\n",
      "sorry, no data\n",
      "sorry, no data\n",
      "sorry, no data\n",
      "sorry, no data\n",
      "sorry, no data\n",
      "sorry, no data\n",
      "sorry, no data\n",
      "sorry, no data\n",
      "sorry, no data\n",
      "sorry, no data\n",
      "sorry, no data\n",
      "sorry, no data\n",
      "sorry, no data\n",
      "sorry, no data\n",
      "sorry, no data\n",
      "sorry, no data\n",
      "sorry, no data\n",
      "sorry, no data\n",
      "sorry, no data\n",
      "sorry, no data\n",
      "sorry, no data\n",
      "sorry, no data\n",
      "sorry, no data\n",
      "sorry, no data\n",
      "[ -1.84510749 -32.01488588 -28.51756942 -24.99070793 -23.42615238\n",
      "   8.22560766   4.39676841   2.4998221    1.37686287   2.07617913\n",
      "   6.347905     7.15262621   2.68808863   3.44076732 -17.24812376\n",
      " -28.72557206   0.90466811   3.34304846   6.73683975   6.0526897\n",
      "  17.97444439  22.23629372  18.15007631 -42.7016992 ]\n",
      "[ 28.46338816  -6.21928394  -9.29533816 -13.65620146 -13.52218836\n",
      "  39.50301557  40.21576431  45.24380395  40.5079287   37.45487939\n",
      "  32.83615445  32.5750393   33.47481211  37.6460251  -16.50658839\n",
      " -15.20736272  37.18661674  37.89673507  39.52478366  33.81576172\n",
      "  42.53643997  50.47766419  49.66623217 -20.98559543]\n",
      "[  0.          18.34091229  12.77634044   7.01409715  10.14393408   0.           0.\n",
      "   0.           0.           0.           0.           0.           0.           0.\n",
      "  -1.68797873   6.93254168          nan          nan   0.           0.\n",
      "          nan   0.           0.          28.9311526 ]\n",
      "[  0.          33.98971715  34.90271504  38.82841054  45.8560682    0.           0.\n",
      "   0.           0.           0.           0.           0.           0.           0.\n",
      "  42.07627937  38.2986051           nan          nan   0.           0.\n",
      "          nan   0.           0.          44.65166014]\n"
     ]
    }
   ],
   "source": [
    "import pandas as pd\n",
    "import numpy as np\n",
    "import matplotlib.pyplot as plt\n",
    "import os\n",
    "\n",
    "%matplotlib inline\n",
    "\n",
    "######################################\n",
    "# alpha = 50%\n",
    "\n",
    "Boundary_50CI_1 = np.zeros(24)\n",
    "Boundary_50CI_2 = np.zeros(24)\n",
    "Boundary_50CI_3 = np.zeros(24)\n",
    "Boundary_50CI_4 = np.zeros(24)\n",
    "\n",
    "for i in np.arange(0,24,1):\n",
    "    \n",
    "    data_raw = pd.read_csv('/Users/wenchaocao/Research/41_Paleobiology_Paleotectonics/HDR/9_1_Evaporites_Matthews2016_TwoBiasRemoved_CorrectedBeforeFlipping_BinningSize5_Normarlised/hdr_'+str(i)+'.csv')\n",
    "    data = np.array(data_raw)\n",
    "    \n",
    "    Boundary_50CI_1[i] = data[2,1]\n",
    "    Boundary_50CI_2[i] = data[2,2]\n",
    "    try:\n",
    "        if data[2,3] != None:\n",
    "            Boundary_50CI_3[i] = data[2,3]\n",
    "    except IndexError:\n",
    "        print 'sorry, no data'\n",
    "    \n",
    "    try:\n",
    "        if data[2,4] != None:\n",
    "            Boundary_50CI_4[i] = data[2,4]\n",
    "    except IndexError:\n",
    "        print 'sorry, no data'\n",
    "\n",
    "print Boundary_50CI_1\n",
    "print Boundary_50CI_2\n",
    "print Boundary_50CI_3\n",
    "print Boundary_50CI_4"
   ]
  },
  {
   "cell_type": "code",
   "execution_count": 216,
   "metadata": {
    "collapsed": false
   },
   "outputs": [
    {
     "name": "stdout",
     "output_type": "stream",
     "text": [
      "sorry, no data\n",
      "sorry, no data\n",
      "sorry, no data\n",
      "sorry, no data\n",
      "sorry, no data\n",
      "sorry, no data\n",
      "sorry, no data\n",
      "sorry, no data\n",
      "sorry, no data\n",
      "sorry, no data\n",
      "sorry, no data\n",
      "sorry, no data\n",
      "sorry, no data\n",
      "sorry, no data\n",
      "sorry, no data\n",
      "sorry, no data\n",
      "sorry, no data\n",
      "sorry, no data\n",
      "sorry, no data\n",
      "sorry, no data\n",
      "sorry, no data\n",
      "sorry, no data\n",
      "sorry, no data\n",
      "sorry, no data\n",
      "sorry, no data\n",
      "sorry, no data\n",
      "sorry, no data\n",
      "sorry, no data\n",
      "[-39.56118152 -50.17058659 -48.21354882 -45.93880875 -51.87385972\n",
      " -36.09772329 -50.17595846 -43.68173603 -45.91983972 -54.2985815\n",
      " -39.99578463 -22.16579447 -45.20261818 -37.03844659 -49.6405051\n",
      " -51.73951049 -47.17796887 -54.48438792 -48.93040288 -35.86194542\n",
      " -49.98549467 -46.5000052  -42.08872092 -55.13973035]\n",
      "[ 44.78032223  49.80040649  50.1836893   54.46684639  57.0938599\n",
      "  60.63496386  57.21656156  66.25692196  62.98400966  57.05394279\n",
      "  49.85654439  51.47749771  59.11085556  61.9972333   58.00752378\n",
      "  55.07610169  53.42382338  52.65883689  55.94556729  57.60304231\n",
      " -33.78791652  64.48759764  64.15824394  -3.4597259 ]\n",
      "[  0.                  nan          nan          nan          nan   0.           0.\n",
      "   0.           0.           0.           0.           0.           0.           0.\n",
      "          nan          nan          nan          nan   0.           0.\n",
      " -11.70052645   0.           0.           5.02403136]\n",
      "[  0.                  nan          nan          nan          nan   0.           0.\n",
      "   0.           0.           0.           0.           0.           0.           0.\n",
      "          nan          nan          nan          nan   0.           0.\n",
      "  66.97082217   0.           0.          59.47262116]\n"
     ]
    }
   ],
   "source": [
    "######################################\n",
    "# aplara = 95%\n",
    "\n",
    "Boundary_95CI_1 = np.zeros(24)\n",
    "Boundary_95CI_2 = np.zeros(24)\n",
    "Boundary_95CI_3 = np.zeros(24)\n",
    "Boundary_95CI_4 = np.zeros(24)\n",
    "\n",
    "for i in np.arange(0,24,1):\n",
    "    \n",
    "    data_raw = pd.read_csv('/Users/wenchaocao/Research/41_Paleobiology_Paleotectonics/HDR/9_1_Evaporites_Matthews2016_TwoBiasRemoved_CorrectedBeforeFlipping_BinningSize5_Normarlised/hdr_'+str(i)+'.csv')\n",
    "    data = np.array(data_raw)\n",
    "    \n",
    "    Boundary_95CI_1[i] = data[0,1]\n",
    "    Boundary_95CI_2[i] = data[0,2]\n",
    "    \n",
    "    try:\n",
    "        if data[0,3] != None:\n",
    "            Boundary_95CI_3[i] = data[0,3]\n",
    "    except IndexError:\n",
    "        print 'sorry, no data'\n",
    "    \n",
    "    try:\n",
    "        if data[0,4] != None:\n",
    "            Boundary_95CI_4[i] = data[0,4]\n",
    "    except IndexError:\n",
    "        print 'sorry, no data'\n",
    "\n",
    "print Boundary_95CI_1\n",
    "print Boundary_95CI_2\n",
    "print Boundary_95CI_3\n",
    "print Boundary_95CI_4\n",
    "\n"
   ]
  },
  {
   "cell_type": "code",
   "execution_count": 217,
   "metadata": {
    "collapsed": false
   },
   "outputs": [],
   "source": [
    "B50CI_1 = np.zeros(len(Boundary_50CI_1)*2)\n",
    "B50CI_1[::2] = Boundary_50CI_1[:]\n",
    "B50CI_1[1::2] = Boundary_50CI_1[:]\n",
    "\n",
    "B50CI_2 = np.zeros(len(Boundary_50CI_2)*2)\n",
    "B50CI_2[::2] = Boundary_50CI_2[:]\n",
    "B50CI_2[1::2] = Boundary_50CI_2[:]\n",
    "\n",
    "B50CI_3 = np.zeros(len(Boundary_50CI_3)*2)\n",
    "B50CI_3[::2] = Boundary_50CI_3[:]\n",
    "B50CI_3[1::2] = Boundary_50CI_3[:]\n",
    "\n",
    "B50CI_4 = np.zeros(len(Boundary_50CI_4)*2)\n",
    "B50CI_4[::2] = Boundary_50CI_4[:]\n",
    "B50CI_4[1::2] = Boundary_50CI_4[:]\n",
    "\n",
    "\n",
    "B95CI_1 = np.zeros(len(Boundary_95CI_1)*2)\n",
    "B95CI_1[::2] = Boundary_95CI_1[:]\n",
    "B95CI_1[1::2] = Boundary_95CI_1[:]\n",
    "\n",
    "B95CI_2 = np.zeros(len(Boundary_95CI_2)*2)\n",
    "B95CI_2[::2] = Boundary_95CI_2[:]\n",
    "B95CI_2[1::2] = Boundary_95CI_2[:]\n",
    "\n",
    "B95CI_3 = np.zeros(len(Boundary_95CI_3)*2)\n",
    "B95CI_3[::2] = Boundary_95CI_3[:]\n",
    "B95CI_3[1::2] = Boundary_95CI_3[:]\n",
    "\n",
    "B95CI_4 = np.zeros(len(Boundary_95CI_4)*2)\n",
    "B95CI_4[::2] = Boundary_95CI_4[:]\n",
    "B95CI_4[1::2] = Boundary_95CI_4[:]\n"
   ]
  },
  {
   "cell_type": "code",
   "execution_count": 219,
   "metadata": {
    "collapsed": false
   },
   "outputs": [
    {
     "data": {
      "image/png": "[encoded data removed]",
      "text/plain": [
       "<matplotlib.figure.Figure at 0x1133589d0>"
      ]
     },
     "metadata": {},
     "output_type": "display_data"
    }
   ],
   "source": [
    "\n",
    "fig, axes = plt.subplots(nrows=1, ncols=1,figsize=(8, 4))\n",
    "\n",
    "# 95%\n",
    "axes.fill_between(time,B95CI_1,B95CI_2,facecolor='grey',edgecolor='none',interpolate=False,alpha=0.3,label='Coals')\n",
    "axes.fill_between(time,B95CI_4,B95CI_3,facecolor='grey',edgecolor='none',interpolate=False,alpha=0.3,label='Coals')\n",
    "\n",
    "# 50%\n",
    "axes.fill_between(time,B50CI_2,B50CI_1,facecolor='blue',edgecolor='none',interpolate=False,alpha=0.4,label='Coals')\n",
    "axes.fill_between(time,B50CI_4,B50CI_3,facecolor='blue',edgecolor='none',interpolate=False,alpha=0.4,label='Coals')\n",
    "\n",
    "#axes.plot(time,data_E,'blue', alpha=0.5) #,linewidth=.0\n",
    "\n",
    "plt.xticks(np.hstack((data_time['FromAge'],data_time['ToAge'])),rotation=90,size=8) #, rotation=50,,verticalalignment='top'\n",
    "axes.set_ylabel('Latitude', fontsize=14) \n",
    "axes.set_xlabel('Time (Ma)', fontsize=14) \n",
    "axes.set_xlim((419,0))\n",
    "axes.set_ylim((-90,90))\n",
    "axes.xaxis.set_tick_params(direction='out')\n",
    "axes.yaxis.set_tick_params(labelsize=12,direction='out')\n",
    "axes.xaxis.set_ticks_position('both')\n",
    "axes.yaxis.set_ticks_position('left')\n",
    "#axes.legend()\n",
    "\n",
    "plt.savefig('Evaporites_Bands_50&95_new.pdf',dpi=600)\n",
    "plt.show()"
   ]
  },
  {
   "cell_type": "markdown",
   "metadata": {
    "collapsed": true
   },
   "source": [
    "## Glacial deposits"
   ]
  },
  {
   "cell_type": "code",
   "execution_count": 148,
   "metadata": {
    "collapsed": false
   },
   "outputs": [
    {
     "name": "stdout",
     "output_type": "stream",
     "text": [
      "[  0.           0.           0.         -70.64903994 -65.32261319\n",
      " -74.38359222 -57.547535   -71.45259344 -72.65392248 -77.57923546   0.           0.\n",
      "   0.           0.           0.           0.           0.           0.\n",
      " -55.62361574 -74.52042925 -67.61514642 -75.97971022 -72.01390539\n",
      " -87.42292965]\n",
      "[  0.           0.           0.         -51.33692275 -37.58266783\n",
      " -60.24749661 -39.88444914 -42.4434627  -49.13885172 -72.61367806   0.           0.\n",
      "   0.           0.           0.           0.           0.           0.\n",
      " -39.3100205  -60.07418696 -46.7806011  -59.42272144 -46.89207557\n",
      " -70.67363366]\n",
      "[  0.           0.           0.           0.           0.           0.           0.\n",
      "   0.           0.          56.5600275    0.           0.           0.\n",
      "  83.8487369   80.59363146  62.77589128   0.          74.57483488\n",
      "  59.70819458   0.           0.           0.          50.15862762\n",
      "  77.90584996]\n",
      "[  0.           0.           0.           0.           0.           0.           0.\n",
      "   0.           0.          84.46876419   0.           0.           0.          90.\n",
      "  90.          81.25853037   0.          90.          74.80623589   0.           0.\n",
      "   0.          62.35805409  90.        ]\n"
     ]
    }
   ],
   "source": [
    "Boundary_50CI_1 = np.zeros(24)\n",
    "Boundary_50CI_2 = np.zeros(24)\n",
    "Boundary_50CI_3 = np.zeros(24)\n",
    "Boundary_50CI_4 = np.zeros(24)\n",
    "\n",
    "for i in np.arange(0,24,1):\n",
    "\n",
    "    data_raw = '/Users/wenchaocao/Research/41_Paleobiology_Paleotectonics/HDR/9_1_Glacial_Matthews2016_TwoBiasRemoved_CorrectedBeforeFlipping_BinningSize5_Normarlised/hdr_'+str(i)+'.csv'\n",
    "    if os.path.isfile(data_raw):\n",
    "        data_raw = pd.read_csv('/Users/wenchaocao/Research/41_Paleobiology_Paleotectonics/HDR/9_1_Glacial_Matthews2016_TwoBiasRemoved_CorrectedBeforeFlipping_BinningSize5_Normarlised/hdr_'+str(i)+'.csv')\n",
    "        data = np.array(data_raw)\n",
    "        Boundary_50CI_1[i] = data[2,1]\n",
    "        Boundary_50CI_2[i] = data[2,2]\n",
    "        Boundary_50CI_3[i] = data[2,3]\n",
    "        Boundary_50CI_4[i] = data[2,4]\n",
    "\n",
    "print Boundary_50CI_1\n",
    "print Boundary_50CI_2\n",
    "print Boundary_50CI_3\n",
    "print Boundary_50CI_4"
   ]
  },
  {
   "cell_type": "code",
   "execution_count": 149,
   "metadata": {
    "collapsed": false
   },
   "outputs": [
    {
     "name": "stdout",
     "output_type": "stream",
     "text": [
      "[  0.           0.           0.         -82.21553838 -74.18360075\n",
      " -82.85259135 -72.05642206 -78.78854744 -86.61952604 -90.           0.           0.\n",
      "   0.           0.           0.         -82.34836452   0.           0.\n",
      " -69.55629734 -82.96230749 -77.92805324 -82.78298239 -81.11624243 -90.        ]\n",
      "[  0.           0.           0.         -30.26652829   7.16102395\n",
      " -44.75428516 -23.67047554 -24.68843483 -18.90174796 -42.3335026    0.           0.\n",
      "   0.           0.           0.         -53.04586871   0.           0.\n",
      " -23.95401549 -44.37260257 -31.07384346 -49.37757827 -32.33668177\n",
      " -45.74352254]\n",
      "[  0.           0.           0.           0.           0.           0.           0.\n",
      " -18.16210737  27.45533973  33.06043756   0.           0.           0.\n",
      "  69.45281538  61.39288678  53.27258742   0.          43.12466673\n",
      "  44.24641481   0.          40.33552983  30.46011729  27.68526573\n",
      "  53.44159125]\n",
      "[  0.           0.           0.           0.           0.           0.           0.\n",
      "  20.2754879   42.76895415  87.41396958   0.           0.           0.          90.\n",
      "  90.          85.58033646   0.          90.          82.99771741   0.\n",
      "  72.77202354  63.3166765   77.69776612  90.        ]\n"
     ]
    }
   ],
   "source": [
    "######################################\n",
    "# aplara = 95%\n",
    "\n",
    "Boundary_95CI_1 = np.zeros(24)\n",
    "Boundary_95CI_2 = np.zeros(24)\n",
    "Boundary_95CI_3 = np.zeros(24)\n",
    "Boundary_95CI_4 = np.zeros(24)\n",
    "\n",
    "for i in np.arange(0,24,1):\n",
    "    \n",
    "    data_raw = '/Users/wenchaocao/Research/41_Paleobiology_Paleotectonics/HDR/9_1_Glacial_Matthews2016_TwoBiasRemoved_CorrectedBeforeFlipping_BinningSize5_Normarlised/hdr_'+str(i)+'.csv'\n",
    "    if os.path.isfile(data_raw):\n",
    "        data_raw = pd.read_csv('/Users/wenchaocao/Research/41_Paleobiology_Paleotectonics/HDR/9_1_Glacial_Matthews2016_TwoBiasRemoved_CorrectedBeforeFlipping_BinningSize5_Normarlised/hdr_'+str(i)+'.csv')\n",
    "        data = np.array(data_raw)\n",
    "\n",
    "        Boundary_95CI_1[i] = data[0,1]\n",
    "        Boundary_95CI_2[i] = data[0,2]\n",
    "        Boundary_95CI_3[i] = data[0,3]\n",
    "        Boundary_95CI_4[i] = data[0,4]\n",
    "\n",
    "print Boundary_95CI_1\n",
    "print Boundary_95CI_2\n",
    "print Boundary_95CI_3\n",
    "print Boundary_95CI_4\n"
   ]
  },
  {
   "cell_type": "code",
   "execution_count": 150,
   "metadata": {
    "collapsed": false
   },
   "outputs": [],
   "source": [
    "B50CI_1 = np.zeros(len(Boundary_50CI_1)*2)\n",
    "B50CI_1[::2] = Boundary_50CI_1[:]\n",
    "B50CI_1[1::2] = Boundary_50CI_1[:]\n",
    "\n",
    "B50CI_2 = np.zeros(len(Boundary_50CI_2)*2)\n",
    "B50CI_2[::2] = Boundary_50CI_2[:]\n",
    "B50CI_2[1::2] = Boundary_50CI_2[:]\n",
    "\n",
    "B50CI_3 = np.zeros(len(Boundary_50CI_3)*2)\n",
    "B50CI_3[::2] = Boundary_50CI_3[:]\n",
    "B50CI_3[1::2] = Boundary_50CI_3[:]\n",
    "\n",
    "B50CI_4 = np.zeros(len(Boundary_50CI_4)*2)\n",
    "B50CI_4[::2] = Boundary_50CI_4[:]\n",
    "B50CI_4[1::2] = Boundary_50CI_4[:]\n",
    "\n",
    "\n",
    "B95CI_1 = np.zeros(len(Boundary_95CI_1)*2)\n",
    "B95CI_1[::2] = Boundary_95CI_1[:]\n",
    "B95CI_1[1::2] = Boundary_95CI_1[:]\n",
    "\n",
    "B95CI_2 = np.zeros(len(Boundary_95CI_2)*2)\n",
    "B95CI_2[::2] = Boundary_95CI_2[:]\n",
    "B95CI_2[1::2] = Boundary_95CI_2[:]\n",
    "\n",
    "B95CI_3 = np.zeros(len(Boundary_95CI_3)*2)\n",
    "B95CI_3[::2] = Boundary_95CI_3[:]\n",
    "B95CI_3[1::2] = Boundary_95CI_3[:]\n",
    "\n",
    "B95CI_4 = np.zeros(len(Boundary_95CI_4)*2)\n",
    "B95CI_4[::2] = Boundary_95CI_4[:]\n",
    "B95CI_4[1::2] = Boundary_95CI_4[:]\n",
    "\n"
   ]
  },
  {
   "cell_type": "code",
   "execution_count": 153,
   "metadata": {
    "collapsed": false
   },
   "outputs": [
    {
     "data": {
      "image/png": "[encoded data removed]",
      "text/plain": [
       "<matplotlib.figure.Figure at 0x112e256d0>"
      ]
     },
     "metadata": {},
     "output_type": "display_data"
    }
   ],
   "source": [
    "\n",
    "fig, axes = plt.subplots(nrows=1, ncols=1,figsize=(8, 4))\n",
    "\n",
    "# 95%\n",
    "axes.fill_between(time,B95CI_2,B95CI_1,facecolor='grey',edgecolor='none',interpolate=False,alpha=0.3,label='Coals')\n",
    "axes.fill_between(time,B95CI_4,B95CI_3,facecolor='grey',edgecolor='none',interpolate=False,alpha=0.3,label='Coals')\n",
    "\n",
    "\n",
    "Boundary_95CI_5 = [0,0,0,0,0,\n",
    "                   0,0,0,56.04,0,\n",
    "                   0,0,0,0,0,\n",
    "                   0,0,0,0,0,\n",
    "                   0,0,0,0]\n",
    "Boundary_95CI_6 = [0,0,0,0,0,\n",
    "                   0,0,0,77.97,0,\n",
    "                   0,0,0,0,0,\n",
    "                   0,0,0,0,0,\n",
    "                   0,0,0,0]\n",
    "\n",
    "B95CI_5 = np.zeros(len(Boundary_95CI_5)*2)\n",
    "B95CI_5[::2] = Boundary_95CI_5[:]\n",
    "B95CI_5[1::2] = Boundary_95CI_5[:]\n",
    "\n",
    "B95CI_6 = np.zeros(len(Boundary_95CI_6)*2)\n",
    "B95CI_6[::2] = Boundary_95CI_6[:]\n",
    "B95CI_6[1::2] = Boundary_95CI_6[:]\n",
    "\n",
    "axes.fill_between(time,B95CI_6,B95CI_5,facecolor='grey',edgecolor='none',interpolate=False,alpha=0.3,label='Coals')\n",
    "\n",
    "\n",
    "# 50%\n",
    "axes.fill_between(time,B50CI_2,B50CI_1,facecolor='blue',edgecolor='none',interpolate=False,alpha=0.4,label='Coals')\n",
    "axes.fill_between(time,B50CI_4,B50CI_3,facecolor='blue',edgecolor='none',interpolate=False,alpha=0.4,label='Coals')\n",
    "\n",
    "\n",
    "#axes.plot(time,data_G,'b', alpha=0.5)\n",
    "\n",
    "plt.xticks(np.hstack((data_time['FromAge'],data_time['ToAge'])),rotation=90,size=8) #, rotation=50,,verticalalignment='top'\n",
    "axes.set_ylabel('Latitude', fontsize=14) \n",
    "axes.set_xlabel('Time (Ma)', fontsize=14) \n",
    "axes.set_xlim((419,0))\n",
    "axes.set_ylim((-90,90))\n",
    "axes.xaxis.set_tick_params(direction='out')\n",
    "axes.yaxis.set_tick_params(labelsize=12,direction='out')\n",
    "axes.xaxis.set_ticks_position('both')\n",
    "axes.yaxis.set_ticks_position('left')\n",
    "#axes.legend()\n",
    "\n",
    "plt.savefig('Glacial_Bands_50&95_new.pdf',dpi=600)\n",
    "plt.show()"
   ]
  },
  {
   "cell_type": "code",
   "execution_count": 140,
   "metadata": {
    "collapsed": true
   },
   "outputs": [],
   "source": [
    "# climate gredient"
   ]
  },
  {
   "cell_type": "code",
   "execution_count": 162,
   "metadata": {
    "collapsed": false
   },
   "outputs": [
    {
     "data": {
      "image/png": "[encoded data removed]",
      "text/plain": [
       "<matplotlib.figure.Figure at 0x11c6969d0>"
      ]
     },
     "metadata": {},
     "output_type": "display_data"
    }
   ],
   "source": [
    "fig, axes = plt.subplots(nrows=1, ncols=1,figsize=(8, 4))\n",
    "\n",
    "data = pd.read_csv('/Users/wenchaocao/Desktop/ClimateGradients.csv')\n",
    "\n",
    "\n",
    "grad = np.zeros(len(data['Dataset y'][7::1])*2)\n",
    "grad[::2] = data['Dataset y'][7::1]\n",
    "grad[1::2] = data['Dataset y'][7::1]\n",
    "\n",
    "axes.plot(time,grad,linewidth=2,color='black')\n",
    "#plt.xticks(np.hstack((data_time['FromAge'],data_time['ToAge'])),rotation=90,size=8) #, rotation=50,,verticalalignment='top'\n",
    "\n",
    "axes.set_ylim((0,5.5))\n",
    "axes.set_xlim((419,0))\n",
    "axes.set_ylabel('Latitude', fontsize=14) \n",
    "axes.set_xlabel('Time (Ma)', fontsize=14) \n",
    "axes.set_xlim((419,0))\n",
    "axes.set_ylim(ymin=0)\n",
    "axes.xaxis.set_tick_params(direction='out')\n",
    "axes.yaxis.set_tick_params(labelsize=12,direction='out')\n",
    "axes.xaxis.set_ticks_position('both')\n",
    "axes.yaxis.set_ticks_position('left')\n",
    "#axes.grid(True)\n",
    "\n",
    "plt.savefig('ClimateGradients.pdf')"
   ]
  },
  {
   "cell_type": "code",
   "execution_count": null,
   "metadata": {
    "collapsed": true
   },
   "outputs": [],
   "source": []
  }
 ],
 "metadata": {
  "kernelspec": {
   "display_name": "Python 2",
   "language": "python",
   "name": "python2"
  },
  "language_info": {
   "codemirror_mode": {
    "name": "ipython",
    "version": 2
   },
   "file_extension": ".py",
   "mimetype": "text/x-python",
   "name": "python",
   "nbconvert_exporter": "python",
   "pygments_lexer": "ipython2",
   "version": "2.7.13"
  }
 },
 "nbformat": 4,
 "nbformat_minor": 2
}
