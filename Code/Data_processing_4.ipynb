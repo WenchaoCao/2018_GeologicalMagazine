{
 "cells": [
  {
   "cell_type": "markdown",
   "metadata": {},
   "source": [
    "# Materials associated with the paper: \n",
    "\n",
    "Cao, W., Williams, S., Flament, N., Zahirovic, S., Scotese, C., and Müller, R. D., 2018. Paleolatitudinal distribution of lithologic indicators of climate in a paleogeographic framework. Geological Magazine, 1-24.\n",
    "\n",
    "### This script is used to correct the bias due to uneven distribution of continent and normalized the data"
   ]
  },
  {
   "cell_type": "markdown",
   "metadata": {},
   "source": [
    "## Binning size: 5 degree"
   ]
  },
  {
   "cell_type": "markdown",
   "metadata": {},
   "source": [
    "### 1. correct the land bias"
   ]
  },
  {
   "cell_type": "code",
   "execution_count": 20,
   "metadata": {
    "collapsed": false
   },
   "outputs": [
    {
     "name": "stdout",
     "output_type": "stream",
     "text": [
      "36\n",
      "36\n"
     ]
    }
   ],
   "source": [
    "import pandas as pd\n",
    "import numpy as np\n",
    "import matplotlib.pyplot as plt\n",
    "\n",
    "%matplotlib inline\n",
    "\n",
    "#################################################\n",
    "# _Matthews2016 model, bin size: 5 degree\n",
    "# Coals\n",
    "#data_raw = pd.read_excel('/Users/wenchaocao/Research/41_Paleobiology_Paleotectonics/3_LithData_Number_InEachBand_SamplingBiasRemoved/Coals_Matthews2016_SamplingBiasCorrected_410-0Ma.xlsx', sheetname='Sheet1')\n",
    "#data = np.array(data_raw.T)\n",
    "\n",
    "# Evaporites\n",
    "#data_raw = pd.read_excel('/Users/wenchaocao/Research/41_Paleobiology_Paleotectonics/3_LithData_Number_InEachBand_SamplingBiasRemoved/Evaporites_Matthews2016_SamplingBiasCorrected_410-0Ma.xlsx', sheetname='Sheet1')\n",
    "#data = np.array(data_raw.T)\n",
    "\n",
    "# Glacial\n",
    "#data_raw = pd.read_excel('/Users/wenchaocao/Research/41_Paleobiology_Paleotectonics/3_LithData_Number_InEachBand_SamplingBiasRemoved/Glacial_Matthews2016_SamplingBiasCorrected_410-0Ma.xlsx', sheetname='Sheet1')\n",
    "#data = np.array(data_raw.T)\n",
    "\n",
    "# Matthews land areas before flipping\n",
    "#data_weighting_raw = pd.read_excel('/Users/wenchaocao/Research/41_Paleobiology_Paleotectonics/6_LandArea_InEachBand_InEachMap/1_LandArea_InEachBand_Matthews2016Modified_EachMap.xlsx')\n",
    "#data_weighting = np.array(data_weighting_raw.T)\n",
    "\n",
    "\n",
    "#################################################\n",
    "# Scotese2008 model\n",
    "# Coals\n",
    "#data_raw = pd.read_excel('/Users/wenchaocao/Research/41_Paleobiology_Paleotectonics/3_LithData_Number_InEachBand_SamplingBiasRemoved/Coals_Scotese2008_SamplingBiasCorrected_410-0Ma.xlsx', sheetname='Sheet1')\n",
    "#data = np.array(data_raw.T)\n",
    "\n",
    "# Evaporites\n",
    "#data_raw = pd.read_excel('/Users/wenchaocao/Research/41_Paleobiology_Paleotectonics/3_LithData_Number_InEachBand_SamplingBiasRemoved/Evaporites_Matthews2016_SamplingBiasCorrected_410-0Ma.xlsx', sheetname='Sheet1')\n",
    "#data = np.array(data_raw.T)\n",
    "\n",
    "# Glacial\n",
    "#data_raw = pd.read_excel('/Users/wenchaocao/Research/41_Paleobiology_Paleotectonics/3_LithData_Number_InEachBand_SamplingBiasRemoved/Glacial_Scotese2008_SamplingBiasCorrected_410-0Ma.xlsx', sheetname='Sheet1')\n",
    "#data = np.array(data_raw.T)\n",
    "\n",
    "# Scotese land areas before flipping\n",
    "#data_weighting_raw = pd.read_excel('/Users/wenchaocao/Research/41_Paleobiology_Paleotectonics/6_LandArea_InEachBand_InEachMap/2_LandArea_InEachBand_Scotese2008_EachMap.xlsx', sheetname='Sheet2')\n",
    "#data_weighting = np.array(data_weighting_raw)\n",
    "\n",
    "\n",
    "#################################################\n",
    "# matthews2016 model\n",
    "# data only sampling bias removed, binning size: 5 degree\n",
    "#data_raw = pd.read_excel('/Users/wenchaocao/Research/41_Paleobiology_Paleotectonics/3_LithData_Number_InEachBand_SamplingBiasRemoved/Coals_Matthews2016_SamplingBiasCorrected_410-0Ma_BinningSize5.xlsx')\n",
    "#data = data_raw.T\n",
    "\n",
    "\n",
    "#################################################\n",
    "# Golonka model\n",
    "data_raw = pd.read_excel('/Users/wenchaocao/Research/41_Paleobiology_Paleotectonics/3_LithData_Number_InEachBand_SamplingBiasRemoved/Glacial_Golonka_SamplingBiasCorrected_410-0Ma_BinningSize5.xlsx')\n",
    "data = data_raw.T\n",
    "print len(data)\n",
    "\n",
    "# Golonka land areas before flipping\n",
    "data_weighting_raw = pd.read_excel('/Users/wenchaocao/Research/41_Paleobiology_Paleotectonics/6_LandArea_InEachBand_InEachMap/LandAreas_Golonka_BinningSize5.xlsx')\n",
    "print len(data_weighting_raw)\n"
   ]
  },
  {
   "cell_type": "code",
   "execution_count": 21,
   "metadata": {
    "collapsed": false
   },
   "outputs": [],
   "source": [
    "data_weighted = np.zeros((36,24)) # np.zeros((18,24))\n",
    "for i in np.arange(0,24,1):\n",
    "    #print np.max(data_coal[:,i:i+1])\n",
    "    #data_weighted[:,i] = np.int32(100000*np.float64(data[:,i])/data_weighting[:,i])\n",
    "    data_weighted[:,i] = np.float64(np.float64(data.iloc[:,i])/data_weighting_raw.iloc[:,i])\n",
    "    "
   ]
  },
  {
   "cell_type": "code",
   "execution_count": 22,
   "metadata": {
    "collapsed": true
   },
   "outputs": [],
   "source": [
    "df = pd.DataFrame(data_weighted)\n",
    "writer = pd.ExcelWriter('/Users/wenchaocao/Research/41_Paleobiology_Paleotectonics/9_1_LithData_TwoBiasRemoved_CorrectedBeforeFlipping/Glacial_Golonka_TwoBiasRemoved_CorrectedBeforeFlipping_BinningSize5.xlsx', engine='xlsxwriter') # Evaporite\n",
    "df.to_excel(writer, sheet_name='Sheet1')\n",
    "writer.save()"
   ]
  },
  {
   "cell_type": "markdown",
   "metadata": {},
   "source": [
    "### 2. Flipped data on south hemisphere over the north"
   ]
  },
  {
   "cell_type": "code",
   "execution_count": 41,
   "metadata": {
    "collapsed": false
   },
   "outputs": [],
   "source": [
    "import pandas as pd\n",
    "import numpy as np\n",
    "import matplotlib.pyplot as plt\n",
    "\n",
    "###########################################\n",
    "# Matthews2016, binning size: 5 degree\n",
    "# corrected land bias after flipping\n",
    "#data = pd.read_excel('/Users/wenchaocao/Research/41_Paleobiology_Paleotectonics/6_LandArea_InEachBand_InEachMap/1_LandArea_InEachBand_Matthews2016Modified_EachMap.xlsx')\n",
    "#data_raw = np.array(data).T\n",
    "#print data\n",
    "\n",
    "# corrected land bias before flipping\n",
    "# Coals\n",
    "#data = pd.read_excel('/Users/wenchaocao/Research/41_Paleobiology_Paleotectonics/9_1_LithData_TwoBiasRemoved_CorrectedBeforeFlipping/Coals_TwoBiasRemoved_CorrectedBeforeFlipping.xlsx')\n",
    "\n",
    "# Evaporites\n",
    "#data = pd.read_excel('/Users/wenchaocao/Research/41_Paleobiology_Paleotectonics/9_1_LithData_TwoBiasRemoved_CorrectedBeforeFlipping/Evaporites_TwoBiasRemoved_CorrectedBeforeFlipping.xlsx')\n",
    "\n",
    "# Glacial\n",
    "#data = pd.read_excel('/Users/wenchaocao/Research/41_Paleobiology_Paleotectonics/9_1_LithData_TwoBiasRemoved_CorrectedBeforeFlipping/Glacial_TwoBiasRemoved_CorrectedBeforeFlipping.xlsx')\n",
    "\n",
    "###########################################\n",
    "# Matthews2016, binning size: 10 degree\n",
    "# Coals\n",
    "#data = pd.read_excel('/Users/wenchaocao/Research/41_Paleobiology_Paleotectonics/9_1_LithData_TwoBiasRemoved_CorrectedBeforeFlipping/Coals_Mattews2016_TwoBiasRemoved_CorrectedBeforeFlipping_BinningSize10.xlsx')\n",
    "\n",
    "\n",
    "###########################################\n",
    "# Scotese2008\n",
    "# corrected land bias before flipping\n",
    "# Coals\n",
    "#data = pd.read_excel('//Users/wenchaocao/Research/41_Paleobiology_Paleotectonics/9_1_LithData_TwoBiasRemoved_CorrectedBeforeFlipping/Coals_Scotese2008_TwoBiasRemoved_CorrectedBeforeFlipping.xlsx')\n",
    "# Evaporites\n",
    "#data = pd.read_excel('/Users/wenchaocao/Research/41_Paleobiology_Paleotectonics/9_1_LithData_TwoBiasRemoved_CorrectedBeforeFlipping/Evaporites_Scotese2008_TwoBiasRemoved_CorrectedBeforeFlipping.xlsx')\n",
    "# Glacial\n",
    "#data = pd.read_excel('/Users/wenchaocao/Research/41_Paleobiology_Paleotectonics/9_1_LithData_TwoBiasRemoved_CorrectedBeforeFlipping/Glacial_Scotese2008_TwoBiasRemoved_CorrectedBeforeFlipping.xlsx')\n",
    "\n",
    "\n",
    "###########################################\n",
    "# Golonka model\n",
    "data = pd.read_excel('/Users/wenchaocao/Research/41_Paleobiology_Paleotectonics/9_1_LithData_TwoBiasRemoved_CorrectedBeforeFlipping/Evaporites_Golonka_TwoBiasRemoved_CorrectedBeforeFlipping_BinningSize5.xlsx')\n",
    "\n",
    "\n"
   ]
  },
  {
   "cell_type": "code",
   "execution_count": 42,
   "metadata": {
    "collapsed": false
   },
   "outputs": [],
   "source": [
    "data_filpped = np.zeros((18,24)) # define an array of 36x23\n",
    "for i in np.arange(0,25,1):\n",
    "    data_filpped = data.iloc[:18,0:i]+np.flipud(data.iloc[18:,0:i])\n",
    "#print data_filpped"
   ]
  },
  {
   "cell_type": "code",
   "execution_count": 31,
   "metadata": {
    "collapsed": true
   },
   "outputs": [],
   "source": [
    "df = pd.DataFrame(data_filpped)\n",
    "writer = pd.ExcelWriter('/Users/wenchaocao/Research/41_Paleobiology_Paleotectonics/9_2_LithData_TwoBiasRemoved_CorrectedBeforeFlipping_Flipped/Glacial_Golonka_TwoBiasRemoved_Flipped_Doubled_BinningSize5.xlsx', engine='xlsxwriter') # Evaporite\n",
    "df.to_excel(writer, sheet_name='Sheet1')\n",
    "writer.save()"
   ]
  },
  {
   "cell_type": "markdown",
   "metadata": {},
   "source": [
    "### 3. Doubled the data"
   ]
  },
  {
   "cell_type": "code",
   "execution_count": 43,
   "metadata": {
    "collapsed": false
   },
   "outputs": [],
   "source": [
    "data_doubled = np.zeros((36,24)) # define an array of 36x23\n",
    "for i in np.arange(0,24,1):\n",
    "    data_doubled[:,i] = list(data_filpped.iloc[:,i])+list(np.flipud(data_filpped.iloc[:,i]))"
   ]
  },
  {
   "cell_type": "code",
   "execution_count": 44,
   "metadata": {
    "collapsed": true
   },
   "outputs": [],
   "source": [
    "df = pd.DataFrame(data_doubled)\n",
    "writer = pd.ExcelWriter('/Users/wenchaocao/Research/41_Paleobiology_Paleotectonics/9_3_LithData_TwoBiasRemoved_CorrectedBeforeFlipping_Doubled/Evaporites_Golonka_TwoBiasRemoved_CorrectedBeforeFlipping_Flipped_Doubled_BinningSize5.xlsx', engine='xlsxwriter') # Evaporite\n",
    "df.to_excel(writer, sheet_name='Sheet1')\n",
    "writer.save()"
   ]
  },
  {
   "cell_type": "markdown",
   "metadata": {},
   "source": [
    "### 4. Normalise the data"
   ]
  },
  {
   "cell_type": "code",
   "execution_count": null,
   "metadata": {
    "collapsed": true
   },
   "outputs": [],
   "source": [
    "import pandas as pd\n",
    "import numpy as np\n",
    "\n",
    "data_raw = pd.read_excel('/Users/wenchaocao/Research/41_Paleobiology_Paleotectonics/9_3_LithData_TwoBiasRemoved_CorrectedBeforeFlipping_Doubled/Glacial_Golonka_TwoBiasRemoved_CorrectedBeforeFlipping_Flipped_Doubled_BinningSize5.xlsx')\n",
    "data = data_raw.T\n",
    "\n",
    "data_doubled_normarlised = np.zeros((36,24))\n",
    "for i in np.arange(0,24,1):\n",
    "    #print data_doubled[:,i]\n",
    "    data_doubled_normarlised[:,i] = data_raw.iloc[:,i]/sum(data_raw.iloc[:,i])\n",
    "    \n",
    "df = pd.DataFrame(data_doubled_normarlised)\n",
    "writer = pd.ExcelWriter('/Users/wenchaocao/Research/41_Paleobiology_Paleotectonics/9_3_LithData_TwoBiasRemoved_CorrectedBeforeFlipping_Doubled/Glacial_Golonka_TwoBiasRemoved_CorrectedBeforeFlipping_Flipped_Doubled_BinningSize5_Normarlised.xlsx', engine='xlsxwriter') # Evaporite\n",
    "df.to_excel(writer, sheet_name='Sheet1')\n",
    "writer.save()"
   ]
  },
  {
   "cell_type": "markdown",
   "metadata": {},
   "source": [
    "## Binning size: 10 degree"
   ]
  },
  {
   "cell_type": "code",
   "execution_count": 46,
   "metadata": {
    "collapsed": false
   },
   "outputs": [
    {
     "name": "stdout",
     "output_type": "stream",
     "text": [
      "[[1511 1512 1512 1512 1512 1512 1511 1512 1511 1507 1327 1088  127    0\n",
      "   726 1451 1510 1511 1510 1506 1482 1505 1512 1512]\n",
      " [4121 4428 4428 4427 4404 4394 4381 4383 4340 3721 2693 2363 1436  547\n",
      "  2237 3309 3810 3983 3487 3332 3320 3419 3595 3850]\n",
      " [5274 7085 7243 7283 7148 7156 7001 5892 5592 4852 4372 4125 3044 2377\n",
      "  3608 4523 3805 2995 2452 2503 2414 2225 2004 1756]\n",
      " [6697 8329 8729 9119 7602 8042 7226 6564 6443 5806 5371 5218 4535 3786\n",
      "  4520 4356 3051 3079 3041 2375 2137 1464 1054  721]\n",
      " [8648 9328 8647 7521 8010 7386 7174 6259 5911 5613 5307 5587 5416 4709\n",
      "  4803 3373 3763 3908 4213 4239 3769 3094 1812 1294]\n",
      " [8887 6607 6364 6608 7163 7449 6665 5319 5055 5329 4419 5012 5989 5399\n",
      "  3921 3132 4063 4687 4512 4742 4628 4547 4222 3194]\n",
      " [7323 6491 6337 5857 5421 4152 4360 4375 4439 4664 4174 4349 5351 4114\n",
      "  3317 3481 3342 4080 3932 3920 4199 4780 5112 4886]\n",
      " [6099 5210 5409 5933 4812 3687 3726 4085 4213 4693 4947 4426 4523 4226\n",
      "  4142 3998 4087 3989 4906 4103 4031 4346 4879 5279]\n",
      " [4586 4502 4522 4418 4542 4017 3685 3613 3675 4279 5218 4902 4383 4396\n",
      "  4356 4447 4917 4846 5068 5309 4058 3974 4688 5832]\n",
      " [2639 2179 2496 2940 2956 3562 4481 4381 4276 4195 4370 4400 4103 4239\n",
      "  3859 4626 4542 4558 4479 5045 5261 5262 5506 5121]\n",
      " [1376 1212 1075 1034 2748 4156 4784 4732 4542 3704 4789 4432 4688 4365\n",
      "  3891 3628 3835 3879 4201 4426 5995 6356 6073 5910]\n",
      " [2594 2121 2076 2032 2538 2760 3160 4215 4502 4412 4100 4758 3888 4350\n",
      "  4296 4574 4008 4120 4261 4499 4924 5803 6765 7858]\n",
      " [2768 2976 2905 2601 2417 2123 2237 3166 3482 3969 5239 4384 4023 4667\n",
      "  6149 7061 6025 6342 6665 6522 6183 6209 6621 7533]\n",
      " [ 842  484  564 1068 1162 1612 1620 2238 2504 3647 4646 4836 4389 5703\n",
      "  6823 6835 7255 7146 7082 7115 7185 7676 7723 7625]\n",
      " [  29  880  694   40  210  675 1228 1710 2320 2379 2705 3355 4275 5908\n",
      "  5720 5855 6285 6190 6139 6256 6470 6681 6860 7397]\n",
      " [   0   55  339  610  442  312  588 1819 1292 1272 1554 1743 3962 4607\n",
      "  4013 4099 4745 4625 4656 4886 6000 6162 6250 6456]\n",
      " [   0    0    0  378  380  507  609  255  403  857 1226 1421 2331 3107\n",
      "  2450 1905 3252 2885 2875 3227 3720 3878 3899 3305]\n",
      " [   0    0    0    0    0  188   55    0    0  136  533  535  735 1488\n",
      "   669  733  599  762  860  785  635  432  247  416]]\n"
     ]
    },
    {
     "name": "stderr",
     "output_type": "stream",
     "text": [
      "/Users/wenchaocao/anaconda/lib/python2.7/site-packages/ipykernel/__main__.py:31: RuntimeWarning: invalid value encountered in divide\n"
     ]
    }
   ],
   "source": [
    "import pandas as pd\n",
    "import numpy as np\n",
    "import matplotlib.pyplot as plt\n",
    "\n",
    "%matplotlib inline\n",
    "\n",
    "#################################################\n",
    "# Matthews2016 model, bin size: 10 degree\n",
    "# Coals \n",
    "#data_raw = pd.read_excel('/Users/wenchaocao/Research/41_Paleobiology_Paleotectonics/3_LithData_Number_InEachBand_SamplingBiasRemoved/Coals_Matthews2016_SamplingBiasCorrected_410-0Ma_BinningSize10.xlsx')\n",
    "#data = np.array(data_raw.T)\n",
    "\n",
    "# Evaporites\n",
    "#data_raw = pd.read_excel('/Users/wenchaocao/Research/41_Paleobiology_Paleotectonics/3_LithData_Number_InEachBand_SamplingBiasRemoved/Evaporites_Matthews2016_SamplingBiasCorrected_410-0Ma_BinningSize10.xlsx')\n",
    "#data = np.array(data_raw.T)\n",
    "\n",
    "# Glacial deposits\n",
    "data_raw = pd.read_excel('/Users/wenchaocao/Research/41_Paleobiology_Paleotectonics/3_LithData_Number_InEachBand_SamplingBiasRemoved/Glacial_Matthews2016_SamplingBiasCorrected_410-0Ma_BinningSize10.xlsx')\n",
    "data = np.array(data_raw.T)\n",
    "\n",
    "\n",
    "# Matthews land areas before flipping, bin size: 10 degree\n",
    "data_weighting_raw = pd.read_excel('/Users/wenchaocao/Research/41_Paleobiology_Paleotectonics/6_LandArea_InEachBand_InEachMap/LandAreas_Matthews2016_BinningSize10.xlsx')\n",
    "data_weighting = np.array(data_weighting_raw)\n",
    "print data_weighting\n",
    "\n",
    "### 1. correct the land bias\n",
    "\n",
    "data_weighted = np.zeros((18,24)) # np.zeros((18,24))\n",
    "for i in np.arange(0,24,1):\n",
    "    data_weighted[:,i] = np.float64(np.float64(data[:,i])/data_weighting[:,i])\n",
    "\n",
    "df = pd.DataFrame(data_weighted)\n",
    "writer = pd.ExcelWriter('/Users/wenchaocao/Research/41_Paleobiology_Paleotectonics/9_1_LithData_TwoBiasRemoved_CorrectedBeforeFlipping/Glacial_Mattews2016_TwoBiasRemoved_CorrectedBeforeFlipping_BinningSize10.xlsx', engine='xlsxwriter') # Evaporite\n",
    "df.to_excel(writer, sheet_name='Sheet1')\n",
    "writer.save()"
   ]
  },
  {
   "cell_type": "code",
   "execution_count": 48,
   "metadata": {
    "collapsed": false
   },
   "outputs": [],
   "source": [
    "### 2. Flipped data on south hemisphere over the north\n",
    "\n",
    "data = pd.read_excel('/Users/wenchaocao/Research/41_Paleobiology_Paleotectonics/9_1_LithData_TwoBiasRemoved_CorrectedBeforeFlipping/Glacial_Mattews2016_TwoBiasRemoved_CorrectedBeforeFlipping_BinningSize10.xlsx')\n",
    "\n",
    "data_filpped = np.zeros((9,24)) # define an array of 36x23\n",
    "for i in np.arange(0,25,1):\n",
    "    data_filpped = data.iloc[:9,0:i]+np.flipud(data.iloc[9:,0:i])\n",
    "\n",
    "df = pd.DataFrame(data_filpped)\n",
    "writer = pd.ExcelWriter('/Users/wenchaocao/Research/41_Paleobiology_Paleotectonics/9_2_LithData_TwoBiasRemoved_CorrectedBeforeFlipping_Flipped/Glacial_Matthews2016_TwoBiasRemoved_CorrectedBeforeFlipping_Flipped_BinningSize10.xlsx', engine='xlsxwriter') # Evaporite\n",
    "df.to_excel(writer, sheet_name='Sheet1')\n",
    "writer.save()\n",
    "\n",
    "### 4. Doubled the data\n",
    "\n",
    "data_filpped = pd.read_excel('/Users/wenchaocao/Research/41_Paleobiology_Paleotectonics/9_2_LithData_TwoBiasRemoved_CorrectedBeforeFlipping_Flipped/Glacial_Matthews2016_TwoBiasRemoved_CorrectedBeforeFlipping_Flipped_BinningSize10.xlsx')\n",
    "\n",
    "data_doubled = np.zeros((18,24)) # define an array of 36x23\n",
    "#print data_filpped.iloc[:,0]\n",
    "#print np.flipud(data_filpped.iloc[:,0])\n",
    "for i in np.arange(0,24,1):\n",
    "    data_doubled[:,i] = list(data_filpped.iloc[:,i])+list(np.flipud(data_filpped.iloc[:,i]))\n",
    "    #print data_doubled[:,i]\n",
    "\n",
    "df = pd.DataFrame(data_doubled)\n",
    "writer = pd.ExcelWriter('/Users/wenchaocao/Research/41_Paleobiology_Paleotectonics/9_3_LithData_TwoBiasRemoved_CorrectedBeforeFlipping_Doubled/Glacial_Matthews2016_TwoBiasRemoved_CorrectedBeforeFlipping_Flipped_Doubled_BinningSize10.xlsx', engine='xlsxwriter') # Evaporite\n",
    "df.to_excel(writer, sheet_name='Sheet1')\n",
    "writer.save()"
   ]
  },
  {
   "cell_type": "markdown",
   "metadata": {},
   "source": [
    "## Binning size: 2 degree"
   ]
  },
  {
   "cell_type": "markdown",
   "metadata": {},
   "source": [
    "### 1. Correct the land area bias"
   ]
  },
  {
   "cell_type": "code",
   "execution_count": 64,
   "metadata": {
    "collapsed": false
   },
   "outputs": [],
   "source": [
    "import pandas as pd\n",
    "import numpy as np\n",
    "import matplotlib.pyplot as plt\n",
    "\n",
    "%matplotlib inline\n",
    "\n",
    "#################################################\n",
    "# Matthews2016 model, bin size: 10 degree\n",
    "# Coals \n",
    "data_raw = pd.read_excel('/Users/wenchaocao/Research/41_Paleobiology_Paleotectonics/3_LithData_Number_InEachBand_SamplingBiasRemoved/Evaporites_Matthews2016_SamplingBiasCorrected_410-0Ma_BinningSize2.xlsx')\n",
    "data = np.array(data_raw.T)\n",
    "#print data\n",
    "\n",
    "# Matthews land areas before flipping, bin size: 10 degree\n",
    "data_weighting_raw = pd.read_excel('/Users/wenchaocao/Research/41_Paleobiology_Paleotectonics/6_LandArea_InEachBand_InEachMap/LandAreas_Matthews2016_BinningSize2.xlsx')\n",
    "data_weighting = np.array(data_weighting_raw)\n",
    "#print data_weighting\n"
   ]
  },
  {
   "cell_type": "code",
   "execution_count": 65,
   "metadata": {
    "collapsed": false
   },
   "outputs": [
    {
     "name": "stderr",
     "output_type": "stream",
     "text": [
      "/Users/wenchaocao/anaconda/lib/python2.7/site-packages/ipykernel/__main__.py:3: RuntimeWarning: invalid value encountered in divide\n",
      "  app.launch_new_instance()\n"
     ]
    }
   ],
   "source": [
    "data_weighted = np.zeros((90,24)) # np.zeros((18,24))\n",
    "for i in np.arange(0,24,1):\n",
    "    data_weighted[:,i] = np.float64(np.float64(data[:,i])/data_weighting[:,i])"
   ]
  },
  {
   "cell_type": "code",
   "execution_count": 66,
   "metadata": {
    "collapsed": true
   },
   "outputs": [],
   "source": [
    "df = pd.DataFrame(data_weighted)\n",
    "writer = pd.ExcelWriter('/Users/wenchaocao/Research/41_Paleobiology_Paleotectonics/9_1_LithData_TwoBiasRemoved_CorrectedBeforeFlipping/Evaporites_Mattews2016_TwoBiasRemoved_CorrectedBeforeFlipping_BinningSize2.xlsx', engine='xlsxwriter') # Evaporite\n",
    "df.to_excel(writer, sheet_name='Sheet1')\n",
    "writer.save()"
   ]
  },
  {
   "cell_type": "markdown",
   "metadata": {},
   "source": [
    "### 2. Flipped data on south hemisphere over the north"
   ]
  },
  {
   "cell_type": "code",
   "execution_count": 67,
   "metadata": {
    "collapsed": false
   },
   "outputs": [],
   "source": [
    "import pandas as pd\n",
    "import numpy as np\n",
    "import matplotlib.pyplot as plt\n",
    "\n",
    "###########################################\n",
    "# Matthews2016, binning size: 10 degree\n",
    "# Coals\n",
    "data = pd.read_excel('/Users/wenchaocao/Research/41_Paleobiology_Paleotectonics/9_1_LithData_TwoBiasRemoved_CorrectedBeforeFlipping/Evaporites_Mattews2016_TwoBiasRemoved_CorrectedBeforeFlipping_BinningSize2.xlsx')\n"
   ]
  },
  {
   "cell_type": "code",
   "execution_count": 68,
   "metadata": {
    "collapsed": true
   },
   "outputs": [],
   "source": [
    "data_filpped = np.zeros((90,24)) # define an array of 36x23\n",
    "for i in np.arange(0,25,1):\n",
    "    data_filpped = data.iloc[:45,0:i]+np.flipud(data.iloc[45:,0:i])\n"
   ]
  },
  {
   "cell_type": "code",
   "execution_count": 69,
   "metadata": {
    "collapsed": true
   },
   "outputs": [],
   "source": [
    "df = pd.DataFrame(data_filpped)\n",
    "writer = pd.ExcelWriter('/Users/wenchaocao/Research/41_Paleobiology_Paleotectonics/9_2_LithData_TwoBiasRemoved_CorrectedBeforeFlipping_Flipped/Evaporites_Matthews2016_TwoBiasRemoved_CorrectedBeforeFlipping_Flipped_BinningSize2.xlsx', engine='xlsxwriter') # Evaporite\n",
    "df.to_excel(writer, sheet_name='Sheet1')\n",
    "writer.save()"
   ]
  },
  {
   "cell_type": "markdown",
   "metadata": {},
   "source": [
    "### 3. Doubled the data"
   ]
  },
  {
   "cell_type": "code",
   "execution_count": 70,
   "metadata": {
    "collapsed": true
   },
   "outputs": [],
   "source": [
    "import pandas as pd\n",
    "import numpy as np\n",
    "import matplotlib.pyplot as plt\n",
    "\n",
    "########################################################\n",
    "# Matthews2016, binning size: 2 degree\n",
    "# Coals\n",
    "data_filpped = pd.read_excel('/Users/wenchaocao/Research/41_Paleobiology_Paleotectonics/9_2_LithData_TwoBiasRemoved_CorrectedBeforeFlipping_Flipped/Evaporites_Matthews2016_TwoBiasRemoved_CorrectedBeforeFlipping_Flipped_BinningSize2.xlsx')\n"
   ]
  },
  {
   "cell_type": "code",
   "execution_count": 71,
   "metadata": {
    "collapsed": true
   },
   "outputs": [],
   "source": [
    "data_doubled = np.zeros((90,24))\n",
    "for i in np.arange(0,24,1):\n",
    "    data_doubled[:,i] = list(data_filpped.iloc[:,i])+list(np.flipud(data_filpped.iloc[:,i]))\n"
   ]
  },
  {
   "cell_type": "code",
   "execution_count": 72,
   "metadata": {
    "collapsed": true
   },
   "outputs": [],
   "source": [
    "df = pd.DataFrame(data_doubled)\n",
    "writer = pd.ExcelWriter('/Users/wenchaocao/Research/41_Paleobiology_Paleotectonics/9_3_LithData_TwoBiasRemoved_CorrectedBeforeFlipping_Doubled/Evaporites_Matthews2016_TwoBiasRemoved_CorrectedBeforeFlipping_Flipped_Doubled_BinningSize2.xlsx', engine='xlsxwriter') # Evaporite\n",
    "df.to_excel(writer, sheet_name='Sheet1')\n",
    "writer.save()"
   ]
  }
 ],
 "metadata": {
  "kernelspec": {
   "display_name": "Python 2",
   "language": "python",
   "name": "python2"
  },
  "language_info": {
   "codemirror_mode": {
    "name": "ipython",
    "version": 2
   },
   "file_extension": ".py",
   "mimetype": "text/x-python",
   "name": "python",
   "nbconvert_exporter": "python",
   "pygments_lexer": "ipython2",
   "version": "2.7.13"
  }
 },
 "nbformat": 4,
 "nbformat_minor": 0
}
